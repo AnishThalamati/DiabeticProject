{
 "cells": [
  {
   "cell_type": "markdown",
   "metadata": {},
   "source": [
    "   DIABETIC PATIENT'S DATA ANALYSIS OF THE DATA FROM GLUCOSE MONITORS, ACTIVITY SENSORS, SLEEP SENSORS AND LOCATION MONITORS\n",
    "\n",
    "CONTEXT OF THE PROJECT:\n",
    "A type 1 diabetic patient uses a Continuous Glucose Monitoring (CGM) device to monitor the blood sugar and to keep track of the changes in the blood levels of the blood glucose levels. These CGM devices be used alone or in conjunction with digitally connected medical devices for the purpose of managing diabetes. One such digitally connected medical device is an automated insulin pump, typically called as automated insulin dosing (AID) systems.\n",
    "It is logically to conclude that the amount of blood glucose are influenced by the amount to sugar consumed by the patient.\n",
    "This project connects data from other health sensors to relate the influence of these parameters with the patient’s blood glucose. Co-relating blood glucose levels to multiple features can help in the holistic control of blood glucose levels for the patient. \n",
    "\n",
    "CONTENTS OF THE DATA:\n",
    "\tRaw data was collected from a type 1 diabetes patient who uses a CGM device for monitoring his blood glucose levels.\n",
    "\tAlong with a CGM device, this patient also uses the following health monitors:\n",
    "1.\tA sleep monitoring device (Beddit) which records the features related to the patient’s sleep patterns\n",
    "2.\tAn activity tracker\n",
    "3.\tA location monitor\n",
    "DATA DICTIONARY:\n",
    "1.\tCGM data: Contained the blood glucose data (dependent variable) obtained from the CGM device. This device collects continuous data every 15 mins. This data set has 6839 instances with 4 features: \n",
    "\n",
    "-\tTime: Contained the date time stamp of the event \n",
    "-\tRecord_Type: Contained data  about the type of the record.\n",
    "o\tTwo types of record: \n",
    "\t‘0’ means the machine automatically generates the blood glucose levels at the prefixed programmed time intervals \n",
    "\t‘1’ means the blood glucose level is voluntarily measured by the patient.\n",
    "\n",
    "-\tHistoric_ Glucose: Contained the data from the automatic measurements from the CGM device\n",
    "\n",
    "-\tScan_Glucose: This feature contains the data from the voluntary measurements from the CGM device\n",
    "\n",
    "\n",
    "2.\tBeddit data: This data set contains data about the patient’s sleep pattern. It had 30 instances with 18 features. \n",
    "\n",
    "-\taverage_respiration_rate: Contained the data about the respiratory rate of the patient in breaths per minute\n",
    "\n",
    "-\taway_duration: Contained data about the amount of time (in seconds) the patient was out of the bed \t\n",
    "\n",
    "\n",
    "-\tbeddit_user_id: Contained the device generated user ID\t\n",
    "\n",
    "-\tdate: Contained the date stamp of the event\t\n",
    "\n",
    "\n",
    "-\tend_timestamp\tid: Contained the time stamp about the end of the sleeping duration.\t\n",
    "\n",
    "-\tresting_heart_rate: Contained data of the average heart rate of the patient during sleep and measured as beats/ minute\n",
    "\n",
    "\t\n",
    "-\tscore_amount_of_sleep, score_awakenings, score_bed_exits, score_sleep_efficiency, score_sleep_latency, score_snoring :These features had empty instances (0 values)\t\n",
    "-\tsleep_duration: Contained the total sleep time (in seconds)\n",
    "\n",
    "-\tstart_timestamp: The time stamp of the sleeping cycle\t\n",
    "\n",
    "\n",
    "-\ttimezone: Contained the data about the time zone device works on ( here it works in “Berlin time” zone)\t\n",
    "\n",
    "-\tupdated: Contained the datetime stamp when the data was populated in the device\t\n",
    "\n",
    "\n",
    "-\twake_duration: Contained the time in seconds during which the patient was awake.\n",
    "\n",
    "3.\tSteps data: Contained the data about the patient’s activity profile. This dataset had 9  features and 31 instances.\n",
    "\n",
    "-\tactive_time: Data about the the patient’s activity duration (seconds)\n",
    "\t\n",
    "-\tdate: Contained the date of the event\t\n",
    "\n",
    "\n",
    "-\tdistance: Data about the user’s distance covered during the activity (meters)\n",
    "\t\n",
    "-\tid: Device generated reference IDs\t\n",
    "\n",
    "\n",
    "-\tjawbone_user_id: Device generated reference IDs\n",
    "\t\n",
    "-\tsteps: The count of the number of steps taken by the user to cover the specific distance \n",
    "-\tsteps_id: Device generated reference IDs\t\n",
    "\n",
    "-\ttimezone: “Berlin Zone”\t\n",
    "\n",
    "\n",
    "-\tupdated: date the data was saved to the device\n",
    "\n",
    "INSPIRATION AND OBJECTIVES:\n",
    "1.\tTo clean the raw data for analysis and derive insights from the data\n",
    "\n",
    "2.\tTo create visualizations using the data using python and tableau to help generate insights and relation between the various features.\n",
    "\n",
    "3.\tTo build a log reg model which can be used to decide which of these features has a better influence on the patient’s diabetic control apart from his diet.\n"
   ]
  },
  {
   "cell_type": "code",
   "execution_count": 4,
   "metadata": {},
   "outputs": [],
   "source": [
    "#Importing the necessary python packages and modules\n",
    "import pandas as pd\n",
    "import numpy as np\n",
    "import seaborn as sns\n",
    "import matplotlib.pyplot as plt\n",
    "%matplotlib inline"
   ]
  },
  {
   "cell_type": "code",
   "execution_count": 15,
   "metadata": {},
   "outputs": [],
   "source": [
    "#Connecting to the data for analysis\n",
    "glucose = pd.read_csv('cgm_date.csv')\n",
    "steps = pd.read_csv('steps_date.csv')\n",
    "sleep = pd.read_csv('beddit_date.csv')\n",
    "gps = pd.read_csv('loc_date.csv')"
   ]
  },
  {
   "cell_type": "code",
   "execution_count": 6,
   "metadata": {},
   "outputs": [],
   "source": [
    "# File naming explanation:\n",
    "\n",
    "#'glucose' is the file that contains the data about the user glucose measurements from the sensor\n",
    "\n",
    "#'steps' conatins the data from the activity monitor of the patient\n",
    "\n",
    "#'sleep' contains the data from the device 'beddit' which tracks information about the users sleep timings\n",
    "\n",
    "#'gps' contains users location data and the amount of time spent in a particular location."
   ]
  },
  {
   "cell_type": "code",
   "execution_count": 5,
   "metadata": {},
   "outputs": [],
   "source": [
    "# Exploratory data analysis"
   ]
  },
  {
   "cell_type": "raw",
   "metadata": {},
   "source": [
    "glucose.dtypes\n",
    "cgmdate                int64\n",
    "cgmtime                int64\n",
    "Historic_ Glucose    float64\n",
    "Scan_Glucose         float64\n",
    "dtype: object\n",
    "\n",
    "steps.dtypes\n",
    "stepsdate      int64\n",
    "stepstime      int64\n",
    "active_time    int64\n",
    "distance       int64\n",
    "id             int64\n",
    "steps          int64\n",
    "dtype: object\n",
    "\n",
    "sleep.dtypes\n",
    "Unnamed: 0              int64\n",
    "start_date              int64\n",
    "start_time              int64\n",
    "end_date                int64\n",
    "end_time                int64\n",
    "sleep_duration          int64\n",
    "wake_duration           int64\n",
    "away_duration           int64\n",
    "resting_heart_rate    float64\n",
    "avr_resp_rate         float64\n",
    "dtype: object\n",
    "    \n",
    "gps.dtypes\n",
    "enddate              int64\n",
    "endtime              int64\n",
    "startdate            int64\n",
    "starttime            int64\n",
    "time_spent\\nH:MM    object\n",
    "type                object\n",
    "dtype: object"
   ]
  },
  {
   "cell_type": "code",
   "execution_count": 8,
   "metadata": {},
   "outputs": [
    {
     "data": {
      "text/html": [
       "<div>\n",
       "<style scoped>\n",
       "    .dataframe tbody tr th:only-of-type {\n",
       "        vertical-align: middle;\n",
       "    }\n",
       "\n",
       "    .dataframe tbody tr th {\n",
       "        vertical-align: top;\n",
       "    }\n",
       "\n",
       "    .dataframe thead th {\n",
       "        text-align: right;\n",
       "    }\n",
       "</style>\n",
       "<table border=\"1\" class=\"dataframe\">\n",
       "  <thead>\n",
       "    <tr style=\"text-align: right;\">\n",
       "      <th></th>\n",
       "      <th>cgmdate</th>\n",
       "      <th>cgmtime</th>\n",
       "      <th>Historic_ Glucose</th>\n",
       "      <th>Scan_Glucose</th>\n",
       "    </tr>\n",
       "  </thead>\n",
       "  <tbody>\n",
       "    <tr>\n",
       "      <th>0</th>\n",
       "      <td>100120170000</td>\n",
       "      <td>10019001734</td>\n",
       "      <td>72.0</td>\n",
       "      <td>NaN</td>\n",
       "    </tr>\n",
       "    <tr>\n",
       "      <th>1</th>\n",
       "      <td>100120170000</td>\n",
       "      <td>10019001749</td>\n",
       "      <td>63.0</td>\n",
       "      <td>NaN</td>\n",
       "    </tr>\n",
       "  </tbody>\n",
       "</table>\n",
       "</div>"
      ],
      "text/plain": [
       "        cgmdate      cgmtime  Historic_ Glucose  Scan_Glucose\n",
       "0  100120170000  10019001734               72.0           NaN\n",
       "1  100120170000  10019001749               63.0           NaN"
      ]
     },
     "execution_count": 8,
     "metadata": {},
     "output_type": "execute_result"
    }
   ],
   "source": [
    "glucose.head(2)"
   ]
  },
  {
   "cell_type": "code",
   "execution_count": 10,
   "metadata": {},
   "outputs": [
    {
     "data": {
      "text/html": [
       "<div>\n",
       "<style scoped>\n",
       "    .dataframe tbody tr th:only-of-type {\n",
       "        vertical-align: middle;\n",
       "    }\n",
       "\n",
       "    .dataframe tbody tr th {\n",
       "        vertical-align: top;\n",
       "    }\n",
       "\n",
       "    .dataframe thead th {\n",
       "        text-align: right;\n",
       "    }\n",
       "</style>\n",
       "<table border=\"1\" class=\"dataframe\">\n",
       "  <thead>\n",
       "    <tr style=\"text-align: right;\">\n",
       "      <th></th>\n",
       "      <th>stepsdate</th>\n",
       "      <th>stepstime</th>\n",
       "      <th>active_time</th>\n",
       "      <th>distance</th>\n",
       "      <th>id</th>\n",
       "      <th>steps</th>\n",
       "    </tr>\n",
       "  </thead>\n",
       "  <tbody>\n",
       "    <tr>\n",
       "      <th>0</th>\n",
       "      <td>102920170000</td>\n",
       "      <td>10019002036</td>\n",
       "      <td>5035</td>\n",
       "      <td>6741</td>\n",
       "      <td>2245</td>\n",
       "      <td>8897</td>\n",
       "    </tr>\n",
       "    <tr>\n",
       "      <th>1</th>\n",
       "      <td>102820170000</td>\n",
       "      <td>10019001926</td>\n",
       "      <td>4527</td>\n",
       "      <td>5389</td>\n",
       "      <td>2244</td>\n",
       "      <td>7486</td>\n",
       "    </tr>\n",
       "  </tbody>\n",
       "</table>\n",
       "</div>"
      ],
      "text/plain": [
       "      stepsdate    stepstime  active_time  distance    id  steps\n",
       "0  102920170000  10019002036         5035      6741  2245   8897\n",
       "1  102820170000  10019001926         4527      5389  2244   7486"
      ]
     },
     "execution_count": 10,
     "metadata": {},
     "output_type": "execute_result"
    }
   ],
   "source": [
    "steps.head(2)"
   ]
  },
  {
   "cell_type": "code",
   "execution_count": 11,
   "metadata": {},
   "outputs": [
    {
     "data": {
      "text/html": [
       "<div>\n",
       "<style scoped>\n",
       "    .dataframe tbody tr th:only-of-type {\n",
       "        vertical-align: middle;\n",
       "    }\n",
       "\n",
       "    .dataframe tbody tr th {\n",
       "        vertical-align: top;\n",
       "    }\n",
       "\n",
       "    .dataframe thead th {\n",
       "        text-align: right;\n",
       "    }\n",
       "</style>\n",
       "<table border=\"1\" class=\"dataframe\">\n",
       "  <thead>\n",
       "    <tr style=\"text-align: right;\">\n",
       "      <th></th>\n",
       "      <th>Unnamed: 0</th>\n",
       "      <th>start_date</th>\n",
       "      <th>start_time</th>\n",
       "      <th>end_date</th>\n",
       "      <th>end_time</th>\n",
       "      <th>sleep_duration</th>\n",
       "      <th>wake_duration</th>\n",
       "      <th>away_duration</th>\n",
       "      <th>resting_heart_rate</th>\n",
       "      <th>avr_resp_rate</th>\n",
       "    </tr>\n",
       "  </thead>\n",
       "  <tbody>\n",
       "    <tr>\n",
       "      <th>0</th>\n",
       "      <td>0</td>\n",
       "      <td>101720170000</td>\n",
       "      <td>10019002045</td>\n",
       "      <td>101820170000</td>\n",
       "      <td>10019000416</td>\n",
       "      <td>25898</td>\n",
       "      <td>360</td>\n",
       "      <td>0</td>\n",
       "      <td>0.000000</td>\n",
       "      <td>13.499142</td>\n",
       "    </tr>\n",
       "    <tr>\n",
       "      <th>1</th>\n",
       "      <td>1</td>\n",
       "      <td>101620170000</td>\n",
       "      <td>10019002101</td>\n",
       "      <td>101720170000</td>\n",
       "      <td>10019000440</td>\n",
       "      <td>22611</td>\n",
       "      <td>4263</td>\n",
       "      <td>678</td>\n",
       "      <td>72.802734</td>\n",
       "      <td>14.175988</td>\n",
       "    </tr>\n",
       "  </tbody>\n",
       "</table>\n",
       "</div>"
      ],
      "text/plain": [
       "   Unnamed: 0    start_date   start_time      end_date     end_time  \\\n",
       "0           0  101720170000  10019002045  101820170000  10019000416   \n",
       "1           1  101620170000  10019002101  101720170000  10019000440   \n",
       "\n",
       "   sleep_duration  wake_duration  away_duration  resting_heart_rate  \\\n",
       "0           25898            360              0            0.000000   \n",
       "1           22611           4263            678           72.802734   \n",
       "\n",
       "   avr_resp_rate  \n",
       "0      13.499142  \n",
       "1      14.175988  "
      ]
     },
     "execution_count": 11,
     "metadata": {},
     "output_type": "execute_result"
    }
   ],
   "source": [
    "sleep.head(2)"
   ]
  },
  {
   "cell_type": "code",
   "execution_count": 12,
   "metadata": {},
   "outputs": [
    {
     "data": {
      "text/html": [
       "<div>\n",
       "<style scoped>\n",
       "    .dataframe tbody tr th:only-of-type {\n",
       "        vertical-align: middle;\n",
       "    }\n",
       "\n",
       "    .dataframe tbody tr th {\n",
       "        vertical-align: top;\n",
       "    }\n",
       "\n",
       "    .dataframe thead th {\n",
       "        text-align: right;\n",
       "    }\n",
       "</style>\n",
       "<table border=\"1\" class=\"dataframe\">\n",
       "  <thead>\n",
       "    <tr style=\"text-align: right;\">\n",
       "      <th></th>\n",
       "      <th>enddate</th>\n",
       "      <th>endtime</th>\n",
       "      <th>startdate</th>\n",
       "      <th>starttime</th>\n",
       "      <th>time_spent\n",
       "H:MM</th>\n",
       "      <th>type</th>\n",
       "    </tr>\n",
       "  </thead>\n",
       "  <tbody>\n",
       "    <tr>\n",
       "      <th>0</th>\n",
       "      <td>100620170000</td>\n",
       "      <td>10019001712</td>\n",
       "      <td>100620170000</td>\n",
       "      <td>10019001228</td>\n",
       "      <td>4:44</td>\n",
       "      <td>place 1</td>\n",
       "    </tr>\n",
       "    <tr>\n",
       "      <th>1</th>\n",
       "      <td>110920170000</td>\n",
       "      <td>10019001457</td>\n",
       "      <td>110920170000</td>\n",
       "      <td>10019001300</td>\n",
       "      <td>1:57</td>\n",
       "      <td>place 1</td>\n",
       "    </tr>\n",
       "  </tbody>\n",
       "</table>\n",
       "</div>"
      ],
      "text/plain": [
       "        enddate      endtime     startdate    starttime time_spent\\nH:MM  \\\n",
       "0  100620170000  10019001712  100620170000  10019001228             4:44   \n",
       "1  110920170000  10019001457  110920170000  10019001300             1:57   \n",
       "\n",
       "      type  \n",
       "0  place 1  \n",
       "1  place 1  "
      ]
     },
     "execution_count": 12,
     "metadata": {},
     "output_type": "execute_result"
    }
   ],
   "source": [
    "gps.head(2)"
   ]
  },
  {
   "cell_type": "code",
   "execution_count": 13,
   "metadata": {},
   "outputs": [],
   "source": [
    "# Checking the null values in the datasets"
   ]
  },
  {
   "cell_type": "raw",
   "metadata": {},
   "source": [
    "Historic_ Glucose     949\n",
    "Scan_Glucose         5892\n",
    "Other features in the other datasets  had no null values    \n"
   ]
  },
  {
   "cell_type": "raw",
   "metadata": {},
   "source": [
    "Both 'Historic_ glucose and Scan_Glucose values represented the patient's blood glucose levels at various temporal points in time.\n",
    "It makes sense to migrate the values in the Scan_Glucose levels to the corresponding null values in the Historic_ Glucose feature. of the datset.\n",
    "\n",
    "glucose = glucose.loc[glucose['Historic_ Glucose'].isnull(), 'Historic_ Glucose'] = glucose['Scan_Glucose']\n",
    "The above mentioned .loc function used to migrate the null values in 'Historic_ Glucose' with the values in the 'Scan_Glucose'  "
   ]
  },
  {
   "cell_type": "code",
   "execution_count": null,
   "metadata": {},
   "outputs": [],
   "source": [
    "#Selecting the relevant features in all the datsets"
   ]
  },
  {
   "cell_type": "markdown",
   "metadata": {},
   "source": [
    "Features selected in glucose:\n",
    "    1. cgmdate\n",
    "    2. Historic_ Glucose\n",
    "Features selected in sleep:\n",
    "    1. end_date\n",
    "    2. sleep_duration\n",
    "    3. wake_duration\n",
    "    4. resting_heart_rate\n",
    "    5. avr_resp_rate\n",
    "Features selected in steps:\n",
    "    1. stepsdate\n",
    "    2. active_time\n",
    "    3. distance\n",
    "    4. steps\n",
    "Selecting the necessary features from the datasets.\n",
    "features selected in location:\n",
    "    1. enddate\n",
    "    2. time_spent H:MM\n",
    "    3. type"
   ]
  },
  {
   "cell_type": "code",
   "execution_count": 18,
   "metadata": {},
   "outputs": [],
   "source": [
    "#.loc functions to lock the relevant features\n",
    "glucose = glucose.loc[:,['cgmdate','Historic_ Glucose']]\n",
    "sleep = sleep.loc [:,['end_date','sleep_duration','wake_duration','resting_heart_rate','avr_resp_rate']]\n",
    "steps = steps.loc[:,['stepsdate','active_time','steps','distance']]\n",
    "gps = gps.loc[:,['enddate','time_spent\\nH:MM','type']]"
   ]
  },
  {
   "cell_type": "code",
   "execution_count": null,
   "metadata": {},
   "outputs": [],
   "source": [
    "#Apart from the datetime data points in the feature contained additional '0000'. \n",
    "#lambda x fucntion used to remove the additional '0000' in the instacnces in the feature."
   ]
  },
  {
   "cell_type": "code",
   "execution_count": 19,
   "metadata": {},
   "outputs": [],
   "source": [
    "glucose['cgmdate'] = glucose['cgmdate'].map(lambda x: str(x)[:-4])\n",
    "sleep['end_date'] = sleep['end_date'].map(lambda x: str(x)[:-4])\n",
    "steps['stepsdate'] = steps['stepsdate'].map(lambda x:str(x)[:-4])\n",
    "gps['enddate'] = gps['enddate'].map(lambda x :str(x)[:-4])"
   ]
  },
  {
   "cell_type": "raw",
   "metadata": {},
   "source": [
    "MERGING THE INDIVIDUAL DATSETS:\n",
    "\n",
    "The common feature in all the datsets is the 'date' on which the particular instance was recorded.\n",
    "All the datasets were merged by this common feature using an 'inner' joint function."
   ]
  },
  {
   "cell_type": "code",
   "execution_count": 24,
   "metadata": {},
   "outputs": [],
   "source": [
    "glucose_sleep= sleep.merge(glucose, how = 'inner', left_on = 'end_date', right_on = 'cgmdate')\n",
    "glucose_sleep_steps = glucose_sleep.merge(steps, how = 'inner', left_on = 'cgmdate', right_on = 'stepsdate')\n",
    "glucose_sleep_steps_gps = glucose_sleep_steps.merge(gps, how = 'inner', left_on = 'cgmdate', right_on = 'enddate')\n"
   ]
  },
  {
   "cell_type": "code",
   "execution_count": 25,
   "metadata": {},
   "outputs": [
    {
     "data": {
      "text/html": [
       "<div>\n",
       "<style scoped>\n",
       "    .dataframe tbody tr th:only-of-type {\n",
       "        vertical-align: middle;\n",
       "    }\n",
       "\n",
       "    .dataframe tbody tr th {\n",
       "        vertical-align: top;\n",
       "    }\n",
       "\n",
       "    .dataframe thead th {\n",
       "        text-align: right;\n",
       "    }\n",
       "</style>\n",
       "<table border=\"1\" class=\"dataframe\">\n",
       "  <thead>\n",
       "    <tr style=\"text-align: right;\">\n",
       "      <th></th>\n",
       "      <th>end_date</th>\n",
       "      <th>sleep_duration</th>\n",
       "      <th>wake_duration</th>\n",
       "      <th>resting_heart_rate</th>\n",
       "      <th>avr_resp_rate</th>\n",
       "      <th>cgmdate</th>\n",
       "      <th>Historic_ Glucose</th>\n",
       "      <th>stepsdate</th>\n",
       "      <th>active_time</th>\n",
       "      <th>steps</th>\n",
       "      <th>distance</th>\n",
       "      <th>enddate</th>\n",
       "      <th>time_spent\n",
       "H:MM</th>\n",
       "      <th>type</th>\n",
       "    </tr>\n",
       "  </thead>\n",
       "  <tbody>\n",
       "    <tr>\n",
       "      <th>0</th>\n",
       "      <td>10182017</td>\n",
       "      <td>25898</td>\n",
       "      <td>360</td>\n",
       "      <td>0.0</td>\n",
       "      <td>13.499142</td>\n",
       "      <td>10182017</td>\n",
       "      <td>142.0</td>\n",
       "      <td>10182017</td>\n",
       "      <td>8423</td>\n",
       "      <td>17511</td>\n",
       "      <td>16813</td>\n",
       "      <td>10182017</td>\n",
       "      <td>3:02</td>\n",
       "      <td>place 9.6</td>\n",
       "    </tr>\n",
       "    <tr>\n",
       "      <th>1</th>\n",
       "      <td>10182017</td>\n",
       "      <td>25898</td>\n",
       "      <td>360</td>\n",
       "      <td>0.0</td>\n",
       "      <td>13.499142</td>\n",
       "      <td>10182017</td>\n",
       "      <td>142.0</td>\n",
       "      <td>10182017</td>\n",
       "      <td>8423</td>\n",
       "      <td>17511</td>\n",
       "      <td>16813</td>\n",
       "      <td>10182017</td>\n",
       "      <td>0:07</td>\n",
       "      <td>place unique</td>\n",
       "    </tr>\n",
       "  </tbody>\n",
       "</table>\n",
       "</div>"
      ],
      "text/plain": [
       "   end_date  sleep_duration  wake_duration  resting_heart_rate  avr_resp_rate  \\\n",
       "0  10182017           25898            360                 0.0      13.499142   \n",
       "1  10182017           25898            360                 0.0      13.499142   \n",
       "\n",
       "    cgmdate  Historic_ Glucose stepsdate  active_time  steps  distance  \\\n",
       "0  10182017              142.0  10182017         8423  17511     16813   \n",
       "1  10182017              142.0  10182017         8423  17511     16813   \n",
       "\n",
       "    enddate time_spent\\nH:MM          type  \n",
       "0  10182017             3:02     place 9.6  \n",
       "1  10182017             0:07  place unique  "
      ]
     },
     "execution_count": 25,
     "metadata": {},
     "output_type": "execute_result"
    }
   ],
   "source": [
    "glucose_sleep_steps_gps.head(2)"
   ]
  },
  {
   "cell_type": "code",
   "execution_count": 27,
   "metadata": {},
   "outputs": [
    {
     "name": "stderr",
     "output_type": "stream",
     "text": [
      "C:\\Users\\Arunakiry Natarajan\\Anaconda3\\lib\\site-packages\\ipykernel_launcher.py:3: FutureWarning: \n",
      "Passing list-likes to .loc or [] with any missing label will raise\n",
      "KeyError in the future, you can use .reindex() as an alternative.\n",
      "\n",
      "See the documentation here:\n",
      "http://pandas.pydata.org/pandas-docs/stable/indexing.html#deprecate-loc-reindex-listlike\n",
      "  This is separate from the ipykernel package so we can avoid doing imports until\n",
      "C:\\Users\\Arunakiry Natarajan\\Anaconda3\\lib\\site-packages\\pandas\\core\\indexing.py:1367: FutureWarning: \n",
      "Passing list-likes to .loc or [] with any missing label will raise\n",
      "KeyError in the future, you can use .reindex() as an alternative.\n",
      "\n",
      "See the documentation here:\n",
      "http://pandas.pydata.org/pandas-docs/stable/indexing.html#deprecate-loc-reindex-listlike\n",
      "  return self._getitem_tuple(key)\n"
     ]
    }
   ],
   "source": [
    "#FEATURE AND DIMESIONALITY REDUCTION\n",
    "#In this pre-final ddataset, repeated features and irrelevant features were removed from the datset\n",
    "df = glucose_sleep_steps_gps.loc[:,['cgmdate','steps', 'sleep_duration','time_spent','type','Historic_ Glucose' ]]"
   ]
  },
  {
   "cell_type": "code",
   "execution_count": null,
   "metadata": {},
   "outputs": [],
   "source": [
    "#writing the new dataset to a .csv file\n",
    "df.to_csv('final.csv')"
   ]
  }
 ],
 "metadata": {
  "kernelspec": {
   "display_name": "Python 3",
   "language": "python",
   "name": "python3"
  },
  "language_info": {
   "codemirror_mode": {
    "name": "ipython",
    "version": 3
   },
   "file_extension": ".py",
   "mimetype": "text/x-python",
   "name": "python",
   "nbconvert_exporter": "python",
   "pygments_lexer": "ipython3",
   "version": "3.6.4"
  }
 },
 "nbformat": 4,
 "nbformat_minor": 2
}
