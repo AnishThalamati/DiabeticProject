{
 "cells": [
  {
   "cell_type": "raw",
   "metadata": {},
   "source": [
    "# DIABETIC PATIENT'S DATA ANALYSIS OF THE DATA FROM GLUCOSE MONITORS, ACTIVITY SENSORS, SLEEP SENSORS AND LOCATION MONITORS\n",
    "\n",
    "CONTEXT OF THE PROJECT:\n",
    "A type 1 diabetic patient uses a Continuous Glucose Monitoring (CGM) device to monitor the blood sugar and to keep track of the changes in the blood levels of the blood glucose levels. These CGM devices be used alone or in conjunction with digitally connected medical devices for the purpose of managing diabetes. One such digitally connected medical device is an automated insulin pump, typically called as automated insulin dosing (AID) systems.\n",
    "It is logically to conclude that the amount of blood glucose are influenced by the amount to sugar consumed by the patient.\n",
    "This project connects data from other health sensors to relate the influence of these parameters with the patient’s blood glucose. Co-relating blood glucose levels to multiple features can help in the holistic control of blood glucose levels for the patient. \n",
    "\n",
    "CONTENTS OF THE DATA:\n",
    "\tRaw data was collected from a type 1 diabetes patient who uses a CGM device for monitoring his blood glucose levels.\n",
    "\tAlong with a CGM device, this patient also uses the following health monitors:\n",
    "1.\tA sleep monitoring device (Beddit) which records the features related to the patient’s sleep patterns\n",
    "2.\tAn activity tracker\n",
    "3.\tA location monitor\n",
    "DATA DICTIONARY:\n",
    "1.\tCGM data: Contained the blood glucose data (dependent variable) obtained from the CGM device. This device collects continuous data every 15 mins. This data set has 6839 instances with 4 features: \n",
    "\n",
    "-\tTime: Contained the date time stamp of the event \n",
    "-\tRecord_Type: Contained data  about the type of the record.\n",
    "o\tTwo types of record: \n",
    "\t‘0’ means the machine automatically generates the blood glucose levels at the prefixed programmed time intervals \n",
    "\t‘1’ means the blood glucose level is voluntarily measured by the patient.\n",
    "\n",
    "-\tHistoric_ Glucose: Contained the data from the automatic measurements from the CGM device\n",
    "\n",
    "-\tScan_Glucose: This feature contains the data from the voluntary measurements from the CGM device\n",
    "\n",
    "\n",
    "2.\tBeddit data: This data set contains data about the patient’s sleep pattern. It had 30 instances with 18 features. \n",
    "\n",
    "-\taverage_respiration_rate: Contained the data about the respiratory rate of the patient in breaths per minute\n",
    "\n",
    "-\taway_duration: Contained data about the amount of time (in seconds) the patient was out of the bed \t\n",
    "\n",
    "\n",
    "-\tbeddit_user_id: Contained the device generated user ID\t\n",
    "\n",
    "-\tdate: Contained the date stamp of the event\t\n",
    "\n",
    "\n",
    "-\tend_timestamp\tid: Contained the time stamp about the end of the sleeping duration.\t\n",
    "\n",
    "-\tresting_heart_rate: Contained data of the average heart rate of the patient during sleep and measured as beats/ minute\n",
    "\n",
    "\t\n",
    "-\tscore_amount_of_sleep, score_awakenings, score_bed_exits, score_sleep_efficiency, score_sleep_latency, score_snoring :These features had empty instances (0 values)\t\n",
    "-\tsleep_duration: Contained the total sleep time (in seconds)\n",
    "\n",
    "-\tstart_timestamp: The time stamp of the sleeping cycle\t\n",
    "\n",
    "\n",
    "-\ttimezone: Contained the data about the time zone device works on ( here it works in “Berlin time” zone)\t\n",
    "\n",
    "-\tupdated: Contained the datetime stamp when the data was populated in the device\t\n",
    "\n",
    "\n",
    "-\twake_duration: Contained the time in seconds during which the patient was awake.\n",
    "\n",
    "3.\tSteps data: Contained the data about the patient’s activity profile. This dataset had 9  features and 31 instances.\n",
    "\n",
    "-\tactive_time: Data about the the patient’s activity duration (seconds)\n",
    "\t\n",
    "-\tdate: Contained the date of the event\t\n",
    "\n",
    "\n",
    "-\tdistance: Data about the user’s distance covered during the activity (meters)\n",
    "\t\n",
    "-\tid: Device generated reference IDs\t\n",
    "\n",
    "\n",
    "-\tjawbone_user_id: Device generated reference IDs\n",
    "\t\n",
    "-\tsteps: The count of the number of steps taken by the user to cover the specific distance \n",
    "-\tsteps_id: Device generated reference IDs\t\n",
    "\n",
    "-\ttimezone: “Berlin Zone”\t\n",
    "\n",
    "\n",
    "-\tupdated: date the data was saved to the device\n",
    "INSPIRATION AND OBJECTIVES:\n",
    "1.\tTo clean the raw data for analysis and derive insights from the data\n",
    "2.\tTo create visualizations using the data using python and tableau to help generate insights and relation between the various features.\n",
    "3.\tTo build a log reg model which can be used to decide which of these features has a better influence on the patient’s diabetic control apart from his diet.\n"
   ]
  },
  {
   "cell_type": "code",
   "execution_count": 130,
   "metadata": {},
   "outputs": [],
   "source": [
    "#Importing the necessary python packages and modules\n",
    "import pandas as pd\n",
    "import numpy as np\n",
    "import seaborn as sns\n",
    "import matplotlib.pyplot as plt\n",
    "%matplotlib inline"
   ]
  },
  {
   "cell_type": "code",
   "execution_count": 132,
   "metadata": {},
   "outputs": [],
   "source": [
    "#Connecting to the data for analysis-Data pre-processing \n",
    "glucose = pd.read_csv('cgm_date.csv')\n",
    "steps = pd.read_csv('steps_date.csv')\n",
    "sleep = pd.read_csv('beddit_date.csv')\n",
    "gps = pd.read_csv('loc_date.csv')"
   ]
  },
  {
   "cell_type": "markdown",
   "metadata": {},
   "source": [
    "# File naming explanation:\n",
    "\n",
    "'glucose' is the file that contains the data about the user glucose measurements from the sensor\n",
    "\n",
    "'steps' conatins the data from the activity monitor of the patient\n",
    "\n",
    "'sleep' contains the data from the device 'beddit' which tracks information about the users sleep timings\n",
    "\n",
    "'gps' contains users location data and the amount of time spent in a particular location."
   ]
  },
  {
   "cell_type": "code",
   "execution_count": 92,
   "metadata": {},
   "outputs": [],
   "source": [
    "# Exploratory data analysis"
   ]
  },
  {
   "cell_type": "raw",
   "metadata": {},
   "source": [
    "glucose.dtypes\n",
    "cgmdate                int64\n",
    "cgmtime                int64\n",
    "Historic_ Glucose    float64\n",
    "Scan_Glucose         float64\n",
    "dtype: object\n",
    "  "
   ]
  },
  {
   "cell_type": "raw",
   "metadata": {},
   "source": [
    "steps.dtypes\n",
    "stepsdate      int64\n",
    "stepstime      int64\n",
    "active_time    int64\n",
    "distance       int64\n",
    "id             int64\n",
    "steps          int64\n",
    "dtype: object"
   ]
  },
  {
   "cell_type": "raw",
   "metadata": {},
   "source": [
    "sleep.dtypes\n",
    "Unnamed: 0              int64\n",
    "start_date              int64\n",
    "start_time              int64\n",
    "end_date                int64\n",
    "end_time                int64\n",
    "sleep_duration          int64\n",
    "wake_duration           int64\n",
    "away_duration           int64\n",
    "resting_heart_rate    float64\n",
    "avr_resp_rate         float64\n",
    "dtype: object"
   ]
  },
  {
   "cell_type": "raw",
   "metadata": {},
   "source": [
    "gps.dtypes\n",
    "enddate              int64\n",
    "endtime              int64\n",
    "startdate            int64\n",
    "starttime            int64\n",
    "time_spent\\nH:MM    object\n",
    "type                object\n",
    "dtype: object"
   ]
  },
  {
   "cell_type": "code",
   "execution_count": 93,
   "metadata": {},
   "outputs": [],
   "source": [
    "# Checking the null values in the datasets"
   ]
  },
  {
   "cell_type": "raw",
   "metadata": {},
   "source": [
    "cgmdate                 0\n",
    "cgmtime                 0\n",
    "Historic_ Glucose     949\n",
    "Scan_Glucose         5892\n",
    "dtype: int64"
   ]
  },
  {
   "cell_type": "code",
   "execution_count": 133,
   "metadata": {},
   "outputs": [
    {
     "data": {
      "text/plain": [
       "Unnamed: 0            0\n",
       "start_date            0\n",
       "start_time            0\n",
       "end_date              0\n",
       "end_time              0\n",
       "sleep_duration        0\n",
       "wake_duration         0\n",
       "away_duration         0\n",
       "resting_heart_rate    0\n",
       "avr_resp_rate         0\n",
       "dtype: int64"
      ]
     },
     "execution_count": 133,
     "metadata": {},
     "output_type": "execute_result"
    }
   ],
   "source": [
    "sleep.isnull().sum()"
   ]
  },
  {
   "cell_type": "code",
   "execution_count": 134,
   "metadata": {},
   "outputs": [
    {
     "data": {
      "text/plain": [
       "enddate             0\n",
       "endtime             0\n",
       "startdate           0\n",
       "starttime           0\n",
       "time_spent\\nH:MM    0\n",
       "type                0\n",
       "dtype: int64"
      ]
     },
     "execution_count": 134,
     "metadata": {},
     "output_type": "execute_result"
    }
   ],
   "source": [
    "gps.isnull().sum()"
   ]
  },
  {
   "cell_type": "code",
   "execution_count": 96,
   "metadata": {},
   "outputs": [],
   "source": [
    "# Removing the null values -migrating null values in the feature Historic_ Glucose with values from scan_Glucose"
   ]
  },
  {
   "cell_type": "code",
   "execution_count": 135,
   "metadata": {},
   "outputs": [],
   "source": [
    "glucose.loc[glucose['Historic_ Glucose'].isnull(), 'Historic_ Glucose'] = glucose['Scan_Glucose']"
   ]
  },
  {
   "cell_type": "code",
   "execution_count": 137,
   "metadata": {},
   "outputs": [],
   "source": [
    "#retaining the non null instances\n",
    "glucose = glucose[glucose['Historic_ Glucose'].notnull()]"
   ]
  },
  {
   "cell_type": "code",
   "execution_count": 100,
   "metadata": {},
   "outputs": [],
   "source": [
    "# Feature Assessment"
   ]
  },
  {
   "cell_type": "markdown",
   "metadata": {},
   "source": [
    "#Assessing the various features of the dataset "
   ]
  },
  {
   "cell_type": "code",
   "execution_count": 138,
   "metadata": {},
   "outputs": [
    {
     "data": {
      "text/plain": [
       "Index(['cgmdate', 'cgmtime', 'Historic_ Glucose', 'Scan_Glucose'], dtype='object')"
      ]
     },
     "execution_count": 138,
     "metadata": {},
     "output_type": "execute_result"
    }
   ],
   "source": [
    "glucose.columns"
   ]
  },
  {
   "cell_type": "code",
   "execution_count": 139,
   "metadata": {},
   "outputs": [
    {
     "data": {
      "text/plain": [
       "Index(['stepsdate', 'stepstime', 'active_time', 'distance', 'id', 'steps'], dtype='object')"
      ]
     },
     "execution_count": 139,
     "metadata": {},
     "output_type": "execute_result"
    }
   ],
   "source": [
    "steps.columns"
   ]
  },
  {
   "cell_type": "code",
   "execution_count": 140,
   "metadata": {},
   "outputs": [
    {
     "data": {
      "text/plain": [
       "Index(['Unnamed: 0', 'start_date', 'start_time', 'end_date', 'end_time',\n",
       "       'sleep_duration', 'wake_duration', 'away_duration',\n",
       "       'resting_heart_rate', 'avr_resp_rate'],\n",
       "      dtype='object')"
      ]
     },
     "execution_count": 140,
     "metadata": {},
     "output_type": "execute_result"
    }
   ],
   "source": [
    "sleep.columns"
   ]
  },
  {
   "cell_type": "code",
   "execution_count": 141,
   "metadata": {},
   "outputs": [
    {
     "data": {
      "text/plain": [
       "Index(['enddate', 'endtime', 'startdate', 'starttime', 'time_spent\\nH:MM',\n",
       "       'type'],\n",
       "      dtype='object')"
      ]
     },
     "execution_count": 141,
     "metadata": {},
     "output_type": "execute_result"
    }
   ],
   "source": [
    "gps.columns"
   ]
  },
  {
   "cell_type": "markdown",
   "metadata": {},
   "source": [
    "#sampling data from all the data sets"
   ]
  },
  {
   "cell_type": "code",
   "execution_count": 142,
   "metadata": {},
   "outputs": [
    {
     "data": {
      "text/html": [
       "<div>\n",
       "<style scoped>\n",
       "    .dataframe tbody tr th:only-of-type {\n",
       "        vertical-align: middle;\n",
       "    }\n",
       "\n",
       "    .dataframe tbody tr th {\n",
       "        vertical-align: top;\n",
       "    }\n",
       "\n",
       "    .dataframe thead th {\n",
       "        text-align: right;\n",
       "    }\n",
       "</style>\n",
       "<table border=\"1\" class=\"dataframe\">\n",
       "  <thead>\n",
       "    <tr style=\"text-align: right;\">\n",
       "      <th></th>\n",
       "      <th>cgmdate</th>\n",
       "      <th>cgmtime</th>\n",
       "      <th>Historic_ Glucose</th>\n",
       "      <th>Scan_Glucose</th>\n",
       "    </tr>\n",
       "  </thead>\n",
       "  <tbody>\n",
       "    <tr>\n",
       "      <th>6466</th>\n",
       "      <td>120220170000</td>\n",
       "      <td>10019001604</td>\n",
       "      <td>165.0</td>\n",
       "      <td>NaN</td>\n",
       "    </tr>\n",
       "    <tr>\n",
       "      <th>3605</th>\n",
       "      <td>110420170000</td>\n",
       "      <td>10019001839</td>\n",
       "      <td>75.0</td>\n",
       "      <td>NaN</td>\n",
       "    </tr>\n",
       "    <tr>\n",
       "      <th>1333</th>\n",
       "      <td>101420170000</td>\n",
       "      <td>10019000302</td>\n",
       "      <td>118.0</td>\n",
       "      <td>NaN</td>\n",
       "    </tr>\n",
       "    <tr>\n",
       "      <th>838</th>\n",
       "      <td>100920170000</td>\n",
       "      <td>10019001156</td>\n",
       "      <td>181.0</td>\n",
       "      <td>NaN</td>\n",
       "    </tr>\n",
       "    <tr>\n",
       "      <th>6101</th>\n",
       "      <td>112920170000</td>\n",
       "      <td>10019000402</td>\n",
       "      <td>70.0</td>\n",
       "      <td>NaN</td>\n",
       "    </tr>\n",
       "  </tbody>\n",
       "</table>\n",
       "</div>"
      ],
      "text/plain": [
       "           cgmdate      cgmtime  Historic_ Glucose  Scan_Glucose\n",
       "6466  120220170000  10019001604              165.0           NaN\n",
       "3605  110420170000  10019001839               75.0           NaN\n",
       "1333  101420170000  10019000302              118.0           NaN\n",
       "838   100920170000  10019001156              181.0           NaN\n",
       "6101  112920170000  10019000402               70.0           NaN"
      ]
     },
     "execution_count": 142,
     "metadata": {},
     "output_type": "execute_result"
    }
   ],
   "source": [
    "glucose.sample(5)"
   ]
  },
  {
   "cell_type": "code",
   "execution_count": 106,
   "metadata": {},
   "outputs": [
    {
     "data": {
      "text/html": [
       "<div>\n",
       "<style scoped>\n",
       "    .dataframe tbody tr th:only-of-type {\n",
       "        vertical-align: middle;\n",
       "    }\n",
       "\n",
       "    .dataframe tbody tr th {\n",
       "        vertical-align: top;\n",
       "    }\n",
       "\n",
       "    .dataframe thead th {\n",
       "        text-align: right;\n",
       "    }\n",
       "</style>\n",
       "<table border=\"1\" class=\"dataframe\">\n",
       "  <thead>\n",
       "    <tr style=\"text-align: right;\">\n",
       "      <th></th>\n",
       "      <th>stepsdate</th>\n",
       "      <th>stepstime</th>\n",
       "      <th>active_time</th>\n",
       "      <th>distance</th>\n",
       "      <th>id</th>\n",
       "      <th>steps</th>\n",
       "    </tr>\n",
       "  </thead>\n",
       "  <tbody>\n",
       "    <tr>\n",
       "      <th>15</th>\n",
       "      <td>110120170000</td>\n",
       "      <td>10019002207</td>\n",
       "      <td>4516</td>\n",
       "      <td>6466</td>\n",
       "      <td>2248</td>\n",
       "      <td>8340</td>\n",
       "    </tr>\n",
       "    <tr>\n",
       "      <th>12</th>\n",
       "      <td>101720170000</td>\n",
       "      <td>10019002018</td>\n",
       "      <td>2491</td>\n",
       "      <td>3373</td>\n",
       "      <td>2233</td>\n",
       "      <td>4445</td>\n",
       "    </tr>\n",
       "    <tr>\n",
       "      <th>21</th>\n",
       "      <td>101320170000</td>\n",
       "      <td>10019002159</td>\n",
       "      <td>2982</td>\n",
       "      <td>4132</td>\n",
       "      <td>2229</td>\n",
       "      <td>5360</td>\n",
       "    </tr>\n",
       "    <tr>\n",
       "      <th>14</th>\n",
       "      <td>110220170000</td>\n",
       "      <td>10019002150</td>\n",
       "      <td>1464</td>\n",
       "      <td>3866</td>\n",
       "      <td>2249</td>\n",
       "      <td>3442</td>\n",
       "    </tr>\n",
       "    <tr>\n",
       "      <th>29</th>\n",
       "      <td>100520170000</td>\n",
       "      <td>10019001859</td>\n",
       "      <td>552</td>\n",
       "      <td>793</td>\n",
       "      <td>2193</td>\n",
       "      <td>1017</td>\n",
       "    </tr>\n",
       "  </tbody>\n",
       "</table>\n",
       "</div>"
      ],
      "text/plain": [
       "       stepsdate    stepstime  active_time  distance    id  steps\n",
       "15  110120170000  10019002207         4516      6466  2248   8340\n",
       "12  101720170000  10019002018         2491      3373  2233   4445\n",
       "21  101320170000  10019002159         2982      4132  2229   5360\n",
       "14  110220170000  10019002150         1464      3866  2249   3442\n",
       "29  100520170000  10019001859          552       793  2193   1017"
      ]
     },
     "execution_count": 106,
     "metadata": {},
     "output_type": "execute_result"
    }
   ],
   "source": [
    "steps.sample(5)"
   ]
  },
  {
   "cell_type": "code",
   "execution_count": 107,
   "metadata": {},
   "outputs": [
    {
     "data": {
      "text/html": [
       "<div>\n",
       "<style scoped>\n",
       "    .dataframe tbody tr th:only-of-type {\n",
       "        vertical-align: middle;\n",
       "    }\n",
       "\n",
       "    .dataframe tbody tr th {\n",
       "        vertical-align: top;\n",
       "    }\n",
       "\n",
       "    .dataframe thead th {\n",
       "        text-align: right;\n",
       "    }\n",
       "</style>\n",
       "<table border=\"1\" class=\"dataframe\">\n",
       "  <thead>\n",
       "    <tr style=\"text-align: right;\">\n",
       "      <th></th>\n",
       "      <th>Unnamed: 0</th>\n",
       "      <th>start_date</th>\n",
       "      <th>start_time</th>\n",
       "      <th>end_date</th>\n",
       "      <th>end_time</th>\n",
       "      <th>sleep_duration</th>\n",
       "      <th>wake_duration</th>\n",
       "      <th>away_duration</th>\n",
       "      <th>resting_heart_rate</th>\n",
       "      <th>avr_resp_rate</th>\n",
       "    </tr>\n",
       "  </thead>\n",
       "  <tbody>\n",
       "    <tr>\n",
       "      <th>29</th>\n",
       "      <td>29</td>\n",
       "      <td>100520170000</td>\n",
       "      <td>10019002110</td>\n",
       "      <td>100620170000</td>\n",
       "      <td>10019000453</td>\n",
       "      <td>26167</td>\n",
       "      <td>960</td>\n",
       "      <td>0</td>\n",
       "      <td>63.06152</td>\n",
       "      <td>13.99122</td>\n",
       "    </tr>\n",
       "    <tr>\n",
       "      <th>23</th>\n",
       "      <td>23</td>\n",
       "      <td>101120170000</td>\n",
       "      <td>10019002020</td>\n",
       "      <td>101220170000</td>\n",
       "      <td>10019000435</td>\n",
       "      <td>29346</td>\n",
       "      <td>360</td>\n",
       "      <td>0</td>\n",
       "      <td>59.98535</td>\n",
       "      <td>13.59815</td>\n",
       "    </tr>\n",
       "  </tbody>\n",
       "</table>\n",
       "</div>"
      ],
      "text/plain": [
       "    Unnamed: 0    start_date   start_time      end_date     end_time  \\\n",
       "29          29  100520170000  10019002110  100620170000  10019000453   \n",
       "23          23  101120170000  10019002020  101220170000  10019000435   \n",
       "\n",
       "    sleep_duration  wake_duration  away_duration  resting_heart_rate  \\\n",
       "29           26167            960              0            63.06152   \n",
       "23           29346            360              0            59.98535   \n",
       "\n",
       "    avr_resp_rate  \n",
       "29       13.99122  \n",
       "23       13.59815  "
      ]
     },
     "execution_count": 107,
     "metadata": {},
     "output_type": "execute_result"
    }
   ],
   "source": [
    "sleep.sample(2)"
   ]
  },
  {
   "cell_type": "code",
   "execution_count": 108,
   "metadata": {},
   "outputs": [
    {
     "data": {
      "text/html": [
       "<div>\n",
       "<style scoped>\n",
       "    .dataframe tbody tr th:only-of-type {\n",
       "        vertical-align: middle;\n",
       "    }\n",
       "\n",
       "    .dataframe tbody tr th {\n",
       "        vertical-align: top;\n",
       "    }\n",
       "\n",
       "    .dataframe thead th {\n",
       "        text-align: right;\n",
       "    }\n",
       "</style>\n",
       "<table border=\"1\" class=\"dataframe\">\n",
       "  <thead>\n",
       "    <tr style=\"text-align: right;\">\n",
       "      <th></th>\n",
       "      <th>enddate</th>\n",
       "      <th>endtime</th>\n",
       "      <th>startdate</th>\n",
       "      <th>starttime</th>\n",
       "      <th>time_spent\n",
       "H:MM</th>\n",
       "      <th>type</th>\n",
       "    </tr>\n",
       "  </thead>\n",
       "  <tbody>\n",
       "    <tr>\n",
       "      <th>157</th>\n",
       "      <td>101320170000</td>\n",
       "      <td>10019001501</td>\n",
       "      <td>101320170000</td>\n",
       "      <td>10019001442</td>\n",
       "      <td>0:18</td>\n",
       "      <td>place unique</td>\n",
       "    </tr>\n",
       "    <tr>\n",
       "      <th>63</th>\n",
       "      <td>100920170000</td>\n",
       "      <td>10019001059</td>\n",
       "      <td>100920170000</td>\n",
       "      <td>10019000812</td>\n",
       "      <td>2:47</td>\n",
       "      <td>place 2</td>\n",
       "    </tr>\n",
       "  </tbody>\n",
       "</table>\n",
       "</div>"
      ],
      "text/plain": [
       "          enddate      endtime     startdate    starttime time_spent\\nH:MM  \\\n",
       "157  101320170000  10019001501  101320170000  10019001442             0:18   \n",
       "63   100920170000  10019001059  100920170000  10019000812             2:47   \n",
       "\n",
       "             type  \n",
       "157  place unique  \n",
       "63        place 2  "
      ]
     },
     "execution_count": 108,
     "metadata": {},
     "output_type": "execute_result"
    }
   ],
   "source": [
    "gps.sample(2)"
   ]
  },
  {
   "cell_type": "markdown",
   "metadata": {},
   "source": [
    "Pre cleaning visual assessment of the glucose dataset"
   ]
  },
  {
   "cell_type": "code",
   "execution_count": 167,
   "metadata": {},
   "outputs": [
    {
     "data": {
      "text/plain": [
       "<seaborn.axisgrid.PairGrid at 0x1c39f0ce630>"
      ]
     },
     "execution_count": 167,
     "metadata": {},
     "output_type": "execute_result"
    },
    {
     "data": {
      "image/png": "[encoded data removed]",
      "text/plain": [
       "<matplotlib.figure.Figure at 0x1c39f0ce358>"
      ]
     },
     "metadata": {},
     "output_type": "display_data"
    }
   ],
   "source": [
    "sns.pairplot(glucose, x_vars = ['cgmdate']  , y_vars = 'Historic_ Glucose',size = 7, aspect =0.7)"
   ]
  },
  {
   "cell_type": "code",
   "execution_count": 169,
   "metadata": {},
   "outputs": [
    {
     "data": {
      "text/plain": [
       "<matplotlib.axes._subplots.AxesSubplot at 0x1c39f19cd30>"
      ]
     },
     "execution_count": 169,
     "metadata": {},
     "output_type": "execute_result"
    },
    {
     "data": {
      "image/png": "[encoded data removed]",
      "text/plain": [
       "<matplotlib.figure.Figure at 0x1c39f19cda0>"
      ]
     },
     "metadata": {},
     "output_type": "display_data"
    }
   ],
   "source": [
    "#To check the outlier values in the dataset\n",
    "plt.figure(figsize=(25, 2))\n",
    "plt.title(\"GLUCOSE_LEVELS\")\n",
    "sns.boxplot(glucose['Historic_ Glucose'])"
   ]
  },
  {
   "cell_type": "code",
   "execution_count": 109,
   "metadata": {},
   "outputs": [],
   "source": [
    "# Cleaning the data "
   ]
  },
  {
   "cell_type": "markdown",
   "metadata": {},
   "source": [
    "Selecting the necessary features from the datasets.\n",
    "Features selected in glucose:\n",
    "    1. cgmdate\n",
    "    2. Historic_ Glucose\n",
    "    \n"
   ]
  },
  {
   "cell_type": "code",
   "execution_count": 143,
   "metadata": {},
   "outputs": [],
   "source": [
    "glucose = glucose.loc[:,['cgmdate','Historic_ Glucose']]"
   ]
  },
  {
   "cell_type": "markdown",
   "metadata": {},
   "source": [
    "Features selected in sleep:\n",
    "    1. end_date\n",
    "    2. sleep_duration\n",
    "    3. wake_duration\n",
    "    4. resting_heart_rate\n",
    "    5. avr_resp_rate"
   ]
  },
  {
   "cell_type": "code",
   "execution_count": 144,
   "metadata": {},
   "outputs": [],
   "source": [
    "sleep = sleep.loc [:,['end_date','sleep_duration','wake_duration','resting_heart_rate','avr_resp_rate']]"
   ]
  },
  {
   "cell_type": "markdown",
   "metadata": {},
   "source": [
    "Features selected in steps:\n",
    "    1. stepsdate\n",
    "    2. active_time\n",
    "    3. distance\n",
    "    4. steps"
   ]
  },
  {
   "cell_type": "code",
   "execution_count": 145,
   "metadata": {},
   "outputs": [],
   "source": [
    "steps = steps.loc[:,['stepsdate','active_time','steps','distance']]"
   ]
  },
  {
   "cell_type": "markdown",
   "metadata": {},
   "source": [
    "Selecting the necessary features from the datasets.\n",
    "features selected in location:\n",
    "    1. enddate\n",
    "    2. time_spent H:MM\n",
    "    3. type\n",
    "   "
   ]
  },
  {
   "cell_type": "code",
   "execution_count": 146,
   "metadata": {},
   "outputs": [],
   "source": [
    "gps = gps.loc[:,['enddate','time_spent\\nH:MM','type']]"
   ]
  },
  {
   "cell_type": "markdown",
   "metadata": {},
   "source": [
    "Apart from the datetime data points in the feature contained additional '0000'. \n",
    "lambda x fucntion used to remove the additional '0000' in the instacnces in the feature."
   ]
  },
  {
   "cell_type": "code",
   "execution_count": 147,
   "metadata": {},
   "outputs": [],
   "source": [
    "glucose['cgmdate'] = glucose['cgmdate'].map(lambda x: str(x)[:-4])"
   ]
  },
  {
   "cell_type": "code",
   "execution_count": 148,
   "metadata": {},
   "outputs": [],
   "source": [
    "sleep['end_date'] = sleep['end_date'].map(lambda x: str(x)[:-4])"
   ]
  },
  {
   "cell_type": "code",
   "execution_count": 149,
   "metadata": {},
   "outputs": [],
   "source": [
    "steps['stepsdate'] = steps['stepsdate'].map(lambda x:str(x)[:-4])"
   ]
  },
  {
   "cell_type": "code",
   "execution_count": 150,
   "metadata": {},
   "outputs": [],
   "source": [
    "gps['enddate'] = gps['enddate'].map(lambda x :str(x)[:-4])"
   ]
  },
  {
   "cell_type": "code",
   "execution_count": 151,
   "metadata": {},
   "outputs": [],
   "source": [
    "#changing the feature name for easier naming\n",
    "gps.columns = gps.columns.str.replace (\"time_spent\\nH:MM\", \"time_spent\")"
   ]
  },
  {
   "cell_type": "markdown",
   "metadata": {},
   "source": [
    "Merging all the datasets by the common feature, i.e, the date on which the data is collected.\n",
    "'merge' function was used with an 'inner' joint to combine all the datsets. "
   ]
  },
  {
   "cell_type": "code",
   "execution_count": 152,
   "metadata": {},
   "outputs": [],
   "source": [
    "glucose_sleep= sleep.merge(glucose, how = 'inner', left_on = 'end_date', right_on = 'cgmdate')"
   ]
  },
  {
   "cell_type": "code",
   "execution_count": 153,
   "metadata": {},
   "outputs": [
    {
     "data": {
      "text/html": [
       "<div>\n",
       "<style scoped>\n",
       "    .dataframe tbody tr th:only-of-type {\n",
       "        vertical-align: middle;\n",
       "    }\n",
       "\n",
       "    .dataframe tbody tr th {\n",
       "        vertical-align: top;\n",
       "    }\n",
       "\n",
       "    .dataframe thead th {\n",
       "        text-align: right;\n",
       "    }\n",
       "</style>\n",
       "<table border=\"1\" class=\"dataframe\">\n",
       "  <thead>\n",
       "    <tr style=\"text-align: right;\">\n",
       "      <th></th>\n",
       "      <th>end_date</th>\n",
       "      <th>sleep_duration</th>\n",
       "      <th>wake_duration</th>\n",
       "      <th>resting_heart_rate</th>\n",
       "      <th>avr_resp_rate</th>\n",
       "      <th>cgmdate</th>\n",
       "      <th>Historic_ Glucose</th>\n",
       "    </tr>\n",
       "  </thead>\n",
       "  <tbody>\n",
       "    <tr>\n",
       "      <th>2721</th>\n",
       "      <td>10102017</td>\n",
       "      <td>26717</td>\n",
       "      <td>0</td>\n",
       "      <td>61.779790</td>\n",
       "      <td>13.973510</td>\n",
       "      <td>10102017</td>\n",
       "      <td>139.0</td>\n",
       "    </tr>\n",
       "    <tr>\n",
       "      <th>1590</th>\n",
       "      <td>10272017</td>\n",
       "      <td>27632</td>\n",
       "      <td>360</td>\n",
       "      <td>67.675781</td>\n",
       "      <td>14.206287</td>\n",
       "      <td>10272017</td>\n",
       "      <td>127.0</td>\n",
       "    </tr>\n",
       "  </tbody>\n",
       "</table>\n",
       "</div>"
      ],
      "text/plain": [
       "      end_date  sleep_duration  wake_duration  resting_heart_rate  \\\n",
       "2721  10102017           26717              0           61.779790   \n",
       "1590  10272017           27632            360           67.675781   \n",
       "\n",
       "      avr_resp_rate   cgmdate  Historic_ Glucose  \n",
       "2721      13.973510  10102017              139.0  \n",
       "1590      14.206287  10272017              127.0  "
      ]
     },
     "execution_count": 153,
     "metadata": {},
     "output_type": "execute_result"
    }
   ],
   "source": [
    "glucose_sleep.sample(2)"
   ]
  },
  {
   "cell_type": "code",
   "execution_count": 154,
   "metadata": {},
   "outputs": [],
   "source": [
    "glucose_sleep_steps = glucose_sleep.merge(steps, how = 'inner', left_on = 'cgmdate', right_on = 'stepsdate')"
   ]
  },
  {
   "cell_type": "code",
   "execution_count": 155,
   "metadata": {},
   "outputs": [
    {
     "data": {
      "text/html": [
       "<div>\n",
       "<style scoped>\n",
       "    .dataframe tbody tr th:only-of-type {\n",
       "        vertical-align: middle;\n",
       "    }\n",
       "\n",
       "    .dataframe tbody tr th {\n",
       "        vertical-align: top;\n",
       "    }\n",
       "\n",
       "    .dataframe thead th {\n",
       "        text-align: right;\n",
       "    }\n",
       "</style>\n",
       "<table border=\"1\" class=\"dataframe\">\n",
       "  <thead>\n",
       "    <tr style=\"text-align: right;\">\n",
       "      <th></th>\n",
       "      <th>end_date</th>\n",
       "      <th>sleep_duration</th>\n",
       "      <th>wake_duration</th>\n",
       "      <th>resting_heart_rate</th>\n",
       "      <th>avr_resp_rate</th>\n",
       "      <th>cgmdate</th>\n",
       "      <th>Historic_ Glucose</th>\n",
       "      <th>stepsdate</th>\n",
       "      <th>active_time</th>\n",
       "      <th>steps</th>\n",
       "      <th>distance</th>\n",
       "    </tr>\n",
       "  </thead>\n",
       "  <tbody>\n",
       "    <tr>\n",
       "      <th>11</th>\n",
       "      <td>10182017</td>\n",
       "      <td>25898</td>\n",
       "      <td>360</td>\n",
       "      <td>0.00000</td>\n",
       "      <td>13.499142</td>\n",
       "      <td>10182017</td>\n",
       "      <td>93.0</td>\n",
       "      <td>10182017</td>\n",
       "      <td>8423</td>\n",
       "      <td>17511</td>\n",
       "      <td>16813</td>\n",
       "    </tr>\n",
       "    <tr>\n",
       "      <th>1593</th>\n",
       "      <td>10132017</td>\n",
       "      <td>27304</td>\n",
       "      <td>1200</td>\n",
       "      <td>58.95996</td>\n",
       "      <td>13.829230</td>\n",
       "      <td>10132017</td>\n",
       "      <td>150.0</td>\n",
       "      <td>10132017</td>\n",
       "      <td>2982</td>\n",
       "      <td>5360</td>\n",
       "      <td>4132</td>\n",
       "    </tr>\n",
       "  </tbody>\n",
       "</table>\n",
       "</div>"
      ],
      "text/plain": [
       "      end_date  sleep_duration  wake_duration  resting_heart_rate  \\\n",
       "11    10182017           25898            360             0.00000   \n",
       "1593  10132017           27304           1200            58.95996   \n",
       "\n",
       "      avr_resp_rate   cgmdate  Historic_ Glucose stepsdate  active_time  \\\n",
       "11        13.499142  10182017               93.0  10182017         8423   \n",
       "1593      13.829230  10132017              150.0  10132017         2982   \n",
       "\n",
       "      steps  distance  \n",
       "11    17511     16813  \n",
       "1593   5360      4132  "
      ]
     },
     "execution_count": 155,
     "metadata": {},
     "output_type": "execute_result"
    }
   ],
   "source": [
    "glucose_sleep_steps.sample(2)"
   ]
  },
  {
   "cell_type": "code",
   "execution_count": 156,
   "metadata": {},
   "outputs": [],
   "source": [
    "glucose_sleep_steps_gps = glucose_sleep_steps.merge(gps, how = 'inner', left_on = 'cgmdate', right_on = 'enddate')"
   ]
  },
  {
   "cell_type": "code",
   "execution_count": 157,
   "metadata": {},
   "outputs": [
    {
     "data": {
      "text/html": [
       "<div>\n",
       "<style scoped>\n",
       "    .dataframe tbody tr th:only-of-type {\n",
       "        vertical-align: middle;\n",
       "    }\n",
       "\n",
       "    .dataframe tbody tr th {\n",
       "        vertical-align: top;\n",
       "    }\n",
       "\n",
       "    .dataframe thead th {\n",
       "        text-align: right;\n",
       "    }\n",
       "</style>\n",
       "<table border=\"1\" class=\"dataframe\">\n",
       "  <thead>\n",
       "    <tr style=\"text-align: right;\">\n",
       "      <th></th>\n",
       "      <th>end_date</th>\n",
       "      <th>sleep_duration</th>\n",
       "      <th>wake_duration</th>\n",
       "      <th>resting_heart_rate</th>\n",
       "      <th>avr_resp_rate</th>\n",
       "      <th>cgmdate</th>\n",
       "      <th>Historic_ Glucose</th>\n",
       "      <th>stepsdate</th>\n",
       "      <th>active_time</th>\n",
       "      <th>steps</th>\n",
       "      <th>distance</th>\n",
       "      <th>enddate</th>\n",
       "      <th>time_spent</th>\n",
       "      <th>type</th>\n",
       "    </tr>\n",
       "  </thead>\n",
       "  <tbody>\n",
       "    <tr>\n",
       "      <th>8369</th>\n",
       "      <td>10152017</td>\n",
       "      <td>32056</td>\n",
       "      <td>480</td>\n",
       "      <td>61.52344</td>\n",
       "      <td>14.37770</td>\n",
       "      <td>10152017</td>\n",
       "      <td>127.0</td>\n",
       "      <td>10152017</td>\n",
       "      <td>4582</td>\n",
       "      <td>8135</td>\n",
       "      <td>6161</td>\n",
       "      <td>10152017</td>\n",
       "      <td>0:09</td>\n",
       "      <td>place unique</td>\n",
       "    </tr>\n",
       "    <tr>\n",
       "      <th>12906</th>\n",
       "      <td>10092017</td>\n",
       "      <td>24217</td>\n",
       "      <td>0</td>\n",
       "      <td>65.62500</td>\n",
       "      <td>14.06047</td>\n",
       "      <td>10092017</td>\n",
       "      <td>71.0</td>\n",
       "      <td>10092017</td>\n",
       "      <td>5650</td>\n",
       "      <td>10724</td>\n",
       "      <td>8451</td>\n",
       "      <td>10092017</td>\n",
       "      <td>16:33</td>\n",
       "      <td>place 1</td>\n",
       "    </tr>\n",
       "  </tbody>\n",
       "</table>\n",
       "</div>"
      ],
      "text/plain": [
       "       end_date  sleep_duration  wake_duration  resting_heart_rate  \\\n",
       "8369   10152017           32056            480            61.52344   \n",
       "12906  10092017           24217              0            65.62500   \n",
       "\n",
       "       avr_resp_rate   cgmdate  Historic_ Glucose stepsdate  active_time  \\\n",
       "8369        14.37770  10152017              127.0  10152017         4582   \n",
       "12906       14.06047  10092017               71.0  10092017         5650   \n",
       "\n",
       "       steps  distance   enddate time_spent          type  \n",
       "8369    8135      6161  10152017       0:09  place unique  \n",
       "12906  10724      8451  10092017      16:33       place 1  "
      ]
     },
     "execution_count": 157,
     "metadata": {},
     "output_type": "execute_result"
    }
   ],
   "source": [
    "glucose_sleep_steps_gps.sample(2)"
   ]
  },
  {
   "cell_type": "code",
   "execution_count": 158,
   "metadata": {},
   "outputs": [
    {
     "data": {
      "text/plain": [
       "end_date                  0\n",
       "sleep_duration            0\n",
       "wake_duration             0\n",
       "resting_heart_rate        0\n",
       "avr_resp_rate             0\n",
       "cgmdate                   0\n",
       "Historic_ Glucose         0\n",
       "stepsdate                 0\n",
       "active_time               0\n",
       "steps                     0\n",
       "distance                  0\n",
       "enddate                   0\n",
       "time_spent            15346\n",
       "type                      0\n",
       "dtype: int64"
      ]
     },
     "execution_count": 158,
     "metadata": {},
     "output_type": "execute_result"
    }
   ],
   "source": [
    "g_sleep_steps_gps.isnull().sum()"
   ]
  },
  {
   "cell_type": "code",
   "execution_count": null,
   "metadata": {},
   "outputs": [],
   "source": [
    "g_sleep_steps_gps.shape"
   ]
  },
  {
   "cell_type": "code",
   "execution_count": null,
   "metadata": {},
   "outputs": [],
   "source": [
    "g_sleep_steps_gps.columns"
   ]
  },
  {
   "cell_type": "code",
   "execution_count": 160,
   "metadata": {},
   "outputs": [],
   "source": [
    "df = g_sleep_steps_gps.loc[:,['cgmdate','steps', 'sleep_duration','time_spent','type','Historic_ Glucose' ]]"
   ]
  },
  {
   "cell_type": "code",
   "execution_count": null,
   "metadata": {},
   "outputs": [],
   "source": [
    "# Writing the dataframe to a new .csv file"
   ]
  },
  {
   "cell_type": "code",
   "execution_count": 165,
   "metadata": {},
   "outputs": [],
   "source": [
    "df.to_csv('final_df')"
   ]
  },
  {
   "cell_type": "markdown",
   "metadata": {},
   "source": [
    "# creating viz with seaborn"
   ]
  },
  {
   "cell_type": "code",
   "execution_count": 164,
   "metadata": {},
   "outputs": [
    {
     "data": {
      "text/plain": [
       "<seaborn.axisgrid.PairGrid at 0x1c39d8ff908>"
      ]
     },
     "execution_count": 164,
     "metadata": {},
     "output_type": "execute_result"
    },
    {
     "data": {
      "image/png": "[encoded data removed]",
      "text/plain": [
       "<matplotlib.figure.Figure at 0x1c39d8ff160>"
      ]
     },
     "metadata": {},
     "output_type": "display_data"
    }
   ],
   "source": [
    "sns.pairplot(df, x_vars = ['steps', 'sleep_duration']  , y_vars = 'Historic_ Glucose',size = 7, aspect =0.7, kind = 'reg')"
   ]
  }
 ],
 "metadata": {
  "kernelspec": {
   "display_name": "Python 3",
   "language": "python",
   "name": "python3"
  },
  "language_info": {
   "codemirror_mode": {
    "name": "ipython",
    "version": 3
   },
   "file_extension": ".py",
   "mimetype": "text/x-python",
   "name": "python",
   "nbconvert_exporter": "python",
   "pygments_lexer": "ipython3",
   "version": "3.6.4"
  }
 },
 "nbformat": 4,
 "nbformat_minor": 2
}
