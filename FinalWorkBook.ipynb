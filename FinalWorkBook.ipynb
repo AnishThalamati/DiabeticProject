{
 "cells": [
  {
   "cell_type": "markdown",
   "metadata": {},
   "source": [
    "# DIABETIC PATIENT'S DATA ANALYSIS OF THE DATA FROM GLUCOSE MONITORS, ACTIVITY SENSORS, SLEEP SENSORS AND LOCATION MONITORS"
   ]
  },
  {
   "cell_type": "markdown",
   "metadata": {},
   "source": [
    "# Importing the necessary python packages and modules"
   ]
  },
  {
   "cell_type": "code",
   "execution_count": 331,
   "metadata": {},
   "outputs": [],
   "source": [
    "import pandas as pd\n",
    "import numpy as np\n",
    "import seaborn as sns\n",
    "import matplotlib.pyplot as plt\n",
    "%matplotlib inline"
   ]
  },
  {
   "cell_type": "markdown",
   "metadata": {},
   "source": [
    "# Connecting to the data for analysis"
   ]
  },
  {
   "cell_type": "code",
   "execution_count": 332,
   "metadata": {},
   "outputs": [],
   "source": [
    "g = pd.read_csv('cgm_date.csv')\n",
    "steps = pd.read_csv('steps_date.csv')\n",
    "sleep = pd.read_csv('beddit_date.csv')\n",
    "gps = pd.read_csv('loc_date.csv')"
   ]
  },
  {
   "cell_type": "markdown",
   "metadata": {},
   "source": [
    "# File namimg explanation:\n",
    "\n",
    "g is the file that contains the data about the user glucose measurements from the sensor\n",
    "\n",
    "steps conatins the data from the activity monitor of the patient\n",
    "\n",
    "sleep contains the data from the device 'beddit' which tracks inforamtion about the users sleep timings\n",
    "\n",
    "gps contains users location data and the amount fo time he spent in a particular location."
   ]
  },
  {
   "cell_type": "markdown",
   "metadata": {},
   "source": [
    "# Exploratory data analysis"
   ]
  },
  {
   "cell_type": "code",
   "execution_count": 333,
   "metadata": {},
   "outputs": [
    {
     "data": {
      "text/plain": [
       "cgmdate                int64\n",
       "cgmtime                int64\n",
       "Historic_ Glucose    float64\n",
       "Scan_Glucose         float64\n",
       "dtype: object"
      ]
     },
     "execution_count": 333,
     "metadata": {},
     "output_type": "execute_result"
    }
   ],
   "source": [
    "g.dtypes"
   ]
  },
  {
   "cell_type": "code",
   "execution_count": 309,
   "metadata": {},
   "outputs": [
    {
     "data": {
      "text/plain": [
       "stepsdate      int64\n",
       "stepstime      int64\n",
       "active_time    int64\n",
       "distance       int64\n",
       "id             int64\n",
       "steps          int64\n",
       "dtype: object"
      ]
     },
     "execution_count": 309,
     "metadata": {},
     "output_type": "execute_result"
    }
   ],
   "source": [
    "steps.dtypes"
   ]
  },
  {
   "cell_type": "code",
   "execution_count": 310,
   "metadata": {},
   "outputs": [
    {
     "data": {
      "text/plain": [
       "Unnamed: 0              int64\n",
       "start_date              int64\n",
       "start_time              int64\n",
       "end_date                int64\n",
       "end_time                int64\n",
       "sleep_duration          int64\n",
       "wake_duration           int64\n",
       "away_duration           int64\n",
       "resting_heart_rate    float64\n",
       "avr_resp_rate         float64\n",
       "dtype: object"
      ]
     },
     "execution_count": 310,
     "metadata": {},
     "output_type": "execute_result"
    }
   ],
   "source": [
    "sleep.dtypes"
   ]
  },
  {
   "cell_type": "code",
   "execution_count": 311,
   "metadata": {},
   "outputs": [
    {
     "data": {
      "text/plain": [
       "enddate              int64\n",
       "endtime              int64\n",
       "startdate            int64\n",
       "starttime            int64\n",
       "time_spent\\nH:MM    object\n",
       "type                object\n",
       "dtype: object"
      ]
     },
     "execution_count": 311,
     "metadata": {},
     "output_type": "execute_result"
    }
   ],
   "source": [
    "gps.dtypes"
   ]
  },
  {
   "cell_type": "markdown",
   "metadata": {},
   "source": [
    "# Checking the null values in the datasets"
   ]
  },
  {
   "cell_type": "code",
   "execution_count": 312,
   "metadata": {},
   "outputs": [
    {
     "data": {
      "text/plain": [
       "cgmdate                 0\n",
       "cgmtime                 0\n",
       "Historic_ Glucose     949\n",
       "Scan_Glucose         5892\n",
       "dtype: int64"
      ]
     },
     "execution_count": 312,
     "metadata": {},
     "output_type": "execute_result"
    }
   ],
   "source": [
    "g.isnull().sum()"
   ]
  },
  {
   "cell_type": "code",
   "execution_count": 313,
   "metadata": {},
   "outputs": [
    {
     "data": {
      "text/plain": [
       "stepsdate      0\n",
       "stepstime      0\n",
       "active_time    0\n",
       "distance       0\n",
       "id             0\n",
       "steps          0\n",
       "dtype: int64"
      ]
     },
     "execution_count": 313,
     "metadata": {},
     "output_type": "execute_result"
    }
   ],
   "source": [
    "steps.isnull().sum()"
   ]
  },
  {
   "cell_type": "code",
   "execution_count": 314,
   "metadata": {},
   "outputs": [
    {
     "data": {
      "text/plain": [
       "Unnamed: 0            0\n",
       "start_date            0\n",
       "start_time            0\n",
       "end_date              0\n",
       "end_time              0\n",
       "sleep_duration        0\n",
       "wake_duration         0\n",
       "away_duration         0\n",
       "resting_heart_rate    0\n",
       "avr_resp_rate         0\n",
       "dtype: int64"
      ]
     },
     "execution_count": 314,
     "metadata": {},
     "output_type": "execute_result"
    }
   ],
   "source": [
    "sleep.isnull().sum()"
   ]
  },
  {
   "cell_type": "code",
   "execution_count": 315,
   "metadata": {},
   "outputs": [
    {
     "data": {
      "text/plain": [
       "enddate             0\n",
       "endtime             0\n",
       "startdate           0\n",
       "starttime           0\n",
       "time_spent\\nH:MM    0\n",
       "type                0\n",
       "dtype: int64"
      ]
     },
     "execution_count": 315,
     "metadata": {},
     "output_type": "execute_result"
    }
   ],
   "source": [
    "gps.isnull().sum()"
   ]
  },
  {
   "cell_type": "markdown",
   "metadata": {},
   "source": [
    "# Removing the null values -migrating null values in the feature Historic_ Glucose with values from scan_Glucose"
   ]
  },
  {
   "cell_type": "code",
   "execution_count": 334,
   "metadata": {},
   "outputs": [],
   "source": [
    "g.loc[g['Historic_ Glucose'].isnull(), 'Historic_ Glucose'] = g['Scan_Glucose']"
   ]
  },
  {
   "cell_type": "markdown",
   "metadata": {},
   "source": [
    "#Rechecking for null values"
   ]
  },
  {
   "cell_type": "code",
   "execution_count": 318,
   "metadata": {},
   "outputs": [
    {
     "data": {
      "text/plain": [
       "cgmdate                 0\n",
       "cgmtime                 0\n",
       "Historic_ Glucose       3\n",
       "Scan_Glucose         5892\n",
       "dtype: int64"
      ]
     },
     "execution_count": 318,
     "metadata": {},
     "output_type": "execute_result"
    }
   ],
   "source": [
    "g.isnull().sum()"
   ]
  },
  {
   "cell_type": "markdown",
   "metadata": {},
   "source": [
    "# Feature Assessment / Feature Engineering"
   ]
  },
  {
   "cell_type": "markdown",
   "metadata": {},
   "source": [
    "#Assessing the various features of the dataset "
   ]
  },
  {
   "cell_type": "code",
   "execution_count": 320,
   "metadata": {},
   "outputs": [
    {
     "data": {
      "text/plain": [
       "Index(['cgmdate', 'cgmtime', 'Historic_ Glucose', 'Scan_Glucose'], dtype='object')"
      ]
     },
     "execution_count": 320,
     "metadata": {},
     "output_type": "execute_result"
    }
   ],
   "source": [
    "g.columns"
   ]
  },
  {
   "cell_type": "code",
   "execution_count": 321,
   "metadata": {},
   "outputs": [
    {
     "data": {
      "text/plain": [
       "Index(['stepsdate', 'stepstime', 'active_time', 'distance', 'id', 'steps'], dtype='object')"
      ]
     },
     "execution_count": 321,
     "metadata": {},
     "output_type": "execute_result"
    }
   ],
   "source": [
    "steps.columns"
   ]
  },
  {
   "cell_type": "code",
   "execution_count": 322,
   "metadata": {},
   "outputs": [
    {
     "data": {
      "text/plain": [
       "Index(['Unnamed: 0', 'start_date', 'start_time', 'end_date', 'end_time',\n",
       "       'sleep_duration', 'wake_duration', 'away_duration',\n",
       "       'resting_heart_rate', 'avr_resp_rate'],\n",
       "      dtype='object')"
      ]
     },
     "execution_count": 322,
     "metadata": {},
     "output_type": "execute_result"
    }
   ],
   "source": [
    "sleep.columns"
   ]
  },
  {
   "cell_type": "code",
   "execution_count": 323,
   "metadata": {},
   "outputs": [
    {
     "data": {
      "text/plain": [
       "Index(['enddate', 'endtime', 'startdate', 'starttime', 'time_spent\\nH:MM',\n",
       "       'type'],\n",
       "      dtype='object')"
      ]
     },
     "execution_count": 323,
     "metadata": {},
     "output_type": "execute_result"
    }
   ],
   "source": [
    "gps.columns"
   ]
  },
  {
   "cell_type": "markdown",
   "metadata": {},
   "source": [
    "#sampling data from all the data sets"
   ]
  },
  {
   "cell_type": "code",
   "execution_count": 325,
   "metadata": {},
   "outputs": [
    {
     "data": {
      "text/html": [
       "<div>\n",
       "<style scoped>\n",
       "    .dataframe tbody tr th:only-of-type {\n",
       "        vertical-align: middle;\n",
       "    }\n",
       "\n",
       "    .dataframe tbody tr th {\n",
       "        vertical-align: top;\n",
       "    }\n",
       "\n",
       "    .dataframe thead th {\n",
       "        text-align: right;\n",
       "    }\n",
       "</style>\n",
       "<table border=\"1\" class=\"dataframe\">\n",
       "  <thead>\n",
       "    <tr style=\"text-align: right;\">\n",
       "      <th></th>\n",
       "      <th>cgmdate</th>\n",
       "      <th>cgmtime</th>\n",
       "      <th>Historic_ Glucose</th>\n",
       "      <th>Scan_Glucose</th>\n",
       "    </tr>\n",
       "  </thead>\n",
       "  <tbody>\n",
       "    <tr>\n",
       "      <th>264</th>\n",
       "      <td>100420170000</td>\n",
       "      <td>10019000610</td>\n",
       "      <td>92.0</td>\n",
       "      <td>NaN</td>\n",
       "    </tr>\n",
       "    <tr>\n",
       "      <th>39</th>\n",
       "      <td>100220170000</td>\n",
       "      <td>10019000347</td>\n",
       "      <td>102.0</td>\n",
       "      <td>NaN</td>\n",
       "    </tr>\n",
       "  </tbody>\n",
       "</table>\n",
       "</div>"
      ],
      "text/plain": [
       "          cgmdate      cgmtime  Historic_ Glucose  Scan_Glucose\n",
       "264  100420170000  10019000610               92.0           NaN\n",
       "39   100220170000  10019000347              102.0           NaN"
      ]
     },
     "execution_count": 325,
     "metadata": {},
     "output_type": "execute_result"
    }
   ],
   "source": [
    "g.sample(2)"
   ]
  },
  {
   "cell_type": "code",
   "execution_count": 326,
   "metadata": {},
   "outputs": [
    {
     "data": {
      "text/html": [
       "<div>\n",
       "<style scoped>\n",
       "    .dataframe tbody tr th:only-of-type {\n",
       "        vertical-align: middle;\n",
       "    }\n",
       "\n",
       "    .dataframe tbody tr th {\n",
       "        vertical-align: top;\n",
       "    }\n",
       "\n",
       "    .dataframe thead th {\n",
       "        text-align: right;\n",
       "    }\n",
       "</style>\n",
       "<table border=\"1\" class=\"dataframe\">\n",
       "  <thead>\n",
       "    <tr style=\"text-align: right;\">\n",
       "      <th></th>\n",
       "      <th>stepsdate</th>\n",
       "      <th>stepstime</th>\n",
       "      <th>active_time</th>\n",
       "      <th>distance</th>\n",
       "      <th>id</th>\n",
       "      <th>steps</th>\n",
       "    </tr>\n",
       "  </thead>\n",
       "  <tbody>\n",
       "    <tr>\n",
       "      <th>5</th>\n",
       "      <td>102420170000</td>\n",
       "      <td>10019002041</td>\n",
       "      <td>4960</td>\n",
       "      <td>6277</td>\n",
       "      <td>2240</td>\n",
       "      <td>8495</td>\n",
       "    </tr>\n",
       "    <tr>\n",
       "      <th>14</th>\n",
       "      <td>110220170000</td>\n",
       "      <td>10019002150</td>\n",
       "      <td>1464</td>\n",
       "      <td>3866</td>\n",
       "      <td>2249</td>\n",
       "      <td>3442</td>\n",
       "    </tr>\n",
       "  </tbody>\n",
       "</table>\n",
       "</div>"
      ],
      "text/plain": [
       "       stepsdate    stepstime  active_time  distance    id  steps\n",
       "5   102420170000  10019002041         4960      6277  2240   8495\n",
       "14  110220170000  10019002150         1464      3866  2249   3442"
      ]
     },
     "execution_count": 326,
     "metadata": {},
     "output_type": "execute_result"
    }
   ],
   "source": [
    "steps.sample(2)"
   ]
  },
  {
   "cell_type": "code",
   "execution_count": 327,
   "metadata": {},
   "outputs": [
    {
     "data": {
      "text/html": [
       "<div>\n",
       "<style scoped>\n",
       "    .dataframe tbody tr th:only-of-type {\n",
       "        vertical-align: middle;\n",
       "    }\n",
       "\n",
       "    .dataframe tbody tr th {\n",
       "        vertical-align: top;\n",
       "    }\n",
       "\n",
       "    .dataframe thead th {\n",
       "        text-align: right;\n",
       "    }\n",
       "</style>\n",
       "<table border=\"1\" class=\"dataframe\">\n",
       "  <thead>\n",
       "    <tr style=\"text-align: right;\">\n",
       "      <th></th>\n",
       "      <th>Unnamed: 0</th>\n",
       "      <th>start_date</th>\n",
       "      <th>start_time</th>\n",
       "      <th>end_date</th>\n",
       "      <th>end_time</th>\n",
       "      <th>sleep_duration</th>\n",
       "      <th>wake_duration</th>\n",
       "      <th>away_duration</th>\n",
       "      <th>resting_heart_rate</th>\n",
       "      <th>avr_resp_rate</th>\n",
       "    </tr>\n",
       "  </thead>\n",
       "  <tbody>\n",
       "    <tr>\n",
       "      <th>22</th>\n",
       "      <td>22</td>\n",
       "      <td>101220170000</td>\n",
       "      <td>10019002042</td>\n",
       "      <td>101320170000</td>\n",
       "      <td>10019000440</td>\n",
       "      <td>27304</td>\n",
       "      <td>1200</td>\n",
       "      <td>189</td>\n",
       "      <td>58.959960</td>\n",
       "      <td>13.829230</td>\n",
       "    </tr>\n",
       "    <tr>\n",
       "      <th>1</th>\n",
       "      <td>1</td>\n",
       "      <td>101620170000</td>\n",
       "      <td>10019002101</td>\n",
       "      <td>101720170000</td>\n",
       "      <td>10019000440</td>\n",
       "      <td>22611</td>\n",
       "      <td>4263</td>\n",
       "      <td>678</td>\n",
       "      <td>72.802734</td>\n",
       "      <td>14.175988</td>\n",
       "    </tr>\n",
       "  </tbody>\n",
       "</table>\n",
       "</div>"
      ],
      "text/plain": [
       "    Unnamed: 0    start_date   start_time      end_date     end_time  \\\n",
       "22          22  101220170000  10019002042  101320170000  10019000440   \n",
       "1            1  101620170000  10019002101  101720170000  10019000440   \n",
       "\n",
       "    sleep_duration  wake_duration  away_duration  resting_heart_rate  \\\n",
       "22           27304           1200            189           58.959960   \n",
       "1            22611           4263            678           72.802734   \n",
       "\n",
       "    avr_resp_rate  \n",
       "22      13.829230  \n",
       "1       14.175988  "
      ]
     },
     "execution_count": 327,
     "metadata": {},
     "output_type": "execute_result"
    }
   ],
   "source": [
    "sleep.sample(2)"
   ]
  },
  {
   "cell_type": "code",
   "execution_count": 328,
   "metadata": {},
   "outputs": [
    {
     "data": {
      "text/html": [
       "<div>\n",
       "<style scoped>\n",
       "    .dataframe tbody tr th:only-of-type {\n",
       "        vertical-align: middle;\n",
       "    }\n",
       "\n",
       "    .dataframe tbody tr th {\n",
       "        vertical-align: top;\n",
       "    }\n",
       "\n",
       "    .dataframe thead th {\n",
       "        text-align: right;\n",
       "    }\n",
       "</style>\n",
       "<table border=\"1\" class=\"dataframe\">\n",
       "  <thead>\n",
       "    <tr style=\"text-align: right;\">\n",
       "      <th></th>\n",
       "      <th>enddate</th>\n",
       "      <th>endtime</th>\n",
       "      <th>startdate</th>\n",
       "      <th>starttime</th>\n",
       "      <th>time_spent\n",
       "H:MM</th>\n",
       "      <th>type</th>\n",
       "    </tr>\n",
       "  </thead>\n",
       "  <tbody>\n",
       "    <tr>\n",
       "      <th>144</th>\n",
       "      <td>110720170000</td>\n",
       "      <td>10019001708</td>\n",
       "      <td>110720170000</td>\n",
       "      <td>10019001550</td>\n",
       "      <td>1:17</td>\n",
       "      <td>place unique</td>\n",
       "    </tr>\n",
       "    <tr>\n",
       "      <th>78</th>\n",
       "      <td>100520170000</td>\n",
       "      <td>10019001402</td>\n",
       "      <td>100520170000</td>\n",
       "      <td>10019001349</td>\n",
       "      <td>0:12</td>\n",
       "      <td>place 3</td>\n",
       "    </tr>\n",
       "  </tbody>\n",
       "</table>\n",
       "</div>"
      ],
      "text/plain": [
       "          enddate      endtime     startdate    starttime time_spent\\nH:MM  \\\n",
       "144  110720170000  10019001708  110720170000  10019001550             1:17   \n",
       "78   100520170000  10019001402  100520170000  10019001349             0:12   \n",
       "\n",
       "             type  \n",
       "144  place unique  \n",
       "78        place 3  "
      ]
     },
     "execution_count": 328,
     "metadata": {},
     "output_type": "execute_result"
    }
   ],
   "source": [
    "gps.sample(2)"
   ]
  },
  {
   "cell_type": "markdown",
   "metadata": {},
   "source": [
    "# Cleaning the data "
   ]
  },
  {
   "cell_type": "markdown",
   "metadata": {},
   "source": [
    "# Selecting the necessary features from the datasets.\n",
    "features selected in g:\n",
    "    1. cgmdate\n",
    "    2. Historic_ Glucose\n",
    "    \n"
   ]
  },
  {
   "cell_type": "code",
   "execution_count": 335,
   "metadata": {},
   "outputs": [],
   "source": [
    "g = g.loc[:,['cgmdate','Historic_ Glucose']]"
   ]
  },
  {
   "cell_type": "markdown",
   "metadata": {},
   "source": [
    "# Selecting the necessary features from the datasets.\n",
    "features selected in sleep:\n",
    "    1. end_date\n",
    "    2. sleep_duration\n",
    "    3. wake_duration\n",
    "    4. resting_heart_rate\n",
    "    5. avr_resp_rate"
   ]
  },
  {
   "cell_type": "code",
   "execution_count": 336,
   "metadata": {},
   "outputs": [],
   "source": [
    "sleep = sleep.loc [:,['end_date','sleep_duration','wake_duration','resting_heart_rate','avr_resp_rate']]"
   ]
  },
  {
   "cell_type": "markdown",
   "metadata": {},
   "source": [
    "# Selecting the necessary features from the datasets.\n",
    "features selected in steps:\n",
    "    1. stepsdate\n",
    "    2. active_time\n",
    "    3. distance\n",
    "    4. steps"
   ]
  },
  {
   "cell_type": "code",
   "execution_count": 337,
   "metadata": {},
   "outputs": [],
   "source": [
    "steps = steps.loc[:,['stepsdate','active_time','steps','distance']]"
   ]
  },
  {
   "cell_type": "markdown",
   "metadata": {},
   "source": [
    "#Selecting the necessary features from the datasets.\n",
    "features selected in location:\n",
    "    1. enddate\n",
    "    2. time_spent H:MM\n",
    "    3. type\n",
    "   "
   ]
  },
  {
   "cell_type": "code",
   "execution_count": 338,
   "metadata": {},
   "outputs": [],
   "source": [
    "gps = gps.loc[:,['enddate','time_spent\\nH:MM','type']]"
   ]
  },
  {
   "cell_type": "markdown",
   "metadata": {},
   "source": [
    "#cleaning contd:\n",
    "\n",
    "Removing additional characters in date and time"
   ]
  },
  {
   "cell_type": "code",
   "execution_count": 339,
   "metadata": {},
   "outputs": [],
   "source": [
    "g['cgmdate'] = g['cgmdate'].map(lambda x: str(x)[:-4])"
   ]
  },
  {
   "cell_type": "code",
   "execution_count": 340,
   "metadata": {},
   "outputs": [],
   "source": [
    "sleep['end_date'] = sleep['end_date'].map(lambda x: str(x)[:-4])"
   ]
  },
  {
   "cell_type": "code",
   "execution_count": 341,
   "metadata": {},
   "outputs": [],
   "source": [
    "steps['stepsdate'] = steps['stepsdate'].map(lambda x:str(x)[:-4])"
   ]
  },
  {
   "cell_type": "code",
   "execution_count": 342,
   "metadata": {},
   "outputs": [],
   "source": [
    "gps['enddate'] = gps['enddate'].map(lambda x :str(x)[:-4])"
   ]
  },
  {
   "cell_type": "code",
   "execution_count": 343,
   "metadata": {},
   "outputs": [],
   "source": [
    "gps.columns = gps.columns.str.replace (\"time_spent\\nH:MM\", \"time_spent\")"
   ]
  },
  {
   "cell_type": "markdown",
   "metadata": {},
   "source": [
    "#re-sampling of the cleaned data"
   ]
  },
  {
   "cell_type": "code",
   "execution_count": 345,
   "metadata": {},
   "outputs": [
    {
     "data": {
      "text/html": [
       "<div>\n",
       "<style scoped>\n",
       "    .dataframe tbody tr th:only-of-type {\n",
       "        vertical-align: middle;\n",
       "    }\n",
       "\n",
       "    .dataframe tbody tr th {\n",
       "        vertical-align: top;\n",
       "    }\n",
       "\n",
       "    .dataframe thead th {\n",
       "        text-align: right;\n",
       "    }\n",
       "</style>\n",
       "<table border=\"1\" class=\"dataframe\">\n",
       "  <thead>\n",
       "    <tr style=\"text-align: right;\">\n",
       "      <th></th>\n",
       "      <th>cgmdate</th>\n",
       "      <th>Historic_ Glucose</th>\n",
       "    </tr>\n",
       "  </thead>\n",
       "  <tbody>\n",
       "    <tr>\n",
       "      <th>1525</th>\n",
       "      <td>10152017</td>\n",
       "      <td>80.0</td>\n",
       "    </tr>\n",
       "    <tr>\n",
       "      <th>5815</th>\n",
       "      <td>11262017</td>\n",
       "      <td>113.0</td>\n",
       "    </tr>\n",
       "  </tbody>\n",
       "</table>\n",
       "</div>"
      ],
      "text/plain": [
       "       cgmdate  Historic_ Glucose\n",
       "1525  10152017               80.0\n",
       "5815  11262017              113.0"
      ]
     },
     "execution_count": 345,
     "metadata": {},
     "output_type": "execute_result"
    }
   ],
   "source": [
    "g.sample(2)"
   ]
  },
  {
   "cell_type": "code",
   "execution_count": 347,
   "metadata": {},
   "outputs": [
    {
     "data": {
      "text/html": [
       "<div>\n",
       "<style scoped>\n",
       "    .dataframe tbody tr th:only-of-type {\n",
       "        vertical-align: middle;\n",
       "    }\n",
       "\n",
       "    .dataframe tbody tr th {\n",
       "        vertical-align: top;\n",
       "    }\n",
       "\n",
       "    .dataframe thead th {\n",
       "        text-align: right;\n",
       "    }\n",
       "</style>\n",
       "<table border=\"1\" class=\"dataframe\">\n",
       "  <thead>\n",
       "    <tr style=\"text-align: right;\">\n",
       "      <th></th>\n",
       "      <th>end_date</th>\n",
       "      <th>sleep_duration</th>\n",
       "      <th>wake_duration</th>\n",
       "      <th>resting_heart_rate</th>\n",
       "      <th>avr_resp_rate</th>\n",
       "    </tr>\n",
       "  </thead>\n",
       "  <tbody>\n",
       "    <tr>\n",
       "      <th>30</th>\n",
       "      <td>10052017</td>\n",
       "      <td>0</td>\n",
       "      <td>0</td>\n",
       "      <td>0.0</td>\n",
       "      <td>0.000000</td>\n",
       "    </tr>\n",
       "    <tr>\n",
       "      <th>19</th>\n",
       "      <td>10192017</td>\n",
       "      <td>26446</td>\n",
       "      <td>0</td>\n",
       "      <td>0.0</td>\n",
       "      <td>13.552714</td>\n",
       "    </tr>\n",
       "  </tbody>\n",
       "</table>\n",
       "</div>"
      ],
      "text/plain": [
       "    end_date  sleep_duration  wake_duration  resting_heart_rate  avr_resp_rate\n",
       "30  10052017               0              0                 0.0       0.000000\n",
       "19  10192017           26446              0                 0.0      13.552714"
      ]
     },
     "execution_count": 347,
     "metadata": {},
     "output_type": "execute_result"
    }
   ],
   "source": [
    "sleep.sample(2)"
   ]
  },
  {
   "cell_type": "code",
   "execution_count": 348,
   "metadata": {},
   "outputs": [
    {
     "data": {
      "text/html": [
       "<div>\n",
       "<style scoped>\n",
       "    .dataframe tbody tr th:only-of-type {\n",
       "        vertical-align: middle;\n",
       "    }\n",
       "\n",
       "    .dataframe tbody tr th {\n",
       "        vertical-align: top;\n",
       "    }\n",
       "\n",
       "    .dataframe thead th {\n",
       "        text-align: right;\n",
       "    }\n",
       "</style>\n",
       "<table border=\"1\" class=\"dataframe\">\n",
       "  <thead>\n",
       "    <tr style=\"text-align: right;\">\n",
       "      <th></th>\n",
       "      <th>stepsdate</th>\n",
       "      <th>active_time</th>\n",
       "      <th>steps</th>\n",
       "      <th>distance</th>\n",
       "    </tr>\n",
       "  </thead>\n",
       "  <tbody>\n",
       "    <tr>\n",
       "      <th>10</th>\n",
       "      <td>10192017</td>\n",
       "      <td>8289</td>\n",
       "      <td>14713</td>\n",
       "      <td>11121</td>\n",
       "    </tr>\n",
       "    <tr>\n",
       "      <th>17</th>\n",
       "      <td>10302017</td>\n",
       "      <td>4871</td>\n",
       "      <td>9429</td>\n",
       "      <td>7499</td>\n",
       "    </tr>\n",
       "  </tbody>\n",
       "</table>\n",
       "</div>"
      ],
      "text/plain": [
       "   stepsdate  active_time  steps  distance\n",
       "10  10192017         8289  14713     11121\n",
       "17  10302017         4871   9429      7499"
      ]
     },
     "execution_count": 348,
     "metadata": {},
     "output_type": "execute_result"
    }
   ],
   "source": [
    "steps.sample(2)"
   ]
  },
  {
   "cell_type": "code",
   "execution_count": 350,
   "metadata": {},
   "outputs": [
    {
     "data": {
      "text/html": [
       "<div>\n",
       "<style scoped>\n",
       "    .dataframe tbody tr th:only-of-type {\n",
       "        vertical-align: middle;\n",
       "    }\n",
       "\n",
       "    .dataframe tbody tr th {\n",
       "        vertical-align: top;\n",
       "    }\n",
       "\n",
       "    .dataframe thead th {\n",
       "        text-align: right;\n",
       "    }\n",
       "</style>\n",
       "<table border=\"1\" class=\"dataframe\">\n",
       "  <thead>\n",
       "    <tr style=\"text-align: right;\">\n",
       "      <th></th>\n",
       "      <th>enddate</th>\n",
       "      <th>time_spent</th>\n",
       "      <th>type</th>\n",
       "    </tr>\n",
       "  </thead>\n",
       "  <tbody>\n",
       "    <tr>\n",
       "      <th>132</th>\n",
       "      <td>10202017</td>\n",
       "      <td>0:10</td>\n",
       "      <td>place unique</td>\n",
       "    </tr>\n",
       "    <tr>\n",
       "      <th>64</th>\n",
       "      <td>10092017</td>\n",
       "      <td>4:53</td>\n",
       "      <td>place 2</td>\n",
       "    </tr>\n",
       "  </tbody>\n",
       "</table>\n",
       "</div>"
      ],
      "text/plain": [
       "      enddate time_spent          type\n",
       "132  10202017       0:10  place unique\n",
       "64   10092017       4:53       place 2"
      ]
     },
     "execution_count": 350,
     "metadata": {},
     "output_type": "execute_result"
    }
   ],
   "source": [
    "gps.sample(2)"
   ]
  },
  {
   "cell_type": "markdown",
   "metadata": {},
   "source": [
    "# Merging all the datasets by the common feature, i.e, the date on which the data is collected"
   ]
  },
  {
   "cell_type": "code",
   "execution_count": 351,
   "metadata": {},
   "outputs": [],
   "source": [
    "g_sleep= sleep.merge(g, how = 'inner', left_on = 'end_date', right_on = 'cgmdate')"
   ]
  },
  {
   "cell_type": "code",
   "execution_count": 352,
   "metadata": {},
   "outputs": [
    {
     "data": {
      "text/html": [
       "<div>\n",
       "<style scoped>\n",
       "    .dataframe tbody tr th:only-of-type {\n",
       "        vertical-align: middle;\n",
       "    }\n",
       "\n",
       "    .dataframe tbody tr th {\n",
       "        vertical-align: top;\n",
       "    }\n",
       "\n",
       "    .dataframe thead th {\n",
       "        text-align: right;\n",
       "    }\n",
       "</style>\n",
       "<table border=\"1\" class=\"dataframe\">\n",
       "  <thead>\n",
       "    <tr style=\"text-align: right;\">\n",
       "      <th></th>\n",
       "      <th>end_date</th>\n",
       "      <th>sleep_duration</th>\n",
       "      <th>wake_duration</th>\n",
       "      <th>resting_heart_rate</th>\n",
       "      <th>avr_resp_rate</th>\n",
       "      <th>cgmdate</th>\n",
       "      <th>Historic_ Glucose</th>\n",
       "    </tr>\n",
       "  </thead>\n",
       "  <tbody>\n",
       "    <tr>\n",
       "      <th>1999</th>\n",
       "      <td>10202017</td>\n",
       "      <td>8304</td>\n",
       "      <td>9879</td>\n",
       "      <td>66.137695</td>\n",
       "      <td>14.130795</td>\n",
       "      <td>10202017</td>\n",
       "      <td>98.0</td>\n",
       "    </tr>\n",
       "    <tr>\n",
       "      <th>362</th>\n",
       "      <td>11102017</td>\n",
       "      <td>28674</td>\n",
       "      <td>480</td>\n",
       "      <td>60.498047</td>\n",
       "      <td>13.626912</td>\n",
       "      <td>11102017</td>\n",
       "      <td>54.0</td>\n",
       "    </tr>\n",
       "  </tbody>\n",
       "</table>\n",
       "</div>"
      ],
      "text/plain": [
       "      end_date  sleep_duration  wake_duration  resting_heart_rate  \\\n",
       "1999  10202017            8304           9879           66.137695   \n",
       "362   11102017           28674            480           60.498047   \n",
       "\n",
       "      avr_resp_rate   cgmdate  Historic_ Glucose  \n",
       "1999      14.130795  10202017               98.0  \n",
       "362       13.626912  11102017               54.0  "
      ]
     },
     "execution_count": 352,
     "metadata": {},
     "output_type": "execute_result"
    }
   ],
   "source": [
    "g_sleep.sample(2)"
   ]
  },
  {
   "cell_type": "code",
   "execution_count": 353,
   "metadata": {},
   "outputs": [],
   "source": [
    "g_sleep_steps = g_sleep.merge(steps, how = 'inner', left_on = 'cgmdate', right_on = 'stepsdate')"
   ]
  },
  {
   "cell_type": "code",
   "execution_count": 354,
   "metadata": {},
   "outputs": [
    {
     "data": {
      "text/html": [
       "<div>\n",
       "<style scoped>\n",
       "    .dataframe tbody tr th:only-of-type {\n",
       "        vertical-align: middle;\n",
       "    }\n",
       "\n",
       "    .dataframe tbody tr th {\n",
       "        vertical-align: top;\n",
       "    }\n",
       "\n",
       "    .dataframe thead th {\n",
       "        text-align: right;\n",
       "    }\n",
       "</style>\n",
       "<table border=\"1\" class=\"dataframe\">\n",
       "  <thead>\n",
       "    <tr style=\"text-align: right;\">\n",
       "      <th></th>\n",
       "      <th>end_date</th>\n",
       "      <th>sleep_duration</th>\n",
       "      <th>wake_duration</th>\n",
       "      <th>resting_heart_rate</th>\n",
       "      <th>avr_resp_rate</th>\n",
       "      <th>cgmdate</th>\n",
       "      <th>Historic_ Glucose</th>\n",
       "      <th>stepsdate</th>\n",
       "      <th>active_time</th>\n",
       "      <th>steps</th>\n",
       "      <th>distance</th>\n",
       "    </tr>\n",
       "  </thead>\n",
       "  <tbody>\n",
       "    <tr>\n",
       "      <th>1019</th>\n",
       "      <td>10262017</td>\n",
       "      <td>24915</td>\n",
       "      <td>360</td>\n",
       "      <td>68.188477</td>\n",
       "      <td>14.037940</td>\n",
       "      <td>10262017</td>\n",
       "      <td>239.0</td>\n",
       "      <td>10262017</td>\n",
       "      <td>9932</td>\n",
       "      <td>19738</td>\n",
       "      <td>17927</td>\n",
       "    </tr>\n",
       "    <tr>\n",
       "      <th>421</th>\n",
       "      <td>11022017</td>\n",
       "      <td>28326</td>\n",
       "      <td>360</td>\n",
       "      <td>64.086914</td>\n",
       "      <td>13.678385</td>\n",
       "      <td>11022017</td>\n",
       "      <td>182.0</td>\n",
       "      <td>11022017</td>\n",
       "      <td>1464</td>\n",
       "      <td>3442</td>\n",
       "      <td>3866</td>\n",
       "    </tr>\n",
       "  </tbody>\n",
       "</table>\n",
       "</div>"
      ],
      "text/plain": [
       "      end_date  sleep_duration  wake_duration  resting_heart_rate  \\\n",
       "1019  10262017           24915            360           68.188477   \n",
       "421   11022017           28326            360           64.086914   \n",
       "\n",
       "      avr_resp_rate   cgmdate  Historic_ Glucose stepsdate  active_time  \\\n",
       "1019      14.037940  10262017              239.0  10262017         9932   \n",
       "421       13.678385  11022017              182.0  11022017         1464   \n",
       "\n",
       "      steps  distance  \n",
       "1019  19738     17927  \n",
       "421    3442      3866  "
      ]
     },
     "execution_count": 354,
     "metadata": {},
     "output_type": "execute_result"
    }
   ],
   "source": [
    "g_sleep_steps.sample(2)"
   ]
  },
  {
   "cell_type": "code",
   "execution_count": 355,
   "metadata": {},
   "outputs": [],
   "source": [
    "g_sleep_steps_gps = g_sleep_steps.merge(gps, how = 'inner', left_on = 'cgmdate', right_on = 'enddate')"
   ]
  },
  {
   "cell_type": "code",
   "execution_count": 356,
   "metadata": {},
   "outputs": [
    {
     "data": {
      "text/html": [
       "<div>\n",
       "<style scoped>\n",
       "    .dataframe tbody tr th:only-of-type {\n",
       "        vertical-align: middle;\n",
       "    }\n",
       "\n",
       "    .dataframe tbody tr th {\n",
       "        vertical-align: top;\n",
       "    }\n",
       "\n",
       "    .dataframe thead th {\n",
       "        text-align: right;\n",
       "    }\n",
       "</style>\n",
       "<table border=\"1\" class=\"dataframe\">\n",
       "  <thead>\n",
       "    <tr style=\"text-align: right;\">\n",
       "      <th></th>\n",
       "      <th>end_date</th>\n",
       "      <th>sleep_duration</th>\n",
       "      <th>wake_duration</th>\n",
       "      <th>resting_heart_rate</th>\n",
       "      <th>avr_resp_rate</th>\n",
       "      <th>cgmdate</th>\n",
       "      <th>Historic_ Glucose</th>\n",
       "      <th>stepsdate</th>\n",
       "      <th>active_time</th>\n",
       "      <th>steps</th>\n",
       "      <th>distance</th>\n",
       "      <th>enddate</th>\n",
       "      <th>time_spent</th>\n",
       "      <th>type</th>\n",
       "    </tr>\n",
       "  </thead>\n",
       "  <tbody>\n",
       "    <tr>\n",
       "      <th>8812</th>\n",
       "      <td>10152017</td>\n",
       "      <td>32056</td>\n",
       "      <td>480</td>\n",
       "      <td>61.523440</td>\n",
       "      <td>14.37770</td>\n",
       "      <td>10152017</td>\n",
       "      <td>106.0</td>\n",
       "      <td>10152017</td>\n",
       "      <td>4582</td>\n",
       "      <td>8135</td>\n",
       "      <td>6161</td>\n",
       "      <td>10152017</td>\n",
       "      <td>0:02</td>\n",
       "      <td>place unique</td>\n",
       "    </tr>\n",
       "    <tr>\n",
       "      <th>1168</th>\n",
       "      <td>11012017</td>\n",
       "      <td>28516</td>\n",
       "      <td>840</td>\n",
       "      <td>59.985352</td>\n",
       "      <td>13.75165</td>\n",
       "      <td>11012017</td>\n",
       "      <td>183.0</td>\n",
       "      <td>11012017</td>\n",
       "      <td>4516</td>\n",
       "      <td>8340</td>\n",
       "      <td>6466</td>\n",
       "      <td>11012017</td>\n",
       "      <td>0:20</td>\n",
       "      <td>place unique</td>\n",
       "    </tr>\n",
       "  </tbody>\n",
       "</table>\n",
       "</div>"
      ],
      "text/plain": [
       "      end_date  sleep_duration  wake_duration  resting_heart_rate  \\\n",
       "8812  10152017           32056            480           61.523440   \n",
       "1168  11012017           28516            840           59.985352   \n",
       "\n",
       "      avr_resp_rate   cgmdate  Historic_ Glucose stepsdate  active_time  \\\n",
       "8812       14.37770  10152017              106.0  10152017         4582   \n",
       "1168       13.75165  11012017              183.0  11012017         4516   \n",
       "\n",
       "      steps  distance   enddate time_spent          type  \n",
       "8812   8135      6161  10152017       0:02  place unique  \n",
       "1168   8340      6466  11012017       0:20  place unique  "
      ]
     },
     "execution_count": 356,
     "metadata": {},
     "output_type": "execute_result"
    }
   ],
   "source": [
    "g_sleep_steps_gps.sample(2)"
   ]
  },
  {
   "cell_type": "code",
   "execution_count": 357,
   "metadata": {},
   "outputs": [
    {
     "data": {
      "text/plain": [
       "end_date               0\n",
       "sleep_duration         0\n",
       "wake_duration          0\n",
       "resting_heart_rate     0\n",
       "avr_resp_rate          0\n",
       "cgmdate                0\n",
       "Historic_ Glucose     11\n",
       "stepsdate              0\n",
       "active_time            0\n",
       "steps                  0\n",
       "distance               0\n",
       "enddate                0\n",
       "time_spent             0\n",
       "type                   0\n",
       "dtype: int64"
      ]
     },
     "execution_count": 357,
     "metadata": {},
     "output_type": "execute_result"
    }
   ],
   "source": [
    "g_sleep_steps_gps.isnull().sum()"
   ]
  },
  {
   "cell_type": "code",
   "execution_count": 358,
   "metadata": {},
   "outputs": [
    {
     "data": {
      "text/plain": [
       "(15357, 14)"
      ]
     },
     "execution_count": 358,
     "metadata": {},
     "output_type": "execute_result"
    }
   ],
   "source": [
    "g_sleep_steps_gps.shape"
   ]
  },
  {
   "cell_type": "code",
   "execution_count": 359,
   "metadata": {},
   "outputs": [
    {
     "data": {
      "text/plain": [
       "Index(['end_date', 'sleep_duration', 'wake_duration', 'resting_heart_rate',\n",
       "       'avr_resp_rate', 'cgmdate', 'Historic_ Glucose', 'stepsdate',\n",
       "       'active_time', 'steps', 'distance', 'enddate', 'time_spent', 'type'],\n",
       "      dtype='object')"
      ]
     },
     "execution_count": 359,
     "metadata": {},
     "output_type": "execute_result"
    }
   ],
   "source": [
    "g_sleep_steps_gps.columns"
   ]
  },
  {
   "cell_type": "markdown",
   "metadata": {},
   "source": [
    "# creating viz with seaborn"
   ]
  },
  {
   "cell_type": "code",
   "execution_count": 360,
   "metadata": {},
   "outputs": [
    {
     "data": {
      "text/plain": [
       "<seaborn.axisgrid.PairGrid at 0x18dd098fbe0>"
      ]
     },
     "execution_count": 360,
     "metadata": {},
     "output_type": "execute_result"
    },
    {
     "data": {
      "image/png": "[encoded data removed]",
      "text/plain": [
       "<matplotlib.figure.Figure at 0x18dd082bcc0>"
      ]
     },
     "metadata": {},
     "output_type": "display_data"
    }
   ],
   "source": [
    "sns.pairplot(g_sleep_steps_gps, x_vars = ['steps', 'sleep_duration','resting_heart_rate','avr_resp_rate']  , y_vars = 'Historic_ Glucose',size = 7, aspect =0.7, kind = 'reg')"
   ]
  },
  {
   "cell_type": "markdown",
   "metadata": {},
   "source": [
    "# Dimensionaltiy Reduction of the parameters "
   ]
  },
  {
   "cell_type": "code",
   "execution_count": 363,
   "metadata": {},
   "outputs": [],
   "source": [
    "df = g_sleep_steps_gps.loc[:,['cgmdate','steps', 'sleep_duration','time_spent','type','Historic_ Glucose' ]]"
   ]
  },
  {
   "cell_type": "markdown",
   "metadata": {},
   "source": [
    "#Checking a final sample before training a model"
   ]
  },
  {
   "cell_type": "code",
   "execution_count": 364,
   "metadata": {},
   "outputs": [
    {
     "data": {
      "text/html": [
       "<div>\n",
       "<style scoped>\n",
       "    .dataframe tbody tr th:only-of-type {\n",
       "        vertical-align: middle;\n",
       "    }\n",
       "\n",
       "    .dataframe tbody tr th {\n",
       "        vertical-align: top;\n",
       "    }\n",
       "\n",
       "    .dataframe thead th {\n",
       "        text-align: right;\n",
       "    }\n",
       "</style>\n",
       "<table border=\"1\" class=\"dataframe\">\n",
       "  <thead>\n",
       "    <tr style=\"text-align: right;\">\n",
       "      <th></th>\n",
       "      <th>cgmdate</th>\n",
       "      <th>steps</th>\n",
       "      <th>sleep_duration</th>\n",
       "      <th>time_spent</th>\n",
       "      <th>type</th>\n",
       "      <th>Historic_ Glucose</th>\n",
       "    </tr>\n",
       "  </thead>\n",
       "  <tbody>\n",
       "    <tr>\n",
       "      <th>5127</th>\n",
       "      <td>10212017</td>\n",
       "      <td>11379</td>\n",
       "      <td>25475</td>\n",
       "      <td>3:03</td>\n",
       "      <td>place unique</td>\n",
       "      <td>136.0</td>\n",
       "    </tr>\n",
       "    <tr>\n",
       "      <th>8186</th>\n",
       "      <td>10152017</td>\n",
       "      <td>8135</td>\n",
       "      <td>32056</td>\n",
       "      <td>0:04</td>\n",
       "      <td>place unique</td>\n",
       "      <td>148.0</td>\n",
       "    </tr>\n",
       "    <tr>\n",
       "      <th>2575</th>\n",
       "      <td>10292017</td>\n",
       "      <td>8897</td>\n",
       "      <td>30704</td>\n",
       "      <td>23:01</td>\n",
       "      <td>place 1</td>\n",
       "      <td>250.0</td>\n",
       "    </tr>\n",
       "    <tr>\n",
       "      <th>307</th>\n",
       "      <td>10182017</td>\n",
       "      <td>17511</td>\n",
       "      <td>25898</td>\n",
       "      <td>0:07</td>\n",
       "      <td>place unique</td>\n",
       "      <td>125.0</td>\n",
       "    </tr>\n",
       "    <tr>\n",
       "      <th>1948</th>\n",
       "      <td>10302017</td>\n",
       "      <td>9429</td>\n",
       "      <td>30088</td>\n",
       "      <td>3:49</td>\n",
       "      <td>place 2</td>\n",
       "      <td>53.0</td>\n",
       "    </tr>\n",
       "  </tbody>\n",
       "</table>\n",
       "</div>"
      ],
      "text/plain": [
       "       cgmdate  steps  sleep_duration time_spent          type  \\\n",
       "5127  10212017  11379           25475       3:03  place unique   \n",
       "8186  10152017   8135           32056       0:04  place unique   \n",
       "2575  10292017   8897           30704      23:01       place 1   \n",
       "307   10182017  17511           25898       0:07  place unique   \n",
       "1948  10302017   9429           30088       3:49       place 2   \n",
       "\n",
       "      Historic_ Glucose  \n",
       "5127              136.0  \n",
       "8186              148.0  \n",
       "2575              250.0  \n",
       "307               125.0  \n",
       "1948               53.0  "
      ]
     },
     "execution_count": 364,
     "metadata": {},
     "output_type": "execute_result"
    }
   ],
   "source": [
    "df.sample(5)"
   ]
  },
  {
   "cell_type": "markdown",
   "metadata": {},
   "source": [
    "# Writing the dataframe to a new .csv file"
   ]
  },
  {
   "cell_type": "code",
   "execution_count": 366,
   "metadata": {},
   "outputs": [],
   "source": [
    "df.to_csv('final_df')"
   ]
  }
 ],
 "metadata": {
  "kernelspec": {
   "display_name": "Python 3",
   "language": "python",
   "name": "python3"
  },
  "language_info": {
   "codemirror_mode": {
    "name": "ipython",
    "version": 3
   },
   "file_extension": ".py",
   "mimetype": "text/x-python",
   "name": "python",
   "nbconvert_exporter": "python",
   "pygments_lexer": "ipython3",
   "version": "3.6.4"
  }
 },
 "nbformat": 4,
 "nbformat_minor": 2
}
