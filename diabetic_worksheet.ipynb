{
 "cells": [
  {
   "cell_type": "code",
   "execution_count": 1,
   "metadata": {},
   "outputs": [
    {
     "data": {
      "text/plain": [
       "'C:\\\\Users\\\\Arunakiry Natarajan'"
      ]
     },
     "execution_count": 1,
     "metadata": {},
     "output_type": "execute_result"
    }
   ],
   "source": [
    "import pandas as pd\n",
    "import numpy as np\n",
    "import seaborn as sns\n",
    "import datetime\n",
    "import matplotlib.pyplot as plt\n",
    "import dateutil\n",
    "from pandas import date_range\n",
    "from pandas import DataFrame\n",
    "import os\n",
    "os.getcwd()"
   ]
  },
  {
   "cell_type": "markdown",
   "metadata": {},
   "source": [
    "##### reading the data sets"
   ]
  },
  {
   "cell_type": "code",
   "execution_count": 143,
   "metadata": {},
   "outputs": [
    {
     "data": {
      "text/html": [
       "<div>\n",
       "<style scoped>\n",
       "    .dataframe tbody tr th:only-of-type {\n",
       "        vertical-align: middle;\n",
       "    }\n",
       "\n",
       "    .dataframe tbody tr th {\n",
       "        vertical-align: top;\n",
       "    }\n",
       "\n",
       "    .dataframe thead th {\n",
       "        text-align: right;\n",
       "    }\n",
       "</style>\n",
       "<table border=\"1\" class=\"dataframe\">\n",
       "  <thead>\n",
       "    <tr style=\"text-align: right;\">\n",
       "      <th></th>\n",
       "      <th>date</th>\n",
       "      <th>time</th>\n",
       "      <th>am/pm</th>\n",
       "      <th>Historic_ Glucose</th>\n",
       "      <th>Scan_Glucose</th>\n",
       "    </tr>\n",
       "  </thead>\n",
       "  <tbody>\n",
       "    <tr>\n",
       "      <th>0</th>\n",
       "      <td>10/1/2017 0:00</td>\n",
       "      <td>6:34</td>\n",
       "      <td>PM</td>\n",
       "      <td>72.0</td>\n",
       "      <td>NaN</td>\n",
       "    </tr>\n",
       "  </tbody>\n",
       "</table>\n",
       "</div>"
      ],
      "text/plain": [
       "             date  time am/pm  Historic_ Glucose  Scan_Glucose\n",
       "0  10/1/2017 0:00  6:34    PM               72.0           NaN"
      ]
     },
     "execution_count": 143,
     "metadata": {},
     "output_type": "execute_result"
    }
   ],
   "source": [
    "cgm = pd.read_csv(\"C:\\\\Users\\\\Arunakiry Natarajan\\\\Desktop\\\\DataScience\\\\DiabeticData\\\\1_CGM.csv\")\n",
    "beddit = pd.read_csv(\"C:\\\\Users\\\\Arunakiry Natarajan\\\\Desktop\\\\DataScience\\\\DiabeticData\\\\beddit_pandas.csv\")\n",
    "location = pd.read_csv(\"C:\\\\Users\\\\Arunakiry Natarajan\\\\Desktop\\\\DataScience\\\\DiabeticData\\\\4_masked_locations_final.csv\")\n",
    "steps = pd.read_csv(\"C:\\\\Users\\\\Arunakiry Natarajan\\\\Desktop\\\\DataScience\\\\DiabeticData\\\\steps.csv\")\n",
    "\n",
    "cgm.head(1)\n",
    "\n"
   ]
  },
  {
   "cell_type": "code",
   "execution_count": 111,
   "metadata": {},
   "outputs": [
    {
     "data": {
      "text/html": [
       "<div>\n",
       "<style scoped>\n",
       "    .dataframe tbody tr th:only-of-type {\n",
       "        vertical-align: middle;\n",
       "    }\n",
       "\n",
       "    .dataframe tbody tr th {\n",
       "        vertical-align: top;\n",
       "    }\n",
       "\n",
       "    .dataframe thead th {\n",
       "        text-align: right;\n",
       "    }\n",
       "</style>\n",
       "<table border=\"1\" class=\"dataframe\">\n",
       "  <thead>\n",
       "    <tr style=\"text-align: right;\">\n",
       "      <th></th>\n",
       "      <th>end_timestamp_date</th>\n",
       "      <th>end_timestamp_time</th>\n",
       "      <th>start_timestamp_date</th>\n",
       "      <th>start_timestamp_time</th>\n",
       "      <th>sleep_duration</th>\n",
       "      <th>away_duration</th>\n",
       "      <th>wake_duration</th>\n",
       "    </tr>\n",
       "  </thead>\n",
       "  <tbody>\n",
       "    <tr>\n",
       "      <th>0</th>\n",
       "      <td>10/18/2017</td>\n",
       "      <td>4:16:39</td>\n",
       "      <td>10/17/2017</td>\n",
       "      <td>20:45:13</td>\n",
       "      <td>25898</td>\n",
       "      <td>0</td>\n",
       "      <td>360</td>\n",
       "    </tr>\n",
       "    <tr>\n",
       "      <th>1</th>\n",
       "      <td>10/17/2017</td>\n",
       "      <td>4:40:40</td>\n",
       "      <td>10/16/2017</td>\n",
       "      <td>21:01:27</td>\n",
       "      <td>22611</td>\n",
       "      <td>678</td>\n",
       "      <td>4263</td>\n",
       "    </tr>\n",
       "  </tbody>\n",
       "</table>\n",
       "</div>"
      ],
      "text/plain": [
       "  end_timestamp_date end_timestamp_time start_timestamp_date  \\\n",
       "0         10/18/2017            4:16:39           10/17/2017   \n",
       "1         10/17/2017            4:40:40           10/16/2017   \n",
       "\n",
       "  start_timestamp_time  sleep_duration  away_duration  wake_duration  \n",
       "0             20:45:13           25898              0            360  \n",
       "1             21:01:27           22611            678           4263  "
      ]
     },
     "execution_count": 111,
     "metadata": {},
     "output_type": "execute_result"
    }
   ],
   "source": [
    "beddit.head(2)"
   ]
  },
  {
   "cell_type": "code",
   "execution_count": 110,
   "metadata": {},
   "outputs": [
    {
     "data": {
      "text/html": [
       "<div>\n",
       "<style scoped>\n",
       "    .dataframe tbody tr th:only-of-type {\n",
       "        vertical-align: middle;\n",
       "    }\n",
       "\n",
       "    .dataframe tbody tr th {\n",
       "        vertical-align: top;\n",
       "    }\n",
       "\n",
       "    .dataframe thead th {\n",
       "        text-align: right;\n",
       "    }\n",
       "</style>\n",
       "<table border=\"1\" class=\"dataframe\">\n",
       "  <thead>\n",
       "    <tr style=\"text-align: right;\">\n",
       "      <th></th>\n",
       "      <th>end_time</th>\n",
       "      <th>start_time</th>\n",
       "      <th>time_spent\n",
       "H:MM</th>\n",
       "      <th>type</th>\n",
       "    </tr>\n",
       "  </thead>\n",
       "  <tbody>\n",
       "    <tr>\n",
       "      <th>0</th>\n",
       "      <td>10/6/2017 17:12</td>\n",
       "      <td>10/6/2017 12:28</td>\n",
       "      <td>4:44</td>\n",
       "      <td>place 1</td>\n",
       "    </tr>\n",
       "    <tr>\n",
       "      <th>1</th>\n",
       "      <td>11/9/2017 14:57</td>\n",
       "      <td>11/9/2017 13:00</td>\n",
       "      <td>1:57</td>\n",
       "      <td>place 1</td>\n",
       "    </tr>\n",
       "  </tbody>\n",
       "</table>\n",
       "</div>"
      ],
      "text/plain": [
       "          end_time       start_time time_spent\\nH:MM     type\n",
       "0  10/6/2017 17:12  10/6/2017 12:28             4:44  place 1\n",
       "1  11/9/2017 14:57  11/9/2017 13:00             1:57  place 1"
      ]
     },
     "execution_count": 110,
     "metadata": {},
     "output_type": "execute_result"
    }
   ],
   "source": [
    "location.head(2)"
   ]
  },
  {
   "cell_type": "code",
   "execution_count": 144,
   "metadata": {},
   "outputs": [
    {
     "data": {
      "text/html": [
       "<div>\n",
       "<style scoped>\n",
       "    .dataframe tbody tr th:only-of-type {\n",
       "        vertical-align: middle;\n",
       "    }\n",
       "\n",
       "    .dataframe tbody tr th {\n",
       "        vertical-align: top;\n",
       "    }\n",
       "\n",
       "    .dataframe thead th {\n",
       "        text-align: right;\n",
       "    }\n",
       "</style>\n",
       "<table border=\"1\" class=\"dataframe\">\n",
       "  <thead>\n",
       "    <tr style=\"text-align: right;\">\n",
       "      <th></th>\n",
       "      <th>date</th>\n",
       "      <th>Time</th>\n",
       "      <th>active_time</th>\n",
       "      <th>distance</th>\n",
       "      <th>steps</th>\n",
       "    </tr>\n",
       "  </thead>\n",
       "  <tbody>\n",
       "    <tr>\n",
       "      <th>0</th>\n",
       "      <td>10/29/2017 0:00</td>\n",
       "      <td>8:36:00 PM</td>\n",
       "      <td>5035</td>\n",
       "      <td>6741</td>\n",
       "      <td>8897</td>\n",
       "    </tr>\n",
       "    <tr>\n",
       "      <th>1</th>\n",
       "      <td>10/28/2017 0:00</td>\n",
       "      <td>7:26:00 PM</td>\n",
       "      <td>4527</td>\n",
       "      <td>5389</td>\n",
       "      <td>7486</td>\n",
       "    </tr>\n",
       "  </tbody>\n",
       "</table>\n",
       "</div>"
      ],
      "text/plain": [
       "              date        Time  active_time  distance  steps\n",
       "0  10/29/2017 0:00  8:36:00 PM         5035      6741   8897\n",
       "1  10/28/2017 0:00  7:26:00 PM         4527      5389   7486"
      ]
     },
     "execution_count": 144,
     "metadata": {},
     "output_type": "execute_result"
    }
   ],
   "source": [
    "steps.head(2)"
   ]
  },
  {
   "cell_type": "markdown",
   "metadata": {},
   "source": [
    "##### checking for null values"
   ]
  },
  {
   "cell_type": "code",
   "execution_count": 5,
   "metadata": {},
   "outputs": [
    {
     "data": {
      "text/plain": [
       "date                    0\n",
       "time                    0\n",
       "am/pm                   0\n",
       "Historic_ Glucose     949\n",
       "Scan_Glucose         5892\n",
       "dtype: int64"
      ]
     },
     "execution_count": 5,
     "metadata": {},
     "output_type": "execute_result"
    }
   ],
   "source": [
    "cgm.isnull().sum()"
   ]
  },
  {
   "cell_type": "code",
   "execution_count": 114,
   "metadata": {},
   "outputs": [
    {
     "data": {
      "text/plain": [
       "end_timestamp_date      0\n",
       "end_timestamp_time      0\n",
       "start_timestamp_date    0\n",
       "start_timestamp_time    0\n",
       "sleep_duration          0\n",
       "away_duration           0\n",
       "wake_duration           0\n",
       "dtype: int64"
      ]
     },
     "execution_count": 114,
     "metadata": {},
     "output_type": "execute_result"
    }
   ],
   "source": [
    "beddit.isnull().sum()"
   ]
  },
  {
   "cell_type": "code",
   "execution_count": 115,
   "metadata": {},
   "outputs": [
    {
     "data": {
      "text/plain": [
       "end_time            0\n",
       "start_time          0\n",
       "time_spent\\nH:MM    0\n",
       "type                0\n",
       "dtype: int64"
      ]
     },
     "execution_count": 115,
     "metadata": {},
     "output_type": "execute_result"
    }
   ],
   "source": [
    "location.isnull().sum()"
   ]
  },
  {
   "cell_type": "code",
   "execution_count": 136,
   "metadata": {},
   "outputs": [
    {
     "data": {
      "text/plain": [
       "Date           0\n",
       "Time           0\n",
       "active_time    0\n",
       "distance       0\n",
       "steps          0\n",
       "dtype: int64"
      ]
     },
     "execution_count": 136,
     "metadata": {},
     "output_type": "execute_result"
    }
   ],
   "source": [
    "steps.isnull().sum()"
   ]
  },
  {
   "cell_type": "markdown",
   "metadata": {},
   "source": [
    "##### checking for unique data points"
   ]
  },
  {
   "cell_type": "code",
   "execution_count": 125,
   "metadata": {},
   "outputs": [
    {
     "data": {
      "text/plain": [
       "'10/1/2017 0:0010/2/2017 0:0010/3/2017 0:0010/4/2017 0:0010/5/2017 0:0010/6/2017 0:0010/7/2017 0:0010/8/2017 0:0010/9/2017 0:0010/10/2017 0:0010/11/2017 0:0010/12/2017 0:0010/13/2017 0:0010/14/2017 0:0010/15/2017 0:0010/16/2017 0:0010/17/2017 0:0010/18/2017 0:0010/19/2017 0:0010/20/2017 0:0010/21/2017 0:0010/22/2017 0:0010/23/2017 0:0010/24/2017 0:0010/25/2017 0:0010/26/2017 0:0010/27/2017 0:0010/28/2017 0:0010/29/2017 0:0010/30/2017 0:0010/31/2017 0:0011/1/2017 0:0011/2/2017 0:0011/3/2017 0:0011/4/2017 0:0011/5/2017 0:0011/6/2017 0:0011/7/2017 0:0011/8/2017 0:0011/9/2017 0:0011/10/2017 0:0011/11/2017 0:0011/12/2017 0:0011/13/2017 0:0011/14/2017 0:0011/15/2017 0:0011/16/2017 0:0011/17/2017 0:0011/18/2017 0:0011/19/2017 0:0011/20/2017 0:0011/21/2017 0:0011/22/2017 0:0011/23/2017 0:0011/24/2017 0:0011/25/2017 0:0011/26/2017 0:0011/27/2017 0:0011/28/2017 0:0011/29/2017 0:0011/30/2017 0:0012/1/2017 0:0012/2/2017 0:0012/3/2017 0:0012/4/2017 0:0012/5/2017 0:00'"
      ]
     },
     "execution_count": 125,
     "metadata": {},
     "output_type": "execute_result"
    }
   ],
   "source": [
    "cgm[\"date\"]. unique().sum()"
   ]
  },
  {
   "cell_type": "code",
   "execution_count": 126,
   "metadata": {},
   "outputs": [
    {
     "data": {
      "text/plain": [
       "'10/18/201710/17/201710/16/201711/10/201711/9/201711/8/201711/7/201711/6/201711/5/201711/4/201711/2/201711/1/201710/30/201710/29/201710/28/201710/27/201710/26/201710/21/201710/20/201710/19/201710/15/201710/14/201710/13/201710/12/201710/11/201710/10/201710/9/201710/8/201710/7/201710/6/201710/5/2017'"
      ]
     },
     "execution_count": 126,
     "metadata": {},
     "output_type": "execute_result"
    }
   ],
   "source": [
    "beddit[\"end_timestamp_date\"].unique().sum()"
   ]
  },
  {
   "cell_type": "code",
   "execution_count": 128,
   "metadata": {},
   "outputs": [
    {
     "data": {
      "text/plain": [
       "'10/6/2017 17:1211/9/2017 14:5711/7/2017 6:2710/13/2017 6:4611/11/2017 13:1611/2/2017 11:3911/1/2017 13:4311/9/2017 13:0010/11/2017 6:3310/13/2017 14:1511/14/2017 14:2610/19/2017 11:0210/9/2017 7:2610/27/2017 13:5211/4/2017 15:1311/11/2017 18:0210/20/2017 13:5211/2/2017 16:0610/11/2017 5:2810/26/2017 11:5510/12/2017 5:2510/9/2017 5:2510/15/2017 10:3310/21/2017 8:1710/29/2017 16:3711/3/2017 8:1811/9/2017 9:3710/12/2017 13:5310/10/2017 12:5811/14/2017 7:0410/20/2017 15:1610/14/2017 12:0411/8/2017 14:1310/25/2017 16:2411/4/2017 16:2710/20/2017 6:2210/19/2017 12:4811/9/2017 6:2711/8/2017 12:0011/8/2017 6:2310/7/2017 12:4110/12/2017 18:1110/10/2017 6:2110/26/2017 19:0810/26/2017 16:3011/12/2017 15:2910/19/2017 5:2810/8/2017 10:3010/6/2017 12:1210/16/2017 5:3611/1/2017 15:1910/6/2017 10:1910/10/2017 5:3211/6/2017 6:2811/13/2017 18:2610/28/2017 9:4711/7/2017 14:5211/3/2017 17:5510/29/2017 11:4910/5/2017 13:3211/13/2017 8:3611/12/2017 9:5410/28/2017 7:4010/9/2017 10:5910/9/2017 16:4011/6/2017 17:3911/13/2017 17:1310/30/2017 12:5910/30/2017 18:0110/27/2017 14:4911/9/2017 15:5411/11/2017 18:1811/1/2017 14:1310/5/2017 14:2810/12/2017 14:4610/19/2017 11:2610/10/2017 8:4810/10/2017 13:1610/5/2017 14:0210/23/2017 15:4810/24/2017 8:3510/23/2017 8:0610/24/2017 15:4610/22/2017 7:4910/25/2017 8:3910/23/2017 12:5510/22/2017 8:4410/24/2017 17:4110/29/2017 18:1910/8/2017 12:3510/8/2017 12:0510/15/2017 12:4010/8/2017 11:5310/15/2017 12:3010/7/2017 13:5110/14/2017 15:1810/28/2017 11:0110/26/2017 19:4910/24/2017 13:1610/21/2017 18:1611/9/2017 15:1010/19/2017 11:1510/23/2017 12:3810/24/2017 13:0810/10/2017 8:1411/3/2017 10:1311/13/2017 8:5510/29/2017 13:5710/12/2017 14:1610/27/2017 14:2010/20/2017 14:1711/9/2017 15:2910/10/2017 16:1111/12/2017 10:5410/11/2017 7:1210/8/2017 11:0410/15/2017 11:4311/6/2017 17:5211/13/2017 9:2810/31/2017 15:2110/5/2017 14:2110/18/2017 14:1711/3/2017 16:1711/6/2017 18:3710/30/2017 18:5811/1/2017 13:5210/6/2017 12:2510/26/2017 18:2710/29/2017 18:1410/19/2017 14:4110/19/2017 15:0010/19/2017 15:1910/20/2017 19:3110/20/2017 19:1810/19/2017 13:4211/13/2017 17:2610/9/2017 11:4010/30/2017 13:3511/7/2017 17:5711/7/2017 15:3510/14/2017 13:2310/14/2017 13:3010/14/2017 13:0011/7/2017 17:2311/7/2017 17:0810/14/2017 13:5410/14/2017 14:1011/1/2017 15:5810/20/2017 6:5610/31/2017 16:5310/14/2017 14:2610/13/2017 14:3210/11/2017 7:2210/13/2017 14:4210/15/2017 10:5610/15/2017 13:3510/29/2017 12:2810/13/2017 15:0110/27/2017 14:1710/20/2017 6:5110/15/2017 13:1310/5/2017 13:4210/15/2017 12:5810/12/2017 14:2410/15/2017 13:1910/15/2017 13:3011/9/2017 15:2110/8/2017 12:1511/13/2017 18:5110/9/2017 17:2910/17/2017 15:3210/27/2017 15:0011/12/2017 15:4310/12/2017 5:5810/28/2017 7:5211/2/2017 12:0110/14/2017 15:2910/18/2017 15:2410/19/2017 5:5910/26/2017 18:4911/14/2017 7:2610/28/2017 12:2911/4/2017 16:5411/8/2017 14:5110/18/2017 5:4710/19/2017 16:4610/7/2017 14:1111/4/2017 16:4310/21/2017 9:0310/19/2017 16:2511/2/2017 12:5710/19/2017 16:1810/25/2017 11:2411/4/2017 17:1311/3/2017 18:2910/28/2017 11:4710/11/2017 6:5311/2/2017 12:2310/28/2017 10:1510/21/2017 9:3711/1/2017 16:2611/1/2017 17:3611/1/2017 17:0710/21/2017 10:0610/21/2017 11:3310/22/2017 8:2210/22/2017 8:0410/21/2017 13:0510/24/2017 14:1910/25/2017 9:1310/24/2017 18:0010/23/2017 16:0210/21/2017 16:2710/22/2017 9:0810/25/2017 9:5310/21/2017 12:2510/10/2017 16:45'"
      ]
     },
     "execution_count": 128,
     "metadata": {},
     "output_type": "execute_result"
    }
   ],
   "source": [
    "location[\"end_time\"].unique().sum()"
   ]
  },
  {
   "cell_type": "code",
   "execution_count": 140,
   "metadata": {},
   "outputs": [
    {
     "ename": "IndentationError",
     "evalue": "unexpected indent (<ipython-input-140-8eaffce6baa3>, line 3)",
     "output_type": "error",
     "traceback": [
      "\u001b[1;36m  File \u001b[1;32m\"<ipython-input-140-8eaffce6baa3>\"\u001b[1;36m, line \u001b[1;32m3\u001b[0m\n\u001b[1;33m    '10/26/17 21:41', '10/25/17 21:12', '10/24/17 20:41',\u001b[0m\n\u001b[1;37m    ^\u001b[0m\n\u001b[1;31mIndentationError\u001b[0m\u001b[1;31m:\u001b[0m unexpected indent\n"
     ]
    }
   ],
   "source": [
    "##steps[\"updated_timestamp\"].unique()\n",
    "##array(['10/29/17 20:36', '10/28/17 19:26', '10/27/17 20:37',\n",
    "       '10/26/17 21:41', '10/25/17 21:12', '10/24/17 20:41',\n",
    "       '10/23/17 20:18', '10/22/17 19:13', '10/21/17 20:58',\n",
    "       '10/20/17 20:48', '10/19/17 19:46', '10/18/17 21:30',\n",
    "       '10/17/17 20:18', '11/3/17 11:01', '11/2/17 21:50',\n",
    "       '11/1/17 22:07', '10/31/17 19:27', '10/30/17 22:19',\n",
    "       '10/16/17 18:20', '10/15/17 20:21', '10/14/17 20:11',\n",
    "       '10/13/17 21:59', '10/12/17 20:42', '10/11/17 20:50',\n",
    "       '10/10/17 20:04', '10/9/17 19:40', '10/8/17 21:45',\n",
    "       '10/7/17 19:27', '10/6/17 20:58', '10/5/17 18:59'], dtype=object)##"
   ]
  },
  {
   "cell_type": "markdown",
   "metadata": {},
   "source": [
    "##### the year format does not match the rest of the data's year format. i have to manually correct the year format similar to the other datasets."
   ]
  },
  {
   "cell_type": "code",
   "execution_count": 145,
   "metadata": {},
   "outputs": [
    {
     "data": {
      "text/plain": [
       "array(['10/29/2017 0:00', '10/28/2017 0:00', '10/27/2017 0:00',\n",
       "       '10/26/2017 0:00', '10/25/2017 0:00', '10/24/2017 0:00',\n",
       "       '10/23/2017 0:00', '10/22/2017 0:00', '10/21/2017 0:00',\n",
       "       '10/20/2017 0:00', '10/19/2017 0:00', '10/18/2017 0:00',\n",
       "       '10/17/2017 0:00', '11/3/2017 0:00', '11/2/2017 0:00',\n",
       "       '11/1/2017 0:00', '10/31/2017 0:00', '10/30/2017 0:00',\n",
       "       '10/16/2017 0:00', '10/15/2017 0:00', '10/14/2017 0:00',\n",
       "       '10/13/2017 0:00', '10/12/2017 0:00', '10/11/2017 0:00',\n",
       "       '10/10/2017 0:00', '10/9/2017 0:00', '10/8/2017 0:00',\n",
       "       '10/7/2017 0:00', '10/6/2017 0:00', '10/5/2017 0:00'], dtype=object)"
      ]
     },
     "execution_count": 145,
     "metadata": {},
     "output_type": "execute_result"
    }
   ],
   "source": [
    "steps[\"date\"].unique()"
   ]
  },
  {
   "cell_type": "markdown",
   "metadata": {},
   "source": [
    "##### Corrected the year format to other tables"
   ]
  },
  {
   "cell_type": "markdown",
   "metadata": {},
   "source": [
    "##### Removing the null values in the \"cgm\" table using the scan glucose values"
   ]
  },
  {
   "cell_type": "code",
   "execution_count": 16,
   "metadata": {},
   "outputs": [],
   "source": [
    "# Since scan and Historic_ Glucose levels equivalent measures, I populated the null values in the Historic_ Glucose withe the values in the Scan_Glucose "
   ]
  },
  {
   "cell_type": "code",
   "execution_count": 146,
   "metadata": {},
   "outputs": [],
   "source": [
    "##removing the null values in 1_CGM and filling them with scan glucose values\n",
    "cgm.loc[cgm['Historic_ Glucose'].isnull(), 'Historic_ Glucose'] = cgm ['Scan_Glucose']"
   ]
  },
  {
   "cell_type": "code",
   "execution_count": 147,
   "metadata": {},
   "outputs": [
    {
     "data": {
      "text/plain": [
       "date                    0\n",
       "time                    0\n",
       "am/pm                   0\n",
       "Historic_ Glucose       3\n",
       "Scan_Glucose         5892\n",
       "dtype: int64"
      ]
     },
     "execution_count": 147,
     "metadata": {},
     "output_type": "execute_result"
    }
   ],
   "source": [
    "cgm.isnull().sum()"
   ]
  },
  {
   "cell_type": "code",
   "execution_count": 148,
   "metadata": {},
   "outputs": [
    {
     "data": {
      "text/html": [
       "<div>\n",
       "<style scoped>\n",
       "    .dataframe tbody tr th:only-of-type {\n",
       "        vertical-align: middle;\n",
       "    }\n",
       "\n",
       "    .dataframe tbody tr th {\n",
       "        vertical-align: top;\n",
       "    }\n",
       "\n",
       "    .dataframe thead th {\n",
       "        text-align: right;\n",
       "    }\n",
       "</style>\n",
       "<table border=\"1\" class=\"dataframe\">\n",
       "  <thead>\n",
       "    <tr style=\"text-align: right;\">\n",
       "      <th></th>\n",
       "      <th>date</th>\n",
       "      <th>time</th>\n",
       "      <th>am/pm</th>\n",
       "      <th>Historic_ Glucose</th>\n",
       "      <th>Scan_Glucose</th>\n",
       "    </tr>\n",
       "  </thead>\n",
       "  <tbody>\n",
       "    <tr>\n",
       "      <th>0</th>\n",
       "      <td>10/1/2017 0:00</td>\n",
       "      <td>6:34</td>\n",
       "      <td>PM</td>\n",
       "      <td>72.0</td>\n",
       "      <td>NaN</td>\n",
       "    </tr>\n",
       "    <tr>\n",
       "      <th>1</th>\n",
       "      <td>10/1/2017 0:00</td>\n",
       "      <td>6:49</td>\n",
       "      <td>PM</td>\n",
       "      <td>63.0</td>\n",
       "      <td>NaN</td>\n",
       "    </tr>\n",
       "  </tbody>\n",
       "</table>\n",
       "</div>"
      ],
      "text/plain": [
       "             date  time am/pm  Historic_ Glucose  Scan_Glucose\n",
       "0  10/1/2017 0:00  6:34    PM               72.0           NaN\n",
       "1  10/1/2017 0:00  6:49    PM               63.0           NaN"
      ]
     },
     "execution_count": 148,
     "metadata": {},
     "output_type": "execute_result"
    }
   ],
   "source": [
    "cgm.head(2)"
   ]
  },
  {
   "cell_type": "markdown",
   "metadata": {},
   "source": [
    "##### 1_CGM grouped by date and calculated mean"
   ]
  },
  {
   "cell_type": "code",
   "execution_count": 15,
   "metadata": {},
   "outputs": [],
   "source": [
    "cgm_1 = cgm.loc[:,(\"date\", \"Historic_ Glucose\")]"
   ]
  },
  {
   "cell_type": "code",
   "execution_count": 19,
   "metadata": {},
   "outputs": [],
   "source": [
    "cgm_datemean = cgm_1.groupby('date',as_index=False).mean()"
   ]
  },
  {
   "cell_type": "code",
   "execution_count": 44,
   "metadata": {},
   "outputs": [
    {
     "name": "stdout",
     "output_type": "stream",
     "text": [
      "<class 'pandas.core.frame.DataFrame'>\n",
      "Int64Index: 66 entries, 0 to 65\n",
      "Data columns (total 2 columns):\n",
      "date                 66 non-null object\n",
      "Historic_ Glucose    66 non-null float64\n",
      "dtypes: float64(1), object(1)\n",
      "memory usage: 4.0+ KB\n"
     ]
    }
   ],
   "source": [
    "cgm_datemean.info()"
   ]
  },
  {
   "cell_type": "markdown",
   "metadata": {},
   "source": [
    "##### type of data in date is a string"
   ]
  },
  {
   "cell_type": "code",
   "execution_count": 45,
   "metadata": {},
   "outputs": [
    {
     "data": {
      "text/plain": [
       "str"
      ]
     },
     "execution_count": 45,
     "metadata": {},
     "output_type": "execute_result"
    }
   ],
   "source": [
    "type(cgm_datemean.loc[0,\"date\"])"
   ]
  },
  {
   "cell_type": "markdown",
   "metadata": {},
   "source": [
    "##### splititng the time (0:00) from date"
   ]
  },
  {
   "cell_type": "code",
   "execution_count": 47,
   "metadata": {},
   "outputs": [
    {
     "data": {
      "text/plain": [
       "'10/1/2017'"
      ]
     },
     "execution_count": 47,
     "metadata": {},
     "output_type": "execute_result"
    }
   ],
   "source": [
    "cgm_datemean.loc[0,\"date\"].split(\" \")[0]"
   ]
  },
  {
   "cell_type": "code",
   "execution_count": 49,
   "metadata": {},
   "outputs": [],
   "source": [
    " ##### applying the lambda function to split at \"space region of the string\""
   ]
  },
  {
   "cell_type": "code",
   "execution_count": 29,
   "metadata": {},
   "outputs": [],
   "source": [
    "cgm_datemean[\"date\"] = cgm_datemean[\"date\"].apply(lambda x: x.split(\" \")[0])"
   ]
  },
  {
   "cell_type": "code",
   "execution_count": 31,
   "metadata": {},
   "outputs": [
    {
     "data": {
      "text/html": [
       "<div>\n",
       "<style scoped>\n",
       "    .dataframe tbody tr th:only-of-type {\n",
       "        vertical-align: middle;\n",
       "    }\n",
       "\n",
       "    .dataframe tbody tr th {\n",
       "        vertical-align: top;\n",
       "    }\n",
       "\n",
       "    .dataframe thead th {\n",
       "        text-align: right;\n",
       "    }\n",
       "</style>\n",
       "<table border=\"1\" class=\"dataframe\">\n",
       "  <thead>\n",
       "    <tr style=\"text-align: right;\">\n",
       "      <th></th>\n",
       "      <th>date</th>\n",
       "      <th>Historic_ Glucose</th>\n",
       "    </tr>\n",
       "  </thead>\n",
       "  <tbody>\n",
       "    <tr>\n",
       "      <th>0</th>\n",
       "      <td>10/1/2017</td>\n",
       "      <td>86.900000</td>\n",
       "    </tr>\n",
       "    <tr>\n",
       "      <th>1</th>\n",
       "      <td>10/10/2017</td>\n",
       "      <td>171.954545</td>\n",
       "    </tr>\n",
       "    <tr>\n",
       "      <th>2</th>\n",
       "      <td>10/11/2017</td>\n",
       "      <td>116.264151</td>\n",
       "    </tr>\n",
       "    <tr>\n",
       "      <th>3</th>\n",
       "      <td>10/12/2017</td>\n",
       "      <td>174.356522</td>\n",
       "    </tr>\n",
       "    <tr>\n",
       "      <th>4</th>\n",
       "      <td>10/13/2017</td>\n",
       "      <td>134.169811</td>\n",
       "    </tr>\n",
       "  </tbody>\n",
       "</table>\n",
       "</div>"
      ],
      "text/plain": [
       "         date  Historic_ Glucose\n",
       "0   10/1/2017          86.900000\n",
       "1  10/10/2017         171.954545\n",
       "2  10/11/2017         116.264151\n",
       "3  10/12/2017         174.356522\n",
       "4  10/13/2017         134.169811"
      ]
     },
     "execution_count": 31,
     "metadata": {},
     "output_type": "execute_result"
    }
   ],
   "source": [
    "cgm_datemean.head()"
   ]
  },
  {
   "cell_type": "markdown",
   "metadata": {},
   "source": [
    "##### old version"
   ]
  },
  {
   "cell_type": "code",
   "execution_count": 141,
   "metadata": {},
   "outputs": [
    {
     "data": {
      "text/plain": [
       "date\n",
       "10/1/2017 0:00      85.437500\n",
       "10/10/2017 0:00    172.707865\n",
       "10/11/2017 0:00    113.685393\n",
       "10/12/2017 0:00    172.468085\n",
       "10/13/2017 0:00    132.655914\n",
       "Name: Historic_ Glucose, dtype: float64"
      ]
     },
     "execution_count": 141,
     "metadata": {},
     "output_type": "execute_result"
    }
   ],
   "source": [
    "cgm.groupby('date').groups.keys()\n",
    "cgm_date_mean = cgm.groupby('date')['Historic_ Glucose'].mean()\n",
    "cgm_date_mean.head()"
   ]
  },
  {
   "cell_type": "markdown",
   "metadata": {},
   "source": [
    "##### beddit data processing"
   ]
  },
  {
   "cell_type": "code",
   "execution_count": 50,
   "metadata": {},
   "outputs": [
    {
     "data": {
      "text/html": [
       "<div>\n",
       "<style scoped>\n",
       "    .dataframe tbody tr th:only-of-type {\n",
       "        vertical-align: middle;\n",
       "    }\n",
       "\n",
       "    .dataframe tbody tr th {\n",
       "        vertical-align: top;\n",
       "    }\n",
       "\n",
       "    .dataframe thead th {\n",
       "        text-align: right;\n",
       "    }\n",
       "</style>\n",
       "<table border=\"1\" class=\"dataframe\">\n",
       "  <thead>\n",
       "    <tr style=\"text-align: right;\">\n",
       "      <th></th>\n",
       "      <th>end_timestamp_date</th>\n",
       "      <th>end_timestamp_time</th>\n",
       "      <th>start_timestamp_date</th>\n",
       "      <th>start_timestamp_time</th>\n",
       "      <th>sleep_duration</th>\n",
       "      <th>away_duration</th>\n",
       "      <th>wake_duration</th>\n",
       "    </tr>\n",
       "  </thead>\n",
       "  <tbody>\n",
       "    <tr>\n",
       "      <th>0</th>\n",
       "      <td>10/18/2017</td>\n",
       "      <td>4:16:39</td>\n",
       "      <td>10/17/2017</td>\n",
       "      <td>20:45:13</td>\n",
       "      <td>25898</td>\n",
       "      <td>0</td>\n",
       "      <td>360</td>\n",
       "    </tr>\n",
       "    <tr>\n",
       "      <th>1</th>\n",
       "      <td>10/17/2017</td>\n",
       "      <td>4:40:40</td>\n",
       "      <td>10/16/2017</td>\n",
       "      <td>21:01:27</td>\n",
       "      <td>22611</td>\n",
       "      <td>678</td>\n",
       "      <td>4263</td>\n",
       "    </tr>\n",
       "  </tbody>\n",
       "</table>\n",
       "</div>"
      ],
      "text/plain": [
       "  end_timestamp_date end_timestamp_time start_timestamp_date  \\\n",
       "0         10/18/2017            4:16:39           10/17/2017   \n",
       "1         10/17/2017            4:40:40           10/16/2017   \n",
       "\n",
       "  start_timestamp_time  sleep_duration  away_duration  wake_duration  \n",
       "0             20:45:13           25898              0            360  \n",
       "1             21:01:27           22611            678           4263  "
      ]
     },
     "execution_count": 50,
     "metadata": {},
     "output_type": "execute_result"
    }
   ],
   "source": [
    "beddit.head(2)"
   ]
  },
  {
   "cell_type": "markdown",
   "metadata": {},
   "source": [
    "##### keeping the required columns"
   ]
  },
  {
   "cell_type": "code",
   "execution_count": 52,
   "metadata": {},
   "outputs": [],
   "source": [
    "beddit_clean1 = beddit.loc[:,[\"end_timestamp_date\",\"sleep_duration\",\"away_duration\",\"wake_duration\"]]"
   ]
  },
  {
   "cell_type": "markdown",
   "metadata": {},
   "source": [
    "##### changing the name of the column \"end_timestamp_date\" to \"date\""
   ]
  },
  {
   "cell_type": "code",
   "execution_count": 35,
   "metadata": {},
   "outputs": [],
   "source": [
    "beddit_clean1 = beddit_clean1.rename(columns = {\"end_timestamp_date\":\"date\"})"
   ]
  },
  {
   "cell_type": "code",
   "execution_count": 54,
   "metadata": {},
   "outputs": [
    {
     "data": {
      "text/html": [
       "<div>\n",
       "<style scoped>\n",
       "    .dataframe tbody tr th:only-of-type {\n",
       "        vertical-align: middle;\n",
       "    }\n",
       "\n",
       "    .dataframe tbody tr th {\n",
       "        vertical-align: top;\n",
       "    }\n",
       "\n",
       "    .dataframe thead th {\n",
       "        text-align: right;\n",
       "    }\n",
       "</style>\n",
       "<table border=\"1\" class=\"dataframe\">\n",
       "  <thead>\n",
       "    <tr style=\"text-align: right;\">\n",
       "      <th></th>\n",
       "      <th>end_timestamp_date</th>\n",
       "      <th>sleep_duration</th>\n",
       "      <th>away_duration</th>\n",
       "      <th>wake_duration</th>\n",
       "    </tr>\n",
       "  </thead>\n",
       "  <tbody>\n",
       "    <tr>\n",
       "      <th>0</th>\n",
       "      <td>10/18/2017</td>\n",
       "      <td>25898</td>\n",
       "      <td>0</td>\n",
       "      <td>360</td>\n",
       "    </tr>\n",
       "    <tr>\n",
       "      <th>1</th>\n",
       "      <td>10/17/2017</td>\n",
       "      <td>22611</td>\n",
       "      <td>678</td>\n",
       "      <td>4263</td>\n",
       "    </tr>\n",
       "  </tbody>\n",
       "</table>\n",
       "</div>"
      ],
      "text/plain": [
       "  end_timestamp_date  sleep_duration  away_duration  wake_duration\n",
       "0         10/18/2017           25898              0            360\n",
       "1         10/17/2017           22611            678           4263"
      ]
     },
     "execution_count": 54,
     "metadata": {},
     "output_type": "execute_result"
    }
   ],
   "source": [
    "beddit_clean1.head(2)"
   ]
  },
  {
   "cell_type": "markdown",
   "metadata": {},
   "source": [
    "##### merging cgm and beddit data at the \"date\""
   ]
  },
  {
   "cell_type": "code",
   "execution_count": 39,
   "metadata": {},
   "outputs": [],
   "source": [
    "cgm_beddit = cgm_datemean.merge(beddit_clean1,how = \"inner\", left_on = \"date\",right_on = \"date\")"
   ]
  },
  {
   "cell_type": "code",
   "execution_count": 40,
   "metadata": {},
   "outputs": [
    {
     "data": {
      "text/html": [
       "<div>\n",
       "<style scoped>\n",
       "    .dataframe tbody tr th:only-of-type {\n",
       "        vertical-align: middle;\n",
       "    }\n",
       "\n",
       "    .dataframe tbody tr th {\n",
       "        vertical-align: top;\n",
       "    }\n",
       "\n",
       "    .dataframe thead th {\n",
       "        text-align: right;\n",
       "    }\n",
       "</style>\n",
       "<table border=\"1\" class=\"dataframe\">\n",
       "  <thead>\n",
       "    <tr style=\"text-align: right;\">\n",
       "      <th></th>\n",
       "      <th>date</th>\n",
       "      <th>Historic_ Glucose</th>\n",
       "      <th>sleep_duration</th>\n",
       "      <th>away_duration</th>\n",
       "      <th>wake_duration</th>\n",
       "    </tr>\n",
       "  </thead>\n",
       "  <tbody>\n",
       "    <tr>\n",
       "      <th>0</th>\n",
       "      <td>10/10/2017</td>\n",
       "      <td>171.954545</td>\n",
       "      <td>26717</td>\n",
       "      <td>0</td>\n",
       "      <td>0</td>\n",
       "    </tr>\n",
       "    <tr>\n",
       "      <th>1</th>\n",
       "      <td>10/11/2017</td>\n",
       "      <td>116.264151</td>\n",
       "      <td>30374</td>\n",
       "      <td>0</td>\n",
       "      <td>480</td>\n",
       "    </tr>\n",
       "  </tbody>\n",
       "</table>\n",
       "</div>"
      ],
      "text/plain": [
       "         date  Historic_ Glucose  sleep_duration  away_duration  wake_duration\n",
       "0  10/10/2017         171.954545           26717              0              0\n",
       "1  10/11/2017         116.264151           30374              0            480"
      ]
     },
     "execution_count": 40,
     "metadata": {},
     "output_type": "execute_result"
    }
   ],
   "source": [
    "cgm_beddit.head(2)"
   ]
  },
  {
   "cell_type": "markdown",
   "metadata": {},
   "source": [
    "##### loading the locations data and processing steps are similar to beddit data"
   ]
  },
  {
   "cell_type": "code",
   "execution_count": 57,
   "metadata": {},
   "outputs": [
    {
     "data": {
      "text/html": [
       "<div>\n",
       "<style scoped>\n",
       "    .dataframe tbody tr th:only-of-type {\n",
       "        vertical-align: middle;\n",
       "    }\n",
       "\n",
       "    .dataframe tbody tr th {\n",
       "        vertical-align: top;\n",
       "    }\n",
       "\n",
       "    .dataframe thead th {\n",
       "        text-align: right;\n",
       "    }\n",
       "</style>\n",
       "<table border=\"1\" class=\"dataframe\">\n",
       "  <thead>\n",
       "    <tr style=\"text-align: right;\">\n",
       "      <th></th>\n",
       "      <th>end_time</th>\n",
       "      <th>start_time</th>\n",
       "      <th>time_spent\n",
       "H:MM</th>\n",
       "      <th>type</th>\n",
       "    </tr>\n",
       "  </thead>\n",
       "  <tbody>\n",
       "    <tr>\n",
       "      <th>0</th>\n",
       "      <td>10/6/2017 17:12</td>\n",
       "      <td>10/6/2017 12:28</td>\n",
       "      <td>4:44</td>\n",
       "      <td>place 1</td>\n",
       "    </tr>\n",
       "    <tr>\n",
       "      <th>1</th>\n",
       "      <td>11/9/2017 14:57</td>\n",
       "      <td>11/9/2017 13:00</td>\n",
       "      <td>1:57</td>\n",
       "      <td>place 1</td>\n",
       "    </tr>\n",
       "  </tbody>\n",
       "</table>\n",
       "</div>"
      ],
      "text/plain": [
       "          end_time       start_time time_spent\\nH:MM     type\n",
       "0  10/6/2017 17:12  10/6/2017 12:28             4:44  place 1\n",
       "1  11/9/2017 14:57  11/9/2017 13:00             1:57  place 1"
      ]
     },
     "execution_count": 57,
     "metadata": {},
     "output_type": "execute_result"
    }
   ],
   "source": [
    "location.head(2)"
   ]
  },
  {
   "cell_type": "code",
   "execution_count": 62,
   "metadata": {},
   "outputs": [],
   "source": [
    "location_1 = location.loc[:,(\"end_time\", \"type\")]"
   ]
  },
  {
   "cell_type": "code",
   "execution_count": 63,
   "metadata": {},
   "outputs": [
    {
     "data": {
      "text/plain": [
       "str"
      ]
     },
     "execution_count": 63,
     "metadata": {},
     "output_type": "execute_result"
    }
   ],
   "source": [
    "type(location_1.loc[0,\"end_time\"])\n"
   ]
  },
  {
   "cell_type": "code",
   "execution_count": 64,
   "metadata": {},
   "outputs": [
    {
     "data": {
      "text/plain": [
       "(['10/6/2017', '17:12'], [0])"
      ]
     },
     "execution_count": 64,
     "metadata": {},
     "output_type": "execute_result"
    }
   ],
   "source": [
    "location_1.loc[0, \"end_time\"].split(\" \"),[0]\n"
   ]
  },
  {
   "cell_type": "code",
   "execution_count": 65,
   "metadata": {},
   "outputs": [],
   "source": [
    "location_1[\"end_time\"] = location_1[\"end_time\"].apply(lambda x: x.split(\" \")[0])"
   ]
  },
  {
   "cell_type": "code",
   "execution_count": 152,
   "metadata": {},
   "outputs": [
    {
     "data": {
      "text/html": [
       "<div>\n",
       "<style scoped>\n",
       "    .dataframe tbody tr th:only-of-type {\n",
       "        vertical-align: middle;\n",
       "    }\n",
       "\n",
       "    .dataframe tbody tr th {\n",
       "        vertical-align: top;\n",
       "    }\n",
       "\n",
       "    .dataframe thead th {\n",
       "        text-align: right;\n",
       "    }\n",
       "</style>\n",
       "<table border=\"1\" class=\"dataframe\">\n",
       "  <thead>\n",
       "    <tr style=\"text-align: right;\">\n",
       "      <th></th>\n",
       "      <th>end_time</th>\n",
       "      <th>type</th>\n",
       "    </tr>\n",
       "  </thead>\n",
       "  <tbody>\n",
       "    <tr>\n",
       "      <th>0</th>\n",
       "      <td>10/6/2017</td>\n",
       "      <td>place 1</td>\n",
       "    </tr>\n",
       "    <tr>\n",
       "      <th>1</th>\n",
       "      <td>11/9/2017</td>\n",
       "      <td>place 1</td>\n",
       "    </tr>\n",
       "  </tbody>\n",
       "</table>\n",
       "</div>"
      ],
      "text/plain": [
       "    end_time     type\n",
       "0  10/6/2017  place 1\n",
       "1  11/9/2017  place 1"
      ]
     },
     "execution_count": 152,
     "metadata": {},
     "output_type": "execute_result"
    }
   ],
   "source": [
    "location_1.head(2)"
   ]
  },
  {
   "cell_type": "markdown",
   "metadata": {},
   "source": [
    "##### Merging cgm, beddit and locations tables with relation to time"
   ]
  },
  {
   "cell_type": "code",
   "execution_count": 68,
   "metadata": {},
   "outputs": [],
   "source": [
    "cgm_beddit_location = cgm_beddit.merge(location_1, how= \"inner\", left_on = \"date\", right_on = \"end_time\")"
   ]
  },
  {
   "cell_type": "code",
   "execution_count": 84,
   "metadata": {},
   "outputs": [
    {
     "data": {
      "text/html": [
       "<div>\n",
       "<style scoped>\n",
       "    .dataframe tbody tr th:only-of-type {\n",
       "        vertical-align: middle;\n",
       "    }\n",
       "\n",
       "    .dataframe tbody tr th {\n",
       "        vertical-align: top;\n",
       "    }\n",
       "\n",
       "    .dataframe thead th {\n",
       "        text-align: right;\n",
       "    }\n",
       "</style>\n",
       "<table border=\"1\" class=\"dataframe\">\n",
       "  <thead>\n",
       "    <tr style=\"text-align: right;\">\n",
       "      <th></th>\n",
       "      <th>date</th>\n",
       "      <th>Historic_ Glucose</th>\n",
       "      <th>sleep_duration</th>\n",
       "      <th>away_duration</th>\n",
       "      <th>wake_duration</th>\n",
       "      <th>end_time</th>\n",
       "      <th>type</th>\n",
       "    </tr>\n",
       "  </thead>\n",
       "  <tbody>\n",
       "    <tr>\n",
       "      <th>0</th>\n",
       "      <td>10/10/2017</td>\n",
       "      <td>171.954545</td>\n",
       "      <td>26717</td>\n",
       "      <td>0</td>\n",
       "      <td>0</td>\n",
       "      <td>10/10/2017</td>\n",
       "      <td>place 1</td>\n",
       "    </tr>\n",
       "    <tr>\n",
       "      <th>1</th>\n",
       "      <td>10/10/2017</td>\n",
       "      <td>171.954545</td>\n",
       "      <td>26717</td>\n",
       "      <td>0</td>\n",
       "      <td>0</td>\n",
       "      <td>10/10/2017</td>\n",
       "      <td>place 1</td>\n",
       "    </tr>\n",
       "  </tbody>\n",
       "</table>\n",
       "</div>"
      ],
      "text/plain": [
       "         date  Historic_ Glucose  sleep_duration  away_duration  \\\n",
       "0  10/10/2017         171.954545           26717              0   \n",
       "1  10/10/2017         171.954545           26717              0   \n",
       "\n",
       "   wake_duration    end_time     type  \n",
       "0              0  10/10/2017  place 1  \n",
       "1              0  10/10/2017  place 1  "
      ]
     },
     "execution_count": 84,
     "metadata": {},
     "output_type": "execute_result"
    }
   ],
   "source": [
    "cgm_beddit_location.head(2)"
   ]
  },
  {
   "cell_type": "code",
   "execution_count": 163,
   "metadata": {},
   "outputs": [
    {
     "data": {
      "text/plain": [
       "(171, 7)"
      ]
     },
     "execution_count": 163,
     "metadata": {},
     "output_type": "execute_result"
    }
   ],
   "source": [
    "cgm_beddit_location.shape"
   ]
  },
  {
   "cell_type": "markdown",
   "metadata": {},
   "source": [
    "##### loading and processing steps data"
   ]
  },
  {
   "cell_type": "code",
   "execution_count": 153,
   "metadata": {},
   "outputs": [
    {
     "data": {
      "text/html": [
       "<div>\n",
       "<style scoped>\n",
       "    .dataframe tbody tr th:only-of-type {\n",
       "        vertical-align: middle;\n",
       "    }\n",
       "\n",
       "    .dataframe tbody tr th {\n",
       "        vertical-align: top;\n",
       "    }\n",
       "\n",
       "    .dataframe thead th {\n",
       "        text-align: right;\n",
       "    }\n",
       "</style>\n",
       "<table border=\"1\" class=\"dataframe\">\n",
       "  <thead>\n",
       "    <tr style=\"text-align: right;\">\n",
       "      <th></th>\n",
       "      <th>date</th>\n",
       "      <th>Time</th>\n",
       "      <th>active_time</th>\n",
       "      <th>distance</th>\n",
       "      <th>steps</th>\n",
       "    </tr>\n",
       "  </thead>\n",
       "  <tbody>\n",
       "    <tr>\n",
       "      <th>0</th>\n",
       "      <td>10/29/2017 0:00</td>\n",
       "      <td>8:36:00 PM</td>\n",
       "      <td>5035</td>\n",
       "      <td>6741</td>\n",
       "      <td>8897</td>\n",
       "    </tr>\n",
       "    <tr>\n",
       "      <th>1</th>\n",
       "      <td>10/28/2017 0:00</td>\n",
       "      <td>7:26:00 PM</td>\n",
       "      <td>4527</td>\n",
       "      <td>5389</td>\n",
       "      <td>7486</td>\n",
       "    </tr>\n",
       "  </tbody>\n",
       "</table>\n",
       "</div>"
      ],
      "text/plain": [
       "              date        Time  active_time  distance  steps\n",
       "0  10/29/2017 0:00  8:36:00 PM         5035      6741   8897\n",
       "1  10/28/2017 0:00  7:26:00 PM         4527      5389   7486"
      ]
     },
     "execution_count": 153,
     "metadata": {},
     "output_type": "execute_result"
    }
   ],
   "source": [
    "steps.head(2)"
   ]
  },
  {
   "cell_type": "code",
   "execution_count": 164,
   "metadata": {},
   "outputs": [
    {
     "data": {
      "text/plain": [
       "str"
      ]
     },
     "execution_count": 164,
     "metadata": {},
     "output_type": "execute_result"
    }
   ],
   "source": [
    "type(steps.loc[0,\"date\"])"
   ]
  },
  {
   "cell_type": "code",
   "execution_count": 166,
   "metadata": {},
   "outputs": [
    {
     "data": {
      "text/plain": [
       "'10/29/2017'"
      ]
     },
     "execution_count": 166,
     "metadata": {},
     "output_type": "execute_result"
    }
   ],
   "source": [
    "steps.loc[0,\"date\"].split(\" \")[0]"
   ]
  },
  {
   "cell_type": "code",
   "execution_count": 167,
   "metadata": {},
   "outputs": [
    {
     "data": {
      "text/html": [
       "<div>\n",
       "<style scoped>\n",
       "    .dataframe tbody tr th:only-of-type {\n",
       "        vertical-align: middle;\n",
       "    }\n",
       "\n",
       "    .dataframe tbody tr th {\n",
       "        vertical-align: top;\n",
       "    }\n",
       "\n",
       "    .dataframe thead th {\n",
       "        text-align: right;\n",
       "    }\n",
       "</style>\n",
       "<table border=\"1\" class=\"dataframe\">\n",
       "  <thead>\n",
       "    <tr style=\"text-align: right;\">\n",
       "      <th></th>\n",
       "      <th>date</th>\n",
       "      <th>Time</th>\n",
       "      <th>active_time</th>\n",
       "      <th>distance</th>\n",
       "      <th>steps</th>\n",
       "    </tr>\n",
       "  </thead>\n",
       "  <tbody>\n",
       "    <tr>\n",
       "      <th>0</th>\n",
       "      <td>10/29/2017</td>\n",
       "      <td>8:36:00 PM</td>\n",
       "      <td>5035</td>\n",
       "      <td>6741</td>\n",
       "      <td>8897</td>\n",
       "    </tr>\n",
       "    <tr>\n",
       "      <th>1</th>\n",
       "      <td>10/28/2017</td>\n",
       "      <td>7:26:00 PM</td>\n",
       "      <td>4527</td>\n",
       "      <td>5389</td>\n",
       "      <td>7486</td>\n",
       "    </tr>\n",
       "  </tbody>\n",
       "</table>\n",
       "</div>"
      ],
      "text/plain": [
       "         date        Time  active_time  distance  steps\n",
       "0  10/29/2017  8:36:00 PM         5035      6741   8897\n",
       "1  10/28/2017  7:26:00 PM         4527      5389   7486"
      ]
     },
     "execution_count": 167,
     "metadata": {},
     "output_type": "execute_result"
    }
   ],
   "source": [
    "steps[\"date\"] = steps[\"date\"].apply(lambda x: x.split(\" \")[0])\n",
    "steps.head(2)"
   ]
  },
  {
   "cell_type": "code",
   "execution_count": 168,
   "metadata": {},
   "outputs": [],
   "source": [
    "cgm_beddit_location_steps = cgm_beddit_location.merge (steps, how = \"inner\", right_on = \"date\", left_on = \"date\")"
   ]
  },
  {
   "cell_type": "code",
   "execution_count": 172,
   "metadata": {},
   "outputs": [
    {
     "data": {
      "text/plain": [
       "(144, 11)"
      ]
     },
     "execution_count": 172,
     "metadata": {},
     "output_type": "execute_result"
    }
   ],
   "source": [
    "cgm_beddit_location_steps.shape"
   ]
  },
  {
   "cell_type": "markdown",
   "metadata": {},
   "source": [
    "##### the final master table joined by date in the \"cgm\" data and related to corresponding other data points"
   ]
  },
  {
   "cell_type": "code",
   "execution_count": 170,
   "metadata": {},
   "outputs": [
    {
     "data": {
      "text/html": [
       "<div>\n",
       "<style scoped>\n",
       "    .dataframe tbody tr th:only-of-type {\n",
       "        vertical-align: middle;\n",
       "    }\n",
       "\n",
       "    .dataframe tbody tr th {\n",
       "        vertical-align: top;\n",
       "    }\n",
       "\n",
       "    .dataframe thead th {\n",
       "        text-align: right;\n",
       "    }\n",
       "</style>\n",
       "<table border=\"1\" class=\"dataframe\">\n",
       "  <thead>\n",
       "    <tr style=\"text-align: right;\">\n",
       "      <th></th>\n",
       "      <th>date</th>\n",
       "      <th>Historic_ Glucose</th>\n",
       "      <th>sleep_duration</th>\n",
       "      <th>away_duration</th>\n",
       "      <th>wake_duration</th>\n",
       "      <th>end_time</th>\n",
       "      <th>type</th>\n",
       "      <th>Time</th>\n",
       "      <th>active_time</th>\n",
       "      <th>distance</th>\n",
       "      <th>steps</th>\n",
       "    </tr>\n",
       "  </thead>\n",
       "  <tbody>\n",
       "    <tr>\n",
       "      <th>0</th>\n",
       "      <td>10/10/2017</td>\n",
       "      <td>171.954545</td>\n",
       "      <td>26717</td>\n",
       "      <td>0</td>\n",
       "      <td>0</td>\n",
       "      <td>10/10/2017</td>\n",
       "      <td>place 1</td>\n",
       "      <td>8:04:00 PM</td>\n",
       "      <td>7548</td>\n",
       "      <td>10671</td>\n",
       "      <td>13786</td>\n",
       "    </tr>\n",
       "    <tr>\n",
       "      <th>1</th>\n",
       "      <td>10/10/2017</td>\n",
       "      <td>171.954545</td>\n",
       "      <td>26717</td>\n",
       "      <td>0</td>\n",
       "      <td>0</td>\n",
       "      <td>10/10/2017</td>\n",
       "      <td>place 1</td>\n",
       "      <td>8:04:00 PM</td>\n",
       "      <td>7548</td>\n",
       "      <td>10671</td>\n",
       "      <td>13786</td>\n",
       "    </tr>\n",
       "  </tbody>\n",
       "</table>\n",
       "</div>"
      ],
      "text/plain": [
       "         date  Historic_ Glucose  sleep_duration  away_duration  \\\n",
       "0  10/10/2017         171.954545           26717              0   \n",
       "1  10/10/2017         171.954545           26717              0   \n",
       "\n",
       "   wake_duration    end_time     type        Time  active_time  distance  \\\n",
       "0              0  10/10/2017  place 1  8:04:00 PM         7548     10671   \n",
       "1              0  10/10/2017  place 1  8:04:00 PM         7548     10671   \n",
       "\n",
       "   steps  \n",
       "0  13786  \n",
       "1  13786  "
      ]
     },
     "execution_count": 170,
     "metadata": {},
     "output_type": "execute_result"
    }
   ],
   "source": [
    "cgm_beddit_location_steps.head(2)"
   ]
  },
  {
   "cell_type": "code",
   "execution_count": null,
   "metadata": {},
   "outputs": [],
   "source": []
  },
  {
   "cell_type": "code",
   "execution_count": 103,
   "metadata": {},
   "outputs": [],
   "source": [
    "##beddit data grouped by end date\n",
    "##beddit.groupby('end_timestamp_date').groups.keys()\n",
    "###beddit_end_date_mean = beddit.groupby('end_timestamp_date')['sleep_duration','wake_duration'].mean()\n",
    "###print (beddit_end_date_mean)\n"
   ]
  },
  {
   "cell_type": "code",
   "execution_count": 104,
   "metadata": {},
   "outputs": [],
   "source": [
    "#applying lambda function\n",
    "\n",
    "#cgm['Time'].apply(lambda x:datetime.strptime(x,'%m/%d/%Y 0:00'))\n"
   ]
  },
  {
   "cell_type": "code",
   "execution_count": null,
   "metadata": {},
   "outputs": [],
   "source": [
    "#merging the two tables with the common dates and using other columns as references"
   ]
  },
  {
   "cell_type": "code",
   "execution_count": 105,
   "metadata": {},
   "outputs": [],
   "source": [
    "#beddit_end_date_mean.merge(cgm_date_mean.to_frame(),left_on=[\"end_timestamp_date\"], right_on=[''],how ='inner')\n",
    "##df1.merge(df2[['*.S']].to_frame(), left_on='id', right_index=True)"
   ]
  },
  {
   "cell_type": "code",
   "execution_count": 63,
   "metadata": {},
   "outputs": [
    {
     "name": "stderr",
     "output_type": "stream",
     "text": [
      "C:\\Users\\Arunakiry Natarajan\\Anaconda3\\lib\\site-packages\\ipykernel_launcher.py:1: FutureWarning: 'date' is both a column name and an index level.\n",
      "Defaulting to column but this will raise an ambiguity error in a future version\n",
      "  \"\"\"Entry point for launching an IPython kernel.\n"
     ]
    },
    {
     "data": {
      "text/html": [
       "<div>\n",
       "<style scoped>\n",
       "    .dataframe tbody tr th:only-of-type {\n",
       "        vertical-align: middle;\n",
       "    }\n",
       "\n",
       "    .dataframe tbody tr th {\n",
       "        vertical-align: top;\n",
       "    }\n",
       "\n",
       "    .dataframe thead th {\n",
       "        text-align: right;\n",
       "    }\n",
       "</style>\n",
       "<table border=\"1\" class=\"dataframe\">\n",
       "  <thead>\n",
       "    <tr style=\"text-align: right;\">\n",
       "      <th></th>\n",
       "      <th>Historic_ Glucose</th>\n",
       "      <th>Scan_Glucose</th>\n",
       "      <th>am/pm</th>\n",
       "      <th>date</th>\n",
       "      <th>time</th>\n",
       "    </tr>\n",
       "    <tr>\n",
       "      <th>date</th>\n",
       "      <th></th>\n",
       "      <th></th>\n",
       "      <th></th>\n",
       "      <th></th>\n",
       "      <th></th>\n",
       "    </tr>\n",
       "  </thead>\n",
       "  <tbody>\n",
       "    <tr>\n",
       "      <th>10/1/2017 0:00</th>\n",
       "      <td>72.0</td>\n",
       "      <td>0.0</td>\n",
       "      <td>PM</td>\n",
       "      <td>10/1/2017 0:00</td>\n",
       "      <td>6:34</td>\n",
       "    </tr>\n",
       "    <tr>\n",
       "      <th>10/1/2017 0:00</th>\n",
       "      <td>63.0</td>\n",
       "      <td>0.0</td>\n",
       "      <td>PM</td>\n",
       "      <td>10/1/2017 0:00</td>\n",
       "      <td>6:49</td>\n",
       "    </tr>\n",
       "    <tr>\n",
       "      <th>10/1/2017 0:00</th>\n",
       "      <td>0.0</td>\n",
       "      <td>92.0</td>\n",
       "      <td>PM</td>\n",
       "      <td>10/1/2017 0:00</td>\n",
       "      <td>7:17</td>\n",
       "    </tr>\n",
       "    <tr>\n",
       "      <th>10/1/2017 0:00</th>\n",
       "      <td>74.0</td>\n",
       "      <td>0.0</td>\n",
       "      <td>PM</td>\n",
       "      <td>10/1/2017 0:00</td>\n",
       "      <td>7:05</td>\n",
       "    </tr>\n",
       "    <tr>\n",
       "      <th>10/1/2017 0:00</th>\n",
       "      <td>0.0</td>\n",
       "      <td>95.0</td>\n",
       "      <td>PM</td>\n",
       "      <td>10/1/2017 0:00</td>\n",
       "      <td>7:28</td>\n",
       "    </tr>\n",
       "    <tr>\n",
       "      <th>10/1/2017 0:00</th>\n",
       "      <td>93.0</td>\n",
       "      <td>0.0</td>\n",
       "      <td>PM</td>\n",
       "      <td>10/1/2017 0:00</td>\n",
       "      <td>7:19</td>\n",
       "    </tr>\n",
       "    <tr>\n",
       "      <th>10/1/2017 0:00</th>\n",
       "      <td>91.0</td>\n",
       "      <td>0.0</td>\n",
       "      <td>PM</td>\n",
       "      <td>10/1/2017 0:00</td>\n",
       "      <td>7:34</td>\n",
       "    </tr>\n",
       "    <tr>\n",
       "      <th>10/1/2017 0:00</th>\n",
       "      <td>86.0</td>\n",
       "      <td>0.0</td>\n",
       "      <td>PM</td>\n",
       "      <td>10/1/2017 0:00</td>\n",
       "      <td>7:49</td>\n",
       "    </tr>\n",
       "    <tr>\n",
       "      <th>10/1/2017 0:00</th>\n",
       "      <td>82.0</td>\n",
       "      <td>0.0</td>\n",
       "      <td>PM</td>\n",
       "      <td>10/1/2017 0:00</td>\n",
       "      <td>8:04</td>\n",
       "    </tr>\n",
       "    <tr>\n",
       "      <th>10/1/2017 0:00</th>\n",
       "      <td>74.0</td>\n",
       "      <td>0.0</td>\n",
       "      <td>PM</td>\n",
       "      <td>10/1/2017 0:00</td>\n",
       "      <td>8:19</td>\n",
       "    </tr>\n",
       "    <tr>\n",
       "      <th>10/1/2017 0:00</th>\n",
       "      <td>68.0</td>\n",
       "      <td>0.0</td>\n",
       "      <td>PM</td>\n",
       "      <td>10/1/2017 0:00</td>\n",
       "      <td>8:34</td>\n",
       "    </tr>\n",
       "    <tr>\n",
       "      <th>10/1/2017 0:00</th>\n",
       "      <td>67.0</td>\n",
       "      <td>0.0</td>\n",
       "      <td>PM</td>\n",
       "      <td>10/1/2017 0:00</td>\n",
       "      <td>8:49</td>\n",
       "    </tr>\n",
       "    <tr>\n",
       "      <th>10/1/2017 0:00</th>\n",
       "      <td>75.0</td>\n",
       "      <td>0.0</td>\n",
       "      <td>PM</td>\n",
       "      <td>10/1/2017 0:00</td>\n",
       "      <td>9:04</td>\n",
       "    </tr>\n",
       "    <tr>\n",
       "      <th>10/1/2017 0:00</th>\n",
       "      <td>0.0</td>\n",
       "      <td>107.0</td>\n",
       "      <td>PM</td>\n",
       "      <td>10/1/2017 0:00</td>\n",
       "      <td>9:27</td>\n",
       "    </tr>\n",
       "    <tr>\n",
       "      <th>10/1/2017 0:00</th>\n",
       "      <td>96.0</td>\n",
       "      <td>0.0</td>\n",
       "      <td>PM</td>\n",
       "      <td>10/1/2017 0:00</td>\n",
       "      <td>9:19</td>\n",
       "    </tr>\n",
       "    <tr>\n",
       "      <th>10/1/2017 0:00</th>\n",
       "      <td>116.0</td>\n",
       "      <td>0.0</td>\n",
       "      <td>PM</td>\n",
       "      <td>10/1/2017 0:00</td>\n",
       "      <td>9:34</td>\n",
       "    </tr>\n",
       "    <tr>\n",
       "      <th>10/1/2017 0:00</th>\n",
       "      <td>121.0</td>\n",
       "      <td>0.0</td>\n",
       "      <td>PM</td>\n",
       "      <td>10/1/2017 0:00</td>\n",
       "      <td>9:49</td>\n",
       "    </tr>\n",
       "    <tr>\n",
       "      <th>10/1/2017 0:00</th>\n",
       "      <td>106.0</td>\n",
       "      <td>0.0</td>\n",
       "      <td>PM</td>\n",
       "      <td>10/1/2017 0:00</td>\n",
       "      <td>10:04</td>\n",
       "    </tr>\n",
       "    <tr>\n",
       "      <th>10/1/2017 0:00</th>\n",
       "      <td>83.0</td>\n",
       "      <td>0.0</td>\n",
       "      <td>PM</td>\n",
       "      <td>10/1/2017 0:00</td>\n",
       "      <td>10:19</td>\n",
       "    </tr>\n",
       "    <tr>\n",
       "      <th>10/1/2017 0:00</th>\n",
       "      <td>0.0</td>\n",
       "      <td>77.0</td>\n",
       "      <td>PM</td>\n",
       "      <td>10/1/2017 0:00</td>\n",
       "      <td>10:46</td>\n",
       "    </tr>\n",
       "    <tr>\n",
       "      <th>10/2/2017 0:00</th>\n",
       "      <td>44.0</td>\n",
       "      <td>0.0</td>\n",
       "      <td>AM</td>\n",
       "      <td>10/2/2017 0:00</td>\n",
       "      <td>12:02</td>\n",
       "    </tr>\n",
       "    <tr>\n",
       "      <th>10/2/2017 0:00</th>\n",
       "      <td>48.0</td>\n",
       "      <td>0.0</td>\n",
       "      <td>AM</td>\n",
       "      <td>10/2/2017 0:00</td>\n",
       "      <td>12:17</td>\n",
       "    </tr>\n",
       "    <tr>\n",
       "      <th>10/2/2017 0:00</th>\n",
       "      <td>54.0</td>\n",
       "      <td>0.0</td>\n",
       "      <td>AM</td>\n",
       "      <td>10/2/2017 0:00</td>\n",
       "      <td>12:32</td>\n",
       "    </tr>\n",
       "    <tr>\n",
       "      <th>10/2/2017 0:00</th>\n",
       "      <td>63.0</td>\n",
       "      <td>0.0</td>\n",
       "      <td>AM</td>\n",
       "      <td>10/2/2017 0:00</td>\n",
       "      <td>12:47</td>\n",
       "    </tr>\n",
       "    <tr>\n",
       "      <th>10/2/2017 0:00</th>\n",
       "      <td>73.0</td>\n",
       "      <td>0.0</td>\n",
       "      <td>AM</td>\n",
       "      <td>10/2/2017 0:00</td>\n",
       "      <td>1:02</td>\n",
       "    </tr>\n",
       "    <tr>\n",
       "      <th>10/2/2017 0:00</th>\n",
       "      <td>84.0</td>\n",
       "      <td>0.0</td>\n",
       "      <td>AM</td>\n",
       "      <td>10/2/2017 0:00</td>\n",
       "      <td>1:17</td>\n",
       "    </tr>\n",
       "    <tr>\n",
       "      <th>10/2/2017 0:00</th>\n",
       "      <td>95.0</td>\n",
       "      <td>0.0</td>\n",
       "      <td>AM</td>\n",
       "      <td>10/2/2017 0:00</td>\n",
       "      <td>1:32</td>\n",
       "    </tr>\n",
       "    <tr>\n",
       "      <th>10/2/2017 0:00</th>\n",
       "      <td>95.0</td>\n",
       "      <td>0.0</td>\n",
       "      <td>AM</td>\n",
       "      <td>10/2/2017 0:00</td>\n",
       "      <td>1:47</td>\n",
       "    </tr>\n",
       "    <tr>\n",
       "      <th>10/2/2017 0:00</th>\n",
       "      <td>91.0</td>\n",
       "      <td>0.0</td>\n",
       "      <td>AM</td>\n",
       "      <td>10/2/2017 0:00</td>\n",
       "      <td>2:02</td>\n",
       "    </tr>\n",
       "    <tr>\n",
       "      <th>10/2/2017 0:00</th>\n",
       "      <td>97.0</td>\n",
       "      <td>0.0</td>\n",
       "      <td>AM</td>\n",
       "      <td>10/2/2017 0:00</td>\n",
       "      <td>2:17</td>\n",
       "    </tr>\n",
       "    <tr>\n",
       "      <th>...</th>\n",
       "      <td>...</td>\n",
       "      <td>...</td>\n",
       "      <td>...</td>\n",
       "      <td>...</td>\n",
       "      <td>...</td>\n",
       "    </tr>\n",
       "    <tr>\n",
       "      <th>12/5/2017 0:00</th>\n",
       "      <td>0.0</td>\n",
       "      <td>134.0</td>\n",
       "      <td>PM</td>\n",
       "      <td>12/5/2017 0:00</td>\n",
       "      <td>1:59</td>\n",
       "    </tr>\n",
       "    <tr>\n",
       "      <th>12/5/2017 0:00</th>\n",
       "      <td>131.0</td>\n",
       "      <td>0.0</td>\n",
       "      <td>PM</td>\n",
       "      <td>12/5/2017 0:00</td>\n",
       "      <td>1:51</td>\n",
       "    </tr>\n",
       "    <tr>\n",
       "      <th>12/5/2017 0:00</th>\n",
       "      <td>126.0</td>\n",
       "      <td>0.0</td>\n",
       "      <td>PM</td>\n",
       "      <td>12/5/2017 0:00</td>\n",
       "      <td>2:06</td>\n",
       "    </tr>\n",
       "    <tr>\n",
       "      <th>12/5/2017 0:00</th>\n",
       "      <td>133.0</td>\n",
       "      <td>0.0</td>\n",
       "      <td>PM</td>\n",
       "      <td>12/5/2017 0:00</td>\n",
       "      <td>2:21</td>\n",
       "    </tr>\n",
       "    <tr>\n",
       "      <th>12/5/2017 0:00</th>\n",
       "      <td>114.0</td>\n",
       "      <td>0.0</td>\n",
       "      <td>PM</td>\n",
       "      <td>12/5/2017 0:00</td>\n",
       "      <td>2:36</td>\n",
       "    </tr>\n",
       "    <tr>\n",
       "      <th>12/5/2017 0:00</th>\n",
       "      <td>0.0</td>\n",
       "      <td>103.0</td>\n",
       "      <td>PM</td>\n",
       "      <td>12/5/2017 0:00</td>\n",
       "      <td>2:58</td>\n",
       "    </tr>\n",
       "    <tr>\n",
       "      <th>12/5/2017 0:00</th>\n",
       "      <td>102.0</td>\n",
       "      <td>0.0</td>\n",
       "      <td>PM</td>\n",
       "      <td>12/5/2017 0:00</td>\n",
       "      <td>2:51</td>\n",
       "    </tr>\n",
       "    <tr>\n",
       "      <th>12/5/2017 0:00</th>\n",
       "      <td>101.0</td>\n",
       "      <td>0.0</td>\n",
       "      <td>PM</td>\n",
       "      <td>12/5/2017 0:00</td>\n",
       "      <td>3:06</td>\n",
       "    </tr>\n",
       "    <tr>\n",
       "      <th>12/5/2017 0:00</th>\n",
       "      <td>94.0</td>\n",
       "      <td>0.0</td>\n",
       "      <td>PM</td>\n",
       "      <td>12/5/2017 0:00</td>\n",
       "      <td>3:21</td>\n",
       "    </tr>\n",
       "    <tr>\n",
       "      <th>12/5/2017 0:00</th>\n",
       "      <td>97.0</td>\n",
       "      <td>0.0</td>\n",
       "      <td>PM</td>\n",
       "      <td>12/5/2017 0:00</td>\n",
       "      <td>3:36</td>\n",
       "    </tr>\n",
       "    <tr>\n",
       "      <th>12/5/2017 0:00</th>\n",
       "      <td>104.0</td>\n",
       "      <td>0.0</td>\n",
       "      <td>PM</td>\n",
       "      <td>12/5/2017 0:00</td>\n",
       "      <td>3:51</td>\n",
       "    </tr>\n",
       "    <tr>\n",
       "      <th>12/5/2017 0:00</th>\n",
       "      <td>0.0</td>\n",
       "      <td>134.0</td>\n",
       "      <td>PM</td>\n",
       "      <td>12/5/2017 0:00</td>\n",
       "      <td>4:14</td>\n",
       "    </tr>\n",
       "    <tr>\n",
       "      <th>12/5/2017 0:00</th>\n",
       "      <td>123.0</td>\n",
       "      <td>0.0</td>\n",
       "      <td>PM</td>\n",
       "      <td>12/5/2017 0:00</td>\n",
       "      <td>4:06</td>\n",
       "    </tr>\n",
       "    <tr>\n",
       "      <th>12/5/2017 0:00</th>\n",
       "      <td>150.0</td>\n",
       "      <td>0.0</td>\n",
       "      <td>PM</td>\n",
       "      <td>12/5/2017 0:00</td>\n",
       "      <td>4:21</td>\n",
       "    </tr>\n",
       "    <tr>\n",
       "      <th>12/5/2017 0:00</th>\n",
       "      <td>164.0</td>\n",
       "      <td>0.0</td>\n",
       "      <td>PM</td>\n",
       "      <td>12/5/2017 0:00</td>\n",
       "      <td>4:36</td>\n",
       "    </tr>\n",
       "    <tr>\n",
       "      <th>12/5/2017 0:00</th>\n",
       "      <td>163.0</td>\n",
       "      <td>0.0</td>\n",
       "      <td>PM</td>\n",
       "      <td>12/5/2017 0:00</td>\n",
       "      <td>4:51</td>\n",
       "    </tr>\n",
       "    <tr>\n",
       "      <th>12/5/2017 0:00</th>\n",
       "      <td>144.0</td>\n",
       "      <td>0.0</td>\n",
       "      <td>PM</td>\n",
       "      <td>12/5/2017 0:00</td>\n",
       "      <td>5:06</td>\n",
       "    </tr>\n",
       "    <tr>\n",
       "      <th>12/5/2017 0:00</th>\n",
       "      <td>123.0</td>\n",
       "      <td>0.0</td>\n",
       "      <td>PM</td>\n",
       "      <td>12/5/2017 0:00</td>\n",
       "      <td>5:21</td>\n",
       "    </tr>\n",
       "    <tr>\n",
       "      <th>12/5/2017 0:00</th>\n",
       "      <td>102.0</td>\n",
       "      <td>0.0</td>\n",
       "      <td>PM</td>\n",
       "      <td>12/5/2017 0:00</td>\n",
       "      <td>5:36</td>\n",
       "    </tr>\n",
       "    <tr>\n",
       "      <th>12/5/2017 0:00</th>\n",
       "      <td>85.0</td>\n",
       "      <td>0.0</td>\n",
       "      <td>PM</td>\n",
       "      <td>12/5/2017 0:00</td>\n",
       "      <td>5:51</td>\n",
       "    </tr>\n",
       "    <tr>\n",
       "      <th>12/5/2017 0:00</th>\n",
       "      <td>77.0</td>\n",
       "      <td>0.0</td>\n",
       "      <td>PM</td>\n",
       "      <td>12/5/2017 0:00</td>\n",
       "      <td>6:06</td>\n",
       "    </tr>\n",
       "    <tr>\n",
       "      <th>12/5/2017 0:00</th>\n",
       "      <td>76.0</td>\n",
       "      <td>0.0</td>\n",
       "      <td>PM</td>\n",
       "      <td>12/5/2017 0:00</td>\n",
       "      <td>6:21</td>\n",
       "    </tr>\n",
       "    <tr>\n",
       "      <th>12/5/2017 0:00</th>\n",
       "      <td>71.0</td>\n",
       "      <td>0.0</td>\n",
       "      <td>PM</td>\n",
       "      <td>12/5/2017 0:00</td>\n",
       "      <td>6:36</td>\n",
       "    </tr>\n",
       "    <tr>\n",
       "      <th>12/5/2017 0:00</th>\n",
       "      <td>0.0</td>\n",
       "      <td>100.0</td>\n",
       "      <td>PM</td>\n",
       "      <td>12/5/2017 0:00</td>\n",
       "      <td>6:52</td>\n",
       "    </tr>\n",
       "    <tr>\n",
       "      <th>12/5/2017 0:00</th>\n",
       "      <td>95.0</td>\n",
       "      <td>0.0</td>\n",
       "      <td>PM</td>\n",
       "      <td>12/5/2017 0:00</td>\n",
       "      <td>6:51</td>\n",
       "    </tr>\n",
       "    <tr>\n",
       "      <th>12/5/2017 0:00</th>\n",
       "      <td>101.0</td>\n",
       "      <td>0.0</td>\n",
       "      <td>PM</td>\n",
       "      <td>12/5/2017 0:00</td>\n",
       "      <td>7:06</td>\n",
       "    </tr>\n",
       "    <tr>\n",
       "      <th>12/5/2017 0:00</th>\n",
       "      <td>113.0</td>\n",
       "      <td>0.0</td>\n",
       "      <td>PM</td>\n",
       "      <td>12/5/2017 0:00</td>\n",
       "      <td>7:21</td>\n",
       "    </tr>\n",
       "    <tr>\n",
       "      <th>12/5/2017 0:00</th>\n",
       "      <td>129.0</td>\n",
       "      <td>0.0</td>\n",
       "      <td>PM</td>\n",
       "      <td>12/5/2017 0:00</td>\n",
       "      <td>7:36</td>\n",
       "    </tr>\n",
       "    <tr>\n",
       "      <th>12/5/2017 0:00</th>\n",
       "      <td>140.0</td>\n",
       "      <td>0.0</td>\n",
       "      <td>PM</td>\n",
       "      <td>12/5/2017 0:00</td>\n",
       "      <td>7:51</td>\n",
       "    </tr>\n",
       "    <tr>\n",
       "      <th>12/5/2017 0:00</th>\n",
       "      <td>0.0</td>\n",
       "      <td>147.0</td>\n",
       "      <td>PM</td>\n",
       "      <td>12/5/2017 0:00</td>\n",
       "      <td>8:07</td>\n",
       "    </tr>\n",
       "  </tbody>\n",
       "</table>\n",
       "<p>6838 rows × 5 columns</p>\n",
       "</div>"
      ],
      "text/plain": [
       "                Historic_ Glucose  Scan_Glucose am/pm            date   time\n",
       "date                                                                        \n",
       "10/1/2017 0:00               72.0           0.0    PM  10/1/2017 0:00   6:34\n",
       "10/1/2017 0:00               63.0           0.0    PM  10/1/2017 0:00   6:49\n",
       "10/1/2017 0:00                0.0          92.0    PM  10/1/2017 0:00   7:17\n",
       "10/1/2017 0:00               74.0           0.0    PM  10/1/2017 0:00   7:05\n",
       "10/1/2017 0:00                0.0          95.0    PM  10/1/2017 0:00   7:28\n",
       "10/1/2017 0:00               93.0           0.0    PM  10/1/2017 0:00   7:19\n",
       "10/1/2017 0:00               91.0           0.0    PM  10/1/2017 0:00   7:34\n",
       "10/1/2017 0:00               86.0           0.0    PM  10/1/2017 0:00   7:49\n",
       "10/1/2017 0:00               82.0           0.0    PM  10/1/2017 0:00   8:04\n",
       "10/1/2017 0:00               74.0           0.0    PM  10/1/2017 0:00   8:19\n",
       "10/1/2017 0:00               68.0           0.0    PM  10/1/2017 0:00   8:34\n",
       "10/1/2017 0:00               67.0           0.0    PM  10/1/2017 0:00   8:49\n",
       "10/1/2017 0:00               75.0           0.0    PM  10/1/2017 0:00   9:04\n",
       "10/1/2017 0:00                0.0         107.0    PM  10/1/2017 0:00   9:27\n",
       "10/1/2017 0:00               96.0           0.0    PM  10/1/2017 0:00   9:19\n",
       "10/1/2017 0:00              116.0           0.0    PM  10/1/2017 0:00   9:34\n",
       "10/1/2017 0:00              121.0           0.0    PM  10/1/2017 0:00   9:49\n",
       "10/1/2017 0:00              106.0           0.0    PM  10/1/2017 0:00  10:04\n",
       "10/1/2017 0:00               83.0           0.0    PM  10/1/2017 0:00  10:19\n",
       "10/1/2017 0:00                0.0          77.0    PM  10/1/2017 0:00  10:46\n",
       "10/2/2017 0:00               44.0           0.0    AM  10/2/2017 0:00  12:02\n",
       "10/2/2017 0:00               48.0           0.0    AM  10/2/2017 0:00  12:17\n",
       "10/2/2017 0:00               54.0           0.0    AM  10/2/2017 0:00  12:32\n",
       "10/2/2017 0:00               63.0           0.0    AM  10/2/2017 0:00  12:47\n",
       "10/2/2017 0:00               73.0           0.0    AM  10/2/2017 0:00   1:02\n",
       "10/2/2017 0:00               84.0           0.0    AM  10/2/2017 0:00   1:17\n",
       "10/2/2017 0:00               95.0           0.0    AM  10/2/2017 0:00   1:32\n",
       "10/2/2017 0:00               95.0           0.0    AM  10/2/2017 0:00   1:47\n",
       "10/2/2017 0:00               91.0           0.0    AM  10/2/2017 0:00   2:02\n",
       "10/2/2017 0:00               97.0           0.0    AM  10/2/2017 0:00   2:17\n",
       "...                           ...           ...   ...             ...    ...\n",
       "12/5/2017 0:00                0.0         134.0    PM  12/5/2017 0:00   1:59\n",
       "12/5/2017 0:00              131.0           0.0    PM  12/5/2017 0:00   1:51\n",
       "12/5/2017 0:00              126.0           0.0    PM  12/5/2017 0:00   2:06\n",
       "12/5/2017 0:00              133.0           0.0    PM  12/5/2017 0:00   2:21\n",
       "12/5/2017 0:00              114.0           0.0    PM  12/5/2017 0:00   2:36\n",
       "12/5/2017 0:00                0.0         103.0    PM  12/5/2017 0:00   2:58\n",
       "12/5/2017 0:00              102.0           0.0    PM  12/5/2017 0:00   2:51\n",
       "12/5/2017 0:00              101.0           0.0    PM  12/5/2017 0:00   3:06\n",
       "12/5/2017 0:00               94.0           0.0    PM  12/5/2017 0:00   3:21\n",
       "12/5/2017 0:00               97.0           0.0    PM  12/5/2017 0:00   3:36\n",
       "12/5/2017 0:00              104.0           0.0    PM  12/5/2017 0:00   3:51\n",
       "12/5/2017 0:00                0.0         134.0    PM  12/5/2017 0:00   4:14\n",
       "12/5/2017 0:00              123.0           0.0    PM  12/5/2017 0:00   4:06\n",
       "12/5/2017 0:00              150.0           0.0    PM  12/5/2017 0:00   4:21\n",
       "12/5/2017 0:00              164.0           0.0    PM  12/5/2017 0:00   4:36\n",
       "12/5/2017 0:00              163.0           0.0    PM  12/5/2017 0:00   4:51\n",
       "12/5/2017 0:00              144.0           0.0    PM  12/5/2017 0:00   5:06\n",
       "12/5/2017 0:00              123.0           0.0    PM  12/5/2017 0:00   5:21\n",
       "12/5/2017 0:00              102.0           0.0    PM  12/5/2017 0:00   5:36\n",
       "12/5/2017 0:00               85.0           0.0    PM  12/5/2017 0:00   5:51\n",
       "12/5/2017 0:00               77.0           0.0    PM  12/5/2017 0:00   6:06\n",
       "12/5/2017 0:00               76.0           0.0    PM  12/5/2017 0:00   6:21\n",
       "12/5/2017 0:00               71.0           0.0    PM  12/5/2017 0:00   6:36\n",
       "12/5/2017 0:00                0.0         100.0    PM  12/5/2017 0:00   6:52\n",
       "12/5/2017 0:00               95.0           0.0    PM  12/5/2017 0:00   6:51\n",
       "12/5/2017 0:00              101.0           0.0    PM  12/5/2017 0:00   7:06\n",
       "12/5/2017 0:00              113.0           0.0    PM  12/5/2017 0:00   7:21\n",
       "12/5/2017 0:00              129.0           0.0    PM  12/5/2017 0:00   7:36\n",
       "12/5/2017 0:00              140.0           0.0    PM  12/5/2017 0:00   7:51\n",
       "12/5/2017 0:00                0.0         147.0    PM  12/5/2017 0:00   8:07\n",
       "\n",
       "[6838 rows x 5 columns]"
      ]
     },
     "execution_count": 63,
     "metadata": {},
     "output_type": "execute_result"
    }
   ],
   "source": [
    "cgm.groupby(['date']).groups.keys()\n",
    "cgm.groupby(axis=1, level = 'date').sum()\n"
   ]
  },
  {
   "cell_type": "code",
   "execution_count": 106,
   "metadata": {},
   "outputs": [],
   "source": [
    "#cgm.between_time('10/1/2017 18:34','10/1/2017 23:59', include_start=True, include_end= True) \n",
    "\n"
   ]
  },
  {
   "cell_type": "code",
   "execution_count": 107,
   "metadata": {},
   "outputs": [],
   "source": [
    "#cgm['2017']"
   ]
  },
  {
   "cell_type": "code",
   "execution_count": 95,
   "metadata": {},
   "outputs": [
    {
     "name": "stdout",
     "output_type": "stream",
     "text": [
      "<function bin_1 at 0x00000282082DB2F0>\n"
     ]
    }
   ],
   "source": [
    "def bin_1(Time_Berlin):\n",
    "    h = Time_Berlin.time()\n",
    "    if h < 8:\n",
    "        return \"00:00-07:59\"\n",
    "    elif h < 16:\n",
    "        return \"08:00-15:59\"\n",
    "    else:\n",
    "        return \"16:00-23:59\"\n",
    "print (bin_1)\n"
   ]
  },
  {
   "cell_type": "code",
   "execution_count": 108,
   "metadata": {},
   "outputs": [],
   "source": [
    "#cgm[cgm.Historic_ Glucose =='12:30'], False"
   ]
  },
  {
   "cell_type": "code",
   "execution_count": 120,
   "metadata": {},
   "outputs": [
    {
     "data": {
      "text/plain": [
       "pandas.core.frame.DataFrame"
      ]
     },
     "execution_count": 120,
     "metadata": {},
     "output_type": "execute_result"
    }
   ],
   "source": [
    "type(cgm)"
   ]
  },
  {
   "cell_type": "code",
   "execution_count": 5,
   "metadata": {},
   "outputs": [
    {
     "ename": "SyntaxError",
     "evalue": "invalid syntax (<ipython-input-5-5a3105560644>, line 4)",
     "output_type": "error",
     "traceback": [
      "\u001b[1;36m  File \u001b[1;32m\"<ipython-input-5-5a3105560644>\"\u001b[1;36m, line \u001b[1;32m4\u001b[0m\n\u001b[1;33m    [10/1/2017 18:34, ..., 12/5/2017 20:07]\u001b[0m\n\u001b[1;37m                ^\u001b[0m\n\u001b[1;31mSyntaxError\u001b[0m\u001b[1;31m:\u001b[0m invalid syntax\n"
     ]
    }
   ],
   "source": [
    ">>>\n",
    ">>> date_range('10/1/2017','12/5/2017')\n",
    "\n",
    "[10/1/2017 18:34, ..., 12/5/2017 20:07]\n",
    "Length: 3, Freq: D, Timezone: None\n"
   ]
  },
  {
   "cell_type": "code",
   "execution_count": null,
   "metadata": {},
   "outputs": [],
   "source": []
  }
 ],
 "metadata": {
  "kernelspec": {
   "display_name": "Python 3",
   "language": "python",
   "name": "python3"
  },
  "language_info": {
   "codemirror_mode": {
    "name": "ipython",
    "version": 3
   },
   "file_extension": ".py",
   "mimetype": "text/x-python",
   "name": "python",
   "nbconvert_exporter": "python",
   "pygments_lexer": "ipython3",
   "version": "3.6.4"
  }
 },
 "nbformat": 4,
 "nbformat_minor": 2
}
